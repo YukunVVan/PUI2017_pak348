{
 "cells": [
  {
   "cell_type": "markdown",
   "metadata": {
    "run_control": {
     "frozen": false,
     "read_only": false
    },
    "toc": "true"
   },
   "source": [
    "# Table of Contents\n",
    " <p><div class=\"lev1 toc-item\"><a href=\"#Native-variable-types\" data-toc-modified-id=\"Native-variable-types-1\"><span class=\"toc-item-num\">1&nbsp;&nbsp;</span>Native variable types</a></div><div class=\"lev2 toc-item\"><a href=\"#strings,-int,-floats\" data-toc-modified-id=\"strings,-int,-floats-11\"><span class=\"toc-item-num\">1.1&nbsp;&nbsp;</span>strings, int, floats</a></div><div class=\"lev3 toc-item\"><a href=\"#print-formatting\" data-toc-modified-id=\"print-formatting-111\"><span class=\"toc-item-num\">1.1.1&nbsp;&nbsp;</span>print formatting</a></div><div class=\"lev2 toc-item\"><a href=\"#bool\" data-toc-modified-id=\"bool-12\"><span class=\"toc-item-num\">1.2&nbsp;&nbsp;</span>bool</a></div><div class=\"lev3 toc-item\"><a href=\"#if/else-statements-with-bools\" data-toc-modified-id=\"if/else-statements-with-bools-121\"><span class=\"toc-item-num\">1.2.1&nbsp;&nbsp;</span>if/else statements with bools</a></div><div class=\"lev3 toc-item\"><a href=\"#concatenating-bool-statements\" data-toc-modified-id=\"concatenating-bool-statements-122\"><span class=\"toc-item-num\">1.2.2&nbsp;&nbsp;</span>concatenating bool statements</a></div><div class=\"lev3 toc-item\"><a href=\"#math-with-bools\" data-toc-modified-id=\"math-with-bools-123\"><span class=\"toc-item-num\">1.2.3&nbsp;&nbsp;</span>math with bools</a></div><div class=\"lev2 toc-item\"><a href=\"#lists\" data-toc-modified-id=\"lists-13\"><span class=\"toc-item-num\">1.3&nbsp;&nbsp;</span>lists</a></div><div class=\"lev2 toc-item\"><a href=\"#dictionaries\" data-toc-modified-id=\"dictionaries-14\"><span class=\"toc-item-num\">1.4&nbsp;&nbsp;</span>dictionaries</a></div><div class=\"lev1 toc-item\"><a href=\"#IDE-other-than-jupyter-notebooks\" data-toc-modified-id=\"IDE-other-than-jupyter-notebooks-2\"><span class=\"toc-item-num\">2&nbsp;&nbsp;</span>IDE other than jupyter notebooks</a></div><div class=\"lev2 toc-item\"><a href=\"#python\" data-toc-modified-id=\"python-21\"><span class=\"toc-item-num\">2.1&nbsp;&nbsp;</span>python</a></div><div class=\"lev2 toc-item\"><a href=\"#ipython\" data-toc-modified-id=\"ipython-22\"><span class=\"toc-item-num\">2.2&nbsp;&nbsp;</span>ipython</a></div><div class=\"lev2 toc-item\"><a href=\"#execute-python-from-the-shell\" data-toc-modified-id=\"execute-python-from-the-shell-23\"><span class=\"toc-item-num\">2.3&nbsp;&nbsp;</span>execute python from the shell</a></div><div class=\"lev1 toc-item\"><a href=\"#Numpy-types\" data-toc-modified-id=\"Numpy-types-3\"><span class=\"toc-item-num\">3&nbsp;&nbsp;</span>Numpy types</a></div><div class=\"lev1 toc-item\"><a href=\"#numpy-arrays\" data-toc-modified-id=\"numpy-arrays-4\"><span class=\"toc-item-num\">4&nbsp;&nbsp;</span>numpy arrays</a></div><div class=\"lev1 toc-item\"><a href=\"#PART-2:-Slicing,-Broadcasting,-and-math-operators-on-arrays-and-lists\" data-toc-modified-id=\"PART-2:-Slicing,-Broadcasting,-and-math-operators-on-arrays-and-lists-5\"><span class=\"toc-item-num\">5&nbsp;&nbsp;</span>PART 2: Slicing, Broadcasting, and math operators on arrays and lists</a></div><div class=\"lev2 toc-item\"><a href=\"#operations-with-arrays\" data-toc-modified-id=\"operations-with-arrays-51\"><span class=\"toc-item-num\">5.1&nbsp;&nbsp;</span>operations with arrays</a></div><div class=\"lev2 toc-item\"><a href=\"#slicing\" data-toc-modified-id=\"slicing-52\"><span class=\"toc-item-num\">5.2&nbsp;&nbsp;</span>slicing</a></div><div class=\"lev1 toc-item\"><a href=\"#PART-3:-Functions\" data-toc-modified-id=\"PART-3:-Functions-6\"><span class=\"toc-item-num\">6&nbsp;&nbsp;</span>PART 3: Functions</a></div><div class=\"lev1 toc-item\"><a href=\"#file-IO\" data-toc-modified-id=\"file-IO-7\"><span class=\"toc-item-num\">7&nbsp;&nbsp;</span>file IO</a></div><div class=\"lev1 toc-item\"><a href=\"#PART-4:-multi-dimensional-arrays\" data-toc-modified-id=\"PART-4:-multi-dimensional-arrays-8\"><span class=\"toc-item-num\">8&nbsp;&nbsp;</span>PART 4: multi dimensional arrays</a></div><div class=\"lev1 toc-item\"><a href=\"#Part-5:--iterators---for-loops,-enumerate,-and-list-comprehensions\" data-toc-modified-id=\"Part-5:--iterators---for-loops,-enumerate,-and-list-comprehensions-9\"><span class=\"toc-item-num\">9&nbsp;&nbsp;</span>Part 5:  iterators - for loops, enumerate, and list comprehensions</a></div><div class=\"lev2 toc-item\"><a href=\"#for-loops\" data-toc-modified-id=\"for-loops-91\"><span class=\"toc-item-num\">9.1&nbsp;&nbsp;</span>for loops</a></div><div class=\"lev2 toc-item\"><a href=\"#enumerate\" data-toc-modified-id=\"enumerate-92\"><span class=\"toc-item-num\">9.2&nbsp;&nbsp;</span>enumerate</a></div><div class=\"lev2 toc-item\"><a href=\"#list-comprehension\" data-toc-modified-id=\"list-comprehension-93\"><span class=\"toc-item-num\">9.3&nbsp;&nbsp;</span>list comprehension</a></div><div class=\"lev1 toc-item\"><a href=\"#PART-6:-matplotlib\" data-toc-modified-id=\"PART-6:-matplotlib-10\"><span class=\"toc-item-num\">10&nbsp;&nbsp;</span>PART 6: matplotlib</a></div><div class=\"lev2 toc-item\"><a href=\"#setting-up-pylab-plotting\" data-toc-modified-id=\"setting-up-pylab-plotting-101\"><span class=\"toc-item-num\">10.1&nbsp;&nbsp;</span>setting up pylab plotting</a></div><div class=\"lev2 toc-item\"><a href=\"#figures-and-axis-objects-and-simple-plots\" data-toc-modified-id=\"figures-and-axis-objects-and-simple-plots-102\"><span class=\"toc-item-num\">10.2&nbsp;&nbsp;</span>figures and axis objects and simple plots</a></div><div class=\"lev2 toc-item\"><a href=\"#plotting-errorbars\" data-toc-modified-id=\"plotting-errorbars-103\"><span class=\"toc-item-num\">10.3&nbsp;&nbsp;</span>plotting errorbars</a></div><div class=\"lev2 toc-item\"><a href=\"#plotting-2D-arrays\" data-toc-modified-id=\"plotting-2D-arrays-104\"><span class=\"toc-item-num\">10.4&nbsp;&nbsp;</span>plotting 2D arrays</a></div>"
   ]
  },
  {
   "cell_type": "code",
   "execution_count": 1,
   "metadata": {
    "ExecuteTime": {
     "end_time": "2017-09-30T17:16:44.454793",
     "start_time": "2017-09-30T17:16:44.451232"
    },
    "collapsed": true,
    "run_control": {
     "frozen": false,
     "read_only": false
    }
   },
   "outputs": [],
   "source": [
    "from __future__ import print_function\n",
    "#importing this to make code python2&3 compatible\n",
    "# overwrites the default print to require parenthesis\n"
   ]
  },
  {
   "cell_type": "code",
   "execution_count": 2,
   "metadata": {
    "ExecuteTime": {
     "end_time": "2017-09-30T17:16:44.464276",
     "start_time": "2017-09-30T17:16:44.460345"
    },
    "collapsed": false,
    "run_control": {
     "frozen": false,
     "read_only": false
    }
   },
   "outputs": [
    {
     "name": "stdout",
     "output_type": "stream",
     "text": [
      "Hallo\n"
     ]
    }
   ],
   "source": [
    "print(\"Hallo\")"
   ]
  },
  {
   "cell_type": "markdown",
   "metadata": {
    "run_control": {
     "frozen": false,
     "read_only": false
    }
   },
   "source": [
    "# Native variable types"
   ]
  },
  {
   "cell_type": "markdown",
   "metadata": {
    "ExecuteTime": {
     "end_time": "2017-09-29T11:42:37.594618",
     "start_time": "2017-09-29T11:42:37.591669"
    },
    "run_control": {
     "frozen": false,
     "read_only": false
    }
   },
   "source": [
    "## strings, int, floats"
   ]
  },
  {
   "cell_type": "code",
   "execution_count": 3,
   "metadata": {
    "ExecuteTime": {
     "end_time": "2017-09-30T17:16:44.919742",
     "start_time": "2017-09-30T17:16:44.916239"
    },
    "collapsed": false,
    "run_control": {
     "frozen": false,
     "read_only": false
    }
   },
   "outputs": [],
   "source": [
    "stringVariable = 'Hello'"
   ]
  },
  {
   "cell_type": "code",
   "execution_count": 4,
   "metadata": {
    "ExecuteTime": {
     "end_time": "2017-09-30T17:16:44.942655",
     "start_time": "2017-09-30T17:16:44.922875"
    },
    "collapsed": false,
    "run_control": {
     "frozen": false,
     "read_only": false
    }
   },
   "outputs": [
    {
     "data": {
      "text/plain": [
       "str"
      ]
     },
     "execution_count": 4,
     "metadata": {},
     "output_type": "execute_result"
    }
   ],
   "source": [
    "type(stringVariable)"
   ]
  },
  {
   "cell_type": "code",
   "execution_count": 5,
   "metadata": {
    "ExecuteTime": {
     "end_time": "2017-09-30T17:16:44.949557",
     "start_time": "2017-09-30T17:16:44.945239"
    },
    "collapsed": false,
    "run_control": {
     "frozen": false,
     "read_only": false
    }
   },
   "outputs": [
    {
     "name": "stdout",
     "output_type": "stream",
     "text": [
      "Hello\n"
     ]
    }
   ],
   "source": [
    "print(stringVariable)"
   ]
  },
  {
   "cell_type": "code",
   "execution_count": 6,
   "metadata": {
    "ExecuteTime": {
     "end_time": "2017-09-30T17:16:44.955460",
     "start_time": "2017-09-30T17:16:44.952118"
    },
    "collapsed": true,
    "run_control": {
     "frozen": false,
     "read_only": false
    }
   },
   "outputs": [],
   "source": [
    "intVariable = 3"
   ]
  },
  {
   "cell_type": "code",
   "execution_count": 7,
   "metadata": {
    "ExecuteTime": {
     "end_time": "2017-09-30T17:16:44.962914",
     "start_time": "2017-09-30T17:16:44.958294"
    },
    "collapsed": false,
    "run_control": {
     "frozen": false,
     "read_only": false
    }
   },
   "outputs": [
    {
     "data": {
      "text/plain": [
       "int"
      ]
     },
     "execution_count": 7,
     "metadata": {},
     "output_type": "execute_result"
    }
   ],
   "source": [
    "type(intVariable)"
   ]
  },
  {
   "cell_type": "code",
   "execution_count": 8,
   "metadata": {
    "ExecuteTime": {
     "end_time": "2017-09-30T17:16:44.968379",
     "start_time": "2017-09-30T17:16:44.965349"
    },
    "collapsed": true,
    "run_control": {
     "frozen": false,
     "read_only": false
    }
   },
   "outputs": [],
   "source": [
    "floatVariable = 3."
   ]
  },
  {
   "cell_type": "code",
   "execution_count": 9,
   "metadata": {
    "ExecuteTime": {
     "end_time": "2017-09-30T17:16:44.975788",
     "start_time": "2017-09-30T17:16:44.970669"
    },
    "collapsed": false,
    "run_control": {
     "frozen": false,
     "read_only": false
    }
   },
   "outputs": [
    {
     "data": {
      "text/plain": [
       "float"
      ]
     },
     "execution_count": 9,
     "metadata": {},
     "output_type": "execute_result"
    }
   ],
   "source": [
    "type(floatVariable)"
   ]
  },
  {
   "cell_type": "markdown",
   "metadata": {
    "run_control": {
     "frozen": false,
     "read_only": false
    }
   },
   "source": [
    "### print formatting"
   ]
  },
  {
   "cell_type": "code",
   "execution_count": 10,
   "metadata": {
    "ExecuteTime": {
     "end_time": "2017-09-30T17:16:45.176542",
     "start_time": "2017-09-30T17:16:45.172016"
    },
    "collapsed": false,
    "run_control": {
     "frozen": false,
     "read_only": false
    }
   },
   "outputs": [
    {
     "name": "stdout",
     "output_type": "stream",
     "text": [
      "A string test,\n",
      "a number converted to a string 103.3\n",
      "strings wiht 100\n",
      "a float as a string, w set number of digits 3.000\n"
     ]
    }
   ],
   "source": [
    "print('A string %s,\\na number converted to a string %s\\n'%('test', 103.3) + \n",
    "      'strings wiht %r\\n'%(100) + \n",
    "      \"a float as a string, w set number of digits %.3f\"%(floatVariable))"
   ]
  },
  {
   "cell_type": "code",
   "execution_count": 11,
   "metadata": {
    "ExecuteTime": {
     "end_time": "2017-09-30T17:16:45.183762",
     "start_time": "2017-09-30T17:16:45.179478"
    },
    "collapsed": false,
    "run_control": {
     "frozen": false,
     "read_only": false
    }
   },
   "outputs": [
    {
     "name": "stdout",
     "output_type": "stream",
     "text": [
      "A string \"I'm A String!\",\n",
      "a number converted to string 103.3,\n",
      "the 1st string again \"I'm A String!\"\n",
      "a float as a string, w set number of digits 3.000\n"
     ]
    }
   ],
   "source": [
    "print('A string {s},\\na number converted to string {f:.1f},\\nthe 1st string again {s}\\n'\\\n",
    "      .format(s='''\"I'm A String!\"''', f=103.3) + \n",
    "      \"a float as a string, w set number of digits {1:.3f}\".format(stringVariable, \n",
    "                                                                   floatVariable))"
   ]
  },
  {
   "cell_type": "markdown",
   "metadata": {
    "run_control": {
     "frozen": false,
     "read_only": false
    }
   },
   "source": [
    "## bool"
   ]
  },
  {
   "cell_type": "code",
   "execution_count": 12,
   "metadata": {
    "ExecuteTime": {
     "end_time": "2017-09-30T17:16:45.439493",
     "start_time": "2017-09-30T17:16:45.436689"
    },
    "collapsed": false,
    "run_control": {
     "frozen": false,
     "read_only": false
    }
   },
   "outputs": [],
   "source": [
    "boolVar = True"
   ]
  },
  {
   "cell_type": "code",
   "execution_count": 13,
   "metadata": {
    "ExecuteTime": {
     "end_time": "2017-09-30T17:16:45.448477",
     "start_time": "2017-09-30T17:16:45.443314"
    },
    "collapsed": false,
    "run_control": {
     "frozen": false,
     "read_only": false
    }
   },
   "outputs": [
    {
     "data": {
      "text/plain": [
       "bool"
      ]
     },
     "execution_count": 13,
     "metadata": {},
     "output_type": "execute_result"
    }
   ],
   "source": [
    "type(boolVar)"
   ]
  },
  {
   "cell_type": "markdown",
   "metadata": {
    "run_control": {
     "frozen": false,
     "read_only": false
    }
   },
   "source": [
    "### if/else statements with bools"
   ]
  },
  {
   "cell_type": "markdown",
   "metadata": {
    "run_control": {
     "frozen": false,
     "read_only": false
    }
   },
   "source": [
    "** Boolean types are design to verify statements: **\n",
    "they take either True or False value\n",
    "in Python True is 1, False us 0\n",
    "operators like \"==\", \"<\", \">=\", or \"is\", \"in\"... return booleans: True or False\n",
    "the \"if\", \"elif\", \"else\", as well as \"while\" statements uses booleans to make decision\n",
    "a program can behave differently depending on the bool value\n"
   ]
  },
  {
   "cell_type": "code",
   "execution_count": 14,
   "metadata": {
    "ExecuteTime": {
     "end_time": "2017-09-30T17:16:45.909820",
     "start_time": "2017-09-30T17:16:45.906201"
    },
    "collapsed": false,
    "run_control": {
     "frozen": false,
     "read_only": false
    }
   },
   "outputs": [],
   "source": [
    "if not ((type(floatVariable) == float)):\n",
    "    print (\"yes\")"
   ]
  },
  {
   "cell_type": "markdown",
   "metadata": {
    "run_control": {
     "frozen": false,
     "read_only": false
    }
   },
   "source": [
    "\n",
    "in Python booleans map to integers: True=1 False=0\n",
    "so \"if 0\" is equivalent to \"if False\"\n",
    "\n",
    "\"if 1\" is equivalent to \"if True\"\n",
    "\n",
    "and in fact an if statement is verified for every condition returning anything but 0"
   ]
  },
  {
   "cell_type": "code",
   "execution_count": 15,
   "metadata": {
    "ExecuteTime": {
     "end_time": "2017-09-30T17:16:46.117533",
     "start_time": "2017-09-30T17:16:46.113378"
    },
    "collapsed": false,
    "run_control": {
     "frozen": false,
     "read_only": false
    }
   },
   "outputs": [
    {
     "name": "stdout",
     "output_type": "stream",
     "text": [
      "yes\n"
     ]
    }
   ],
   "source": [
    "if 1: \n",
    "    print(\"yes\")\n",
    "else:\n",
    "    print(\"no\")"
   ]
  },
  {
   "cell_type": "code",
   "execution_count": 16,
   "metadata": {
    "ExecuteTime": {
     "end_time": "2017-09-30T17:16:46.125091",
     "start_time": "2017-09-30T17:16:46.120318"
    },
    "collapsed": false,
    "run_control": {
     "frozen": false,
     "read_only": false
    }
   },
   "outputs": [
    {
     "name": "stdout",
     "output_type": "stream",
     "text": [
      "no\n"
     ]
    }
   ],
   "source": [
    "if 0: \n",
    "    print(\"yes\")\n",
    "else:\n",
    "    print(\"no\")"
   ]
  },
  {
   "cell_type": "code",
   "execution_count": 17,
   "metadata": {
    "ExecuteTime": {
     "end_time": "2017-09-30T17:16:46.131946",
     "start_time": "2017-09-30T17:16:46.127561"
    },
    "collapsed": false,
    "run_control": {
     "frozen": false,
     "read_only": false
    }
   },
   "outputs": [
    {
     "name": "stdout",
     "output_type": "stream",
     "text": [
      "yes\n"
     ]
    }
   ],
   "source": [
    "if 2: \n",
    "    print(\"yes\")\n",
    "else:\n",
    "    print(\"no\")"
   ]
  },
  {
   "cell_type": "code",
   "execution_count": 18,
   "metadata": {
    "ExecuteTime": {
     "end_time": "2017-09-30T17:16:46.139654",
     "start_time": "2017-09-30T17:16:46.134026"
    },
    "collapsed": false,
    "run_control": {
     "frozen": false,
     "read_only": false
    }
   },
   "outputs": [
    {
     "name": "stdout",
     "output_type": "stream",
     "text": [
      "yes\n"
     ]
    }
   ],
   "source": [
    "if -1: \n",
    "    print(\"yes\")\n",
    "else:\n",
    "    print(\"no\")"
   ]
  },
  {
   "cell_type": "markdown",
   "metadata": {
    "run_control": {
     "frozen": false,
     "read_only": false
    }
   },
   "source": [
    "### concatenating bool statements"
   ]
  },
  {
   "cell_type": "markdown",
   "metadata": {
    "run_control": {
     "frozen": false,
     "read_only": false
    }
   },
   "source": [
    "** Conditions can be concatenated with the 'and' and 'or' operators (though occasionally you will need '&' and 'I' instead...)**\n",
    "\n"
   ]
  },
  {
   "cell_type": "code",
   "execution_count": 19,
   "metadata": {
    "ExecuteTime": {
     "end_time": "2017-09-30T17:16:47.098703",
     "start_time": "2017-09-30T17:16:47.091932"
    },
    "collapsed": false,
    "run_control": {
     "frozen": false,
     "read_only": false
    }
   },
   "outputs": [
    {
     "name": "stdout",
     "output_type": "stream",
     "text": [
      "yes\n",
      "no\n",
      "yes\n"
     ]
    }
   ],
   "source": [
    "if floatVariable > 0 and floatVariable < 5:\n",
    "    print(\"yes\")\n",
    "else:\n",
    "    print(\"no\")\n",
    "    \n",
    "if floatVariable > 0 and floatVariable < 3:\n",
    "    print(\"yes\")\n",
    "else:\n",
    "    print(\"no\")\n",
    "    \n",
    "if floatVariable > 0 or floatVariable < 3:\n",
    "    print(\"yes\")\n",
    "else:\n",
    "    print(\"no\")"
   ]
  },
  {
   "cell_type": "markdown",
   "metadata": {
    "run_control": {
     "frozen": false,
     "read_only": false
    }
   },
   "source": [
    "### math with bools\n",
    "\n",
    "Because they map to integer you can make math with booleans, then 'or'->+ , 'and'->\\*  \n",
    "(think about it: \n",
    "\n",
    "0\\*anything is 0, \n",
    "\n",
    "and the if statement is verified anytimes the condition is not 0, so if any of the condition returns True, 1, the sum of the conditions will be  > 0\n"
   ]
  },
  {
   "cell_type": "code",
   "execution_count": 20,
   "metadata": {
    "ExecuteTime": {
     "end_time": "2017-09-30T17:16:47.314693",
     "start_time": "2017-09-30T17:16:47.306814"
    },
    "collapsed": false,
    "run_control": {
     "frozen": false,
     "read_only": false
    }
   },
   "outputs": [
    {
     "name": "stdout",
     "output_type": "stream",
     "text": [
      "yes\n",
      "no\n",
      "yes\n"
     ]
    }
   ],
   "source": [
    "if (floatVariable > 0) * (floatVariable < 5):\n",
    "    print(\"yes\")\n",
    "else:\n",
    "    print(\"no\")\n",
    "\n",
    "if (floatVariable > 0) * (floatVariable < 3):\n",
    "    print(\"yes\")\n",
    "else:\n",
    "    print(\"no\")\n",
    "\n",
    "if (floatVariable > 0) + (floatVariable < 3):\n",
    "    print(\"yes\")\n",
    "else:\n",
    "    print(\"no\")"
   ]
  },
  {
   "cell_type": "markdown",
   "metadata": {
    "run_control": {
     "frozen": false,
     "read_only": false
    }
   },
   "source": [
    "## lists"
   ]
  },
  {
   "cell_type": "markdown",
   "metadata": {
    "ExecuteTime": {
     "end_time": "2017-09-29T11:57:55.616690",
     "start_time": "2017-09-29T11:57:55.612477"
    },
    "run_control": {
     "frozen": false,
     "read_only": false
    }
   },
   "source": [
    "some variable types are designed to collect multiple numbers, or multiple strings, or multiple object\n",
    "\n",
    "lists can have heterogeneous content"
   ]
  },
  {
   "cell_type": "code",
   "execution_count": 21,
   "metadata": {
    "ExecuteTime": {
     "end_time": "2017-09-30T17:16:47.764769",
     "start_time": "2017-09-30T17:16:47.759845"
    },
    "collapsed": false,
    "run_control": {
     "frozen": false,
     "read_only": false
    }
   },
   "outputs": [
    {
     "data": {
      "text/plain": [
       "[0, 1, 3, 'hello', 3.3]"
      ]
     },
     "execution_count": 21,
     "metadata": {},
     "output_type": "execute_result"
    }
   ],
   "source": [
    "myList = [0, 1, 3, \"hello\", 3.3]\n",
    "myList"
   ]
  },
  {
   "cell_type": "code",
   "execution_count": 22,
   "metadata": {
    "ExecuteTime": {
     "end_time": "2017-09-30T17:16:47.772520",
     "start_time": "2017-09-30T17:16:47.766919"
    },
    "collapsed": false,
    "run_control": {
     "frozen": false,
     "read_only": false
    }
   },
   "outputs": [
    {
     "data": {
      "text/plain": [
       "[0, 1, 3, 'hello', 3.3, [0, 2, 3.3]]"
      ]
     },
     "execution_count": 22,
     "metadata": {},
     "output_type": "execute_result"
    }
   ],
   "source": [
    "myNestedList =  [0, 1, 3, \"hello\", 3.3, [0, 2, 3.3]]\n",
    "myNestedList"
   ]
  },
  {
   "cell_type": "markdown",
   "metadata": {
    "ExecuteTime": {
     "end_time": "2017-09-29T11:58:15.659828",
     "start_time": "2017-09-29T11:58:15.653870"
    },
    "run_control": {
     "frozen": false,
     "read_only": false
    }
   },
   "source": [
    "strings are actually very similar to lists!"
   ]
  },
  {
   "cell_type": "code",
   "execution_count": 23,
   "metadata": {
    "ExecuteTime": {
     "end_time": "2017-09-30T17:16:48.053946",
     "start_time": "2017-09-30T17:16:48.048145"
    },
    "collapsed": false,
    "run_control": {
     "frozen": false,
     "read_only": false
    }
   },
   "outputs": [
    {
     "data": {
      "text/plain": [
       "'abddef'"
      ]
     },
     "execution_count": 23,
     "metadata": {},
     "output_type": "execute_result"
    }
   ],
   "source": [
    "#e.g. I can add them as lists:\n",
    "'abd' + 'def'"
   ]
  },
  {
   "cell_type": "markdown",
   "metadata": {
    "run_control": {
     "frozen": false,
     "read_only": false
    }
   },
   "source": [
    "strings have a lot of useful attributes. \n",
    "Above you saw that you can refer to the characters of a string as elements of a list. \n",
    "\n",
    "strings are actually lists of characters.\n",
    "for example + works the same way: it concatenates strings\n"
   ]
  },
  {
   "cell_type": "code",
   "execution_count": 24,
   "metadata": {
    "ExecuteTime": {
     "end_time": "2017-09-30T17:16:48.302367",
     "start_time": "2017-09-30T17:16:48.296832"
    },
    "collapsed": false,
    "run_control": {
     "frozen": false,
     "read_only": false
    }
   },
   "outputs": [
    {
     "data": {
      "text/plain": [
       "('hello', 'h', 'llo', 'halo')"
      ]
     },
     "execution_count": 24,
     "metadata": {},
     "output_type": "execute_result"
    }
   ],
   "source": [
    "myNestedList[3], myNestedList[3][0], myNestedList[3][2:], \\\n",
    "myNestedList[3][0] + 'a' + myNestedList[3][-2:]"
   ]
  },
  {
   "cell_type": "code",
   "execution_count": 25,
   "metadata": {
    "ExecuteTime": {
     "end_time": "2017-09-30T17:16:48.310422",
     "start_time": "2017-09-30T17:16:48.304810"
    },
    "collapsed": false,
    "run_control": {
     "frozen": false,
     "read_only": false
    }
   },
   "outputs": [
    {
     "data": {
      "text/plain": [
       "('hello', 'hell', 'ello')"
      ]
     },
     "execution_count": 25,
     "metadata": {},
     "output_type": "execute_result"
    }
   ],
   "source": [
    "myNestedList[3].strip('l'), myNestedList[3].strip('o'), myNestedList[3].strip('h')"
   ]
  },
  {
   "cell_type": "code",
   "execution_count": 26,
   "metadata": {
    "ExecuteTime": {
     "end_time": "2017-09-30T17:16:48.318741",
     "start_time": "2017-09-30T17:16:48.312651"
    },
    "collapsed": false,
    "run_control": {
     "frozen": false,
     "read_only": false
    }
   },
   "outputs": [
    {
     "data": {
      "text/plain": [
       "(['he', '', 'o'], ['h', 'llo'], 'hello')"
      ]
     },
     "execution_count": 26,
     "metadata": {},
     "output_type": "execute_result"
    }
   ],
   "source": [
    "myNestedList[3].split('l'), myNestedList[3].split('e'), 'e'.join(myNestedList[3].split('e'))"
   ]
  },
  {
   "cell_type": "code",
   "execution_count": 27,
   "metadata": {
    "ExecuteTime": {
     "end_time": "2017-09-30T17:16:48.325843",
     "start_time": "2017-09-30T17:16:48.321055"
    },
    "collapsed": false,
    "run_control": {
     "frozen": false,
     "read_only": false
    }
   },
   "outputs": [
    {
     "data": {
      "text/plain": [
       "'HELLO'"
      ]
     },
     "execution_count": 27,
     "metadata": {},
     "output_type": "execute_result"
    }
   ],
   "source": [
    "myNestedList[3].upper()"
   ]
  },
  {
   "cell_type": "code",
   "execution_count": 28,
   "metadata": {
    "ExecuteTime": {
     "end_time": "2017-09-30T17:16:48.333737",
     "start_time": "2017-09-30T17:16:48.328331"
    },
    "collapsed": false,
    "run_control": {
     "frozen": false,
     "read_only": false
    }
   },
   "outputs": [
    {
     "data": {
      "text/plain": [
       "'hello'"
      ]
     },
     "execution_count": 28,
     "metadata": {},
     "output_type": "execute_result"
    }
   ],
   "source": [
    "'Hello'.lower()"
   ]
  },
  {
   "cell_type": "code",
   "execution_count": 29,
   "metadata": {
    "ExecuteTime": {
     "end_time": "2017-09-30T17:16:48.341069",
     "start_time": "2017-09-30T17:16:48.335907"
    },
    "collapsed": false,
    "run_control": {
     "frozen": false,
     "read_only": false
    }
   },
   "outputs": [
    {
     "data": {
      "text/plain": [
       "'halo'"
      ]
     },
     "execution_count": 29,
     "metadata": {},
     "output_type": "execute_result"
    }
   ],
   "source": [
    "'Hello'.replace('Hel','ha')"
   ]
  },
  {
   "cell_type": "markdown",
   "metadata": {
    "run_control": {
     "frozen": false,
     "read_only": false
    }
   },
   "source": [
    "**in the cell below I use a number of string attributes:**\n",
    "-join\n",
    "-strip\n",
    "-split\n",
    "-replace\n",
    "\n",
    "look them up with the ?,e.g. ''.join?, and eviscerate the line of code below!"
   ]
  },
  {
   "cell_type": "code",
   "execution_count": 32,
   "metadata": {
    "collapsed": true
   },
   "outputs": [],
   "source": [
    "myList2 = [0, 1, 3, \"hello\", 3.3]"
   ]
  },
  {
   "cell_type": "code",
   "execution_count": 51,
   "metadata": {
    "collapsed": false
   },
   "outputs": [
    {
     "data": {
      "text/plain": [
       "[0, 1, 3, 'hello', 3.3]"
      ]
     },
     "execution_count": 51,
     "metadata": {},
     "output_type": "execute_result"
    }
   ],
   "source": [
    "myList2"
   ]
  },
  {
   "cell_type": "code",
   "execution_count": 30,
   "metadata": {
    "ExecuteTime": {
     "end_time": "2017-09-30T17:16:48.609742",
     "start_time": "2017-09-30T17:16:48.605081"
    },
    "collapsed": false,
    "run_control": {
     "frozen": false,
     "read_only": false
    }
   },
   "outputs": [
    {
     "data": {
      "text/plain": [
       "'The fox eats the mouse'"
      ]
     },
     "execution_count": 30,
     "metadata": {},
     "output_type": "execute_result"
    }
   ],
   "source": [
    "' '.join('The fox eats the rabbit '.strip().split(' ')).replace('rabbit', 'mouse')"
   ]
  },
  {
   "cell_type": "markdown",
   "metadata": {
    "run_control": {
     "frozen": false,
     "read_only": false
    }
   },
   "source": [
    "however lists are \"immutables\" (tuples are also immutable types)"
   ]
  },
  {
   "cell_type": "code",
   "execution_count": 31,
   "metadata": {
    "ExecuteTime": {
     "end_time": "2017-09-30T17:16:48.944450",
     "start_time": "2017-09-30T17:16:48.881965"
    },
    "collapsed": false,
    "run_control": {
     "frozen": false,
     "read_only": false
    }
   },
   "outputs": [
    {
     "ename": "TypeError",
     "evalue": "'str' object does not support item assignment",
     "output_type": "error",
     "traceback": [
      "\u001b[0;31m---------------------------------------------------------------------------\u001b[0m",
      "\u001b[0;31mTypeError\u001b[0m                                 Traceback (most recent call last)",
      "\u001b[0;32m<ipython-input-31-0abf7fb37a5e>\u001b[0m in \u001b[0;36m<module>\u001b[0;34m()\u001b[0m\n\u001b[0;32m----> 1\u001b[0;31m \u001b[0mstringVariable\u001b[0m\u001b[0;34m[\u001b[0m\u001b[0;36m2\u001b[0m\u001b[0;34m]\u001b[0m \u001b[0;34m=\u001b[0m \u001b[0;34m'a'\u001b[0m\u001b[0;34m\u001b[0m\u001b[0m\n\u001b[0m",
      "\u001b[0;31mTypeError\u001b[0m: 'str' object does not support item assignment"
     ]
    }
   ],
   "source": [
    "stringVariable[2] = 'a'"
   ]
  },
  {
   "cell_type": "markdown",
   "metadata": {
    "run_control": {
     "frozen": false,
     "read_only": false
    }
   },
   "source": [
    "## dictionaries\n",
    "dictionaries collect key-value pairs: they are container that allow you to give a name to the objects inside. They allow the collection of heterogeneous objects and naturally allow nested structures"
   ]
  },
  {
   "cell_type": "code",
   "execution_count": null,
   "metadata": {
    "ExecuteTime": {
     "end_time": "2017-09-30T17:16:49.213516",
     "start_time": "2017-09-30T17:16:49.205827"
    },
    "collapsed": false,
    "run_control": {
     "frozen": false,
     "read_only": false
    }
   },
   "outputs": [],
   "source": [
    "dictVariable = {'keyInt': 0,\n",
    "               'keyFloat': 0.3,\n",
    "               'keyString': \"I'm a string\",\n",
    "               'keyDict': {}}\n",
    "dictVariable['keyDict']['nested1'] = 0.1\n",
    "dictVariable['keyDict']['nested2'] = {}\n",
    "\n",
    "dictVariable"
   ]
  },
  {
   "cell_type": "markdown",
   "metadata": {
    "ExecuteTime": {
     "end_time": "2017-09-29T12:12:00.581092",
     "start_time": "2017-09-29T12:12:00.576617"
    },
    "run_control": {
     "frozen": false,
     "read_only": false
    }
   },
   "source": [
    "# IDE other than jupyter notebooks\n",
    "## python\n",
    "## ipython\n",
    "## execute python from the shell\n",
    " "
   ]
  },
  {
   "cell_type": "markdown",
   "metadata": {
    "run_control": {
     "frozen": false,
     "read_only": false
    }
   },
   "source": [
    "** EXERCISE: **\n",
    "[instructions](https://github.com/fedhere/PyBOOT/blob/master/printGoodmorningGoodAfternoon_instructions.py)\n",
    "\n",
    "    write a script that prints to standard output \"Good Morning <Name>\" if before 1PM\n",
    "    prints to standard output \"Good Afternoon <Name>\" if after 1PM\n",
    "    where <Name> is the user name input intline\n",
    "    \n",
    "    if you can: make sure it works with both python 2 and 3\n",
    "    hints: \n",
    "    - you can use raw_input/input to accept arguments upon request.\n",
    "    - you can use the datetime package to check the time of the day\n",
    "    - you can use try/except if you come across functions that work differently in python2 vs python3\n"
   ]
  },
  {
   "cell_type": "markdown",
   "metadata": {
    "run_control": {
     "frozen": false,
     "read_only": false
    }
   },
   "source": [
    "# Numpy types \n",
    "Those were all native python types. Other modules may define other variable types"
   ]
  },
  {
   "cell_type": "code",
   "execution_count": 70,
   "metadata": {
    "ExecuteTime": {
     "end_time": "2017-09-30T17:16:50.772951",
     "start_time": "2017-09-30T17:16:50.461390"
    },
    "collapsed": true,
    "run_control": {
     "frozen": false,
     "read_only": false
    }
   },
   "outputs": [],
   "source": [
    "import numpy as np"
   ]
  },
  {
   "cell_type": "code",
   "execution_count": 71,
   "metadata": {
    "ExecuteTime": {
     "end_time": "2017-09-30T17:16:50.778156",
     "start_time": "2017-09-30T17:16:50.775069"
    },
    "collapsed": true,
    "run_control": {
     "frozen": false,
     "read_only": false
    }
   },
   "outputs": [],
   "source": [
    "a = 3 "
   ]
  },
  {
   "cell_type": "code",
   "execution_count": 72,
   "metadata": {
    "ExecuteTime": {
     "end_time": "2017-09-30T17:16:50.785245",
     "start_time": "2017-09-30T17:16:50.780745"
    },
    "collapsed": false,
    "run_control": {
     "frozen": false,
     "read_only": false
    }
   },
   "outputs": [
    {
     "data": {
      "text/plain": [
       "int"
      ]
     },
     "execution_count": 72,
     "metadata": {},
     "output_type": "execute_result"
    }
   ],
   "source": [
    "type(a)"
   ]
  },
  {
   "cell_type": "markdown",
   "metadata": {
    "collapsed": true,
    "run_control": {
     "frozen": false,
     "read_only": false
    }
   },
   "source": [
    "** numpy types have predefined number of bites to store the variable. **\n",
    "The largest and smallest number you can store in a variable is limited by the number of bites used for that variable\n",
    "\n",
    "For default python variables python chooses the number of bits according to the system (the computer its running on)\n",
    "\n",
    " That is why it is important to specify what your code is developed and tested on!"
   ]
  },
  {
   "cell_type": "code",
   "execution_count": 73,
   "metadata": {
    "ExecuteTime": {
     "end_time": "2017-09-30T17:16:50.791221",
     "start_time": "2017-09-30T17:16:50.787995"
    },
    "collapsed": false,
    "run_control": {
     "frozen": false,
     "read_only": false
    }
   },
   "outputs": [],
   "source": [
    "a = np.int16(3)"
   ]
  },
  {
   "cell_type": "code",
   "execution_count": 74,
   "metadata": {
    "ExecuteTime": {
     "end_time": "2017-09-30T17:16:50.801865",
     "start_time": "2017-09-30T17:16:50.797078"
    },
    "collapsed": false,
    "run_control": {
     "frozen": false,
     "read_only": false
    }
   },
   "outputs": [
    {
     "data": {
      "text/plain": [
       "dtype('int16')"
      ]
     },
     "execution_count": 74,
     "metadata": {},
     "output_type": "execute_result"
    }
   ],
   "source": [
    "a.dtype"
   ]
  },
  {
   "cell_type": "markdown",
   "metadata": {
    "run_control": {
     "frozen": false,
     "read_only": false
    }
   },
   "source": [
    "the largest signed integer you can write in 8 bits is 127, the smallest -128. That's (2^8) / 2 - 1 \n",
    "\n",
    "/2 is because you they are signed integers, and one bit is reserved for the sign. \n",
    "\n",
    "-1 because you start from 0\n",
    "\n",
    "The largest UNsigned int is 256\n",
    "\n",
    "Note that there will be no error returned if you try to write a number that is too large!"
   ]
  },
  {
   "cell_type": "code",
   "execution_count": 75,
   "metadata": {
    "ExecuteTime": {
     "end_time": "2017-09-30T17:16:51.134972",
     "start_time": "2017-09-30T17:16:51.130712"
    },
    "collapsed": false,
    "run_control": {
     "frozen": false,
     "read_only": false
    }
   },
   "outputs": [
    {
     "name": "stdout",
     "output_type": "stream",
     "text": [
      "10\n",
      "100\n",
      "127\n",
      "-128\n"
     ]
    }
   ],
   "source": [
    "print(np.int8(10))\n",
    "print(np.int8(100))\n",
    "print(np.int8(127))\n",
    "print(np.int8(128))"
   ]
  },
  {
   "cell_type": "markdown",
   "metadata": {
    "collapsed": false,
    "run_control": {
     "frozen": false,
     "read_only": false
    }
   },
   "source": [
    "max int32 is 2147483646 (2^32)/2-2"
   ]
  },
  {
   "cell_type": "code",
   "execution_count": 76,
   "metadata": {
    "ExecuteTime": {
     "end_time": "2017-09-30T17:16:51.442847",
     "start_time": "2017-09-30T17:16:51.438275"
    },
    "collapsed": false,
    "run_control": {
     "frozen": false,
     "read_only": false
    }
   },
   "outputs": [
    {
     "name": "stdout",
     "output_type": "stream",
     "text": [
      "2147483638\n",
      "2147483647\n",
      "-2147483648\n"
     ]
    }
   ],
   "source": [
    "a = np.int32(2147483638)\n",
    "print(a)\n",
    "a = np.int32(2147483647)\n",
    "print(a)\n",
    "a = np.int32(2147483648)\n",
    "print(a)\n"
   ]
  },
  {
   "cell_type": "markdown",
   "metadata": {
    "run_control": {
     "frozen": false,
     "read_only": false
    }
   },
   "source": [
    "# numpy arrays \n",
    "_must have objects all of the same type inside_, and they will recast the type (to the most complext type in the series) when needed"
   ]
  },
  {
   "cell_type": "code",
   "execution_count": 77,
   "metadata": {
    "ExecuteTime": {
     "end_time": "2017-09-30T17:16:51.822654",
     "start_time": "2017-09-30T17:16:51.817539"
    },
    "collapsed": false,
    "run_control": {
     "frozen": false,
     "read_only": false
    }
   },
   "outputs": [
    {
     "name": "stdout",
     "output_type": "stream",
     "text": [
      "[ 3.  3.  3.  4.]\n"
     ]
    }
   ],
   "source": [
    "myArray = np.array([intVariable, floatVariable, 3 , 4. ])\n",
    "# the integers are converted to float\n",
    "\n",
    "print (myArray)"
   ]
  },
  {
   "cell_type": "code",
   "execution_count": 78,
   "metadata": {
    "ExecuteTime": {
     "end_time": "2017-09-30T17:16:51.830799",
     "start_time": "2017-09-30T17:16:51.826311"
    },
    "collapsed": false,
    "run_control": {
     "frozen": false,
     "read_only": false
    }
   },
   "outputs": [
    {
     "name": "stdout",
     "output_type": "stream",
     "text": [
      "<class 'int'>\n",
      "<class 'numpy.float64'>\n",
      "<class 'numpy.float64'>\n"
     ]
    }
   ],
   "source": [
    "print(type(intVariable)) \n",
    "print(type(myArray[0]))\n",
    "print(type(myArray[1]))"
   ]
  },
  {
   "cell_type": "markdown",
   "metadata": {
    "run_control": {
     "frozen": false,
     "read_only": false
    }
   },
   "source": [
    "integers are converted to float so that all objects in the array are of the same type (and python recast the simpler type integer to the more complex type float, not viceversa)\n",
    "\n",
    "also you saw that how to refer to an element of a list or array: [i] indicates the i-th element of a list/array/tuple..."
   ]
  },
  {
   "cell_type": "code",
   "execution_count": 79,
   "metadata": {
    "ExecuteTime": {
     "end_time": "2017-09-30T17:16:52.167637",
     "start_time": "2017-09-30T17:16:52.163036"
    },
    "collapsed": false,
    "run_control": {
     "frozen": false,
     "read_only": false
    }
   },
   "outputs": [
    {
     "data": {
      "text/plain": [
       "array(['0', '1', '3', 'hello', '3.3'], \n",
       "      dtype='<U21')"
      ]
     },
     "execution_count": 79,
     "metadata": {},
     "output_type": "execute_result"
    }
   ],
   "source": [
    "myArrayStr = np.array(myList)\n",
    "myArrayStr"
   ]
  },
  {
   "cell_type": "markdown",
   "metadata": {
    "run_control": {
     "frozen": false,
     "read_only": false
    }
   },
   "source": [
    "all the numbers in myList are converted to strings if I make an array out of that list."
   ]
  },
  {
   "cell_type": "markdown",
   "metadata": {
    "run_control": {
     "frozen": false,
     "read_only": false
    }
   },
   "source": [
    "# PART 2: Slicing, Broadcasting, and math operators on arrays and lists"
   ]
  },
  {
   "cell_type": "code",
   "execution_count": 80,
   "metadata": {
    "ExecuteTime": {
     "end_time": "2017-09-30T17:16:52.875574",
     "start_time": "2017-09-30T17:16:52.870638"
    },
    "collapsed": false,
    "run_control": {
     "frozen": false,
     "read_only": false
    }
   },
   "outputs": [
    {
     "data": {
      "text/plain": [
       "[1, 3, 'hello', 3.3, 'Hello', 'there']"
      ]
     },
     "execution_count": 80,
     "metadata": {},
     "output_type": "execute_result"
    }
   ],
   "source": [
    "#the + operator inlists  concatenates the lists\n",
    "\n",
    "myList[1:] + [\"Hello\", \"there\"]"
   ]
  },
  {
   "cell_type": "markdown",
   "metadata": {
    "ExecuteTime": {
     "end_time": "2017-09-29T12:58:50.816380",
     "start_time": "2017-09-29T12:58:50.810474"
    },
    "run_control": {
     "frozen": false,
     "read_only": false
    }
   },
   "source": [
    "## operations with arrays\n",
    "+, -, *, / generally operate element by element. I can for example multiply an array by a float/int"
   ]
  },
  {
   "cell_type": "code",
   "execution_count": 86,
   "metadata": {
    "ExecuteTime": {
     "end_time": "2017-09-30T17:16:53.310599",
     "start_time": "2017-09-30T17:16:53.288328"
    },
    "collapsed": false,
    "run_control": {
     "frozen": false,
     "read_only": false
    }
   },
   "outputs": [
    {
     "ename": "SyntaxError",
     "evalue": "invalid syntax (<ipython-input-86-c3865343f440>, line 1)",
     "output_type": "error",
     "traceback": [
      "\u001b[0;36m  File \u001b[0;32m\"<ipython-input-86-c3865343f440>\"\u001b[0;36m, line \u001b[0;32m1\u001b[0m\n\u001b[0;31m    myOtherArray = np.array([1,2,3,4]) myOtherArray * 2, myOtherArray + 2\u001b[0m\n\u001b[0m                                                  ^\u001b[0m\n\u001b[0;31mSyntaxError\u001b[0m\u001b[0;31m:\u001b[0m invalid syntax\n"
     ]
    }
   ],
   "source": [
    "myOtherArray = np.array([1,2,3,4]) "
   ]
  },
  {
   "cell_type": "code",
   "execution_count": 87,
   "metadata": {
    "collapsed": false
   },
   "outputs": [
    {
     "data": {
      "text/plain": [
       "array([2, 4, 6, 8])"
      ]
     },
     "execution_count": 87,
     "metadata": {},
     "output_type": "execute_result"
    }
   ],
   "source": [
    "myOtherArray * 2"
   ]
  },
  {
   "cell_type": "markdown",
   "metadata": {
    "collapsed": false,
    "run_control": {
     "frozen": false,
     "read_only": false
    }
   },
   "source": [
    " the %  operator may be useful: it returns the remainder of a division: a % b returns the remainder of a/b. \n",
    " This is useful to find out if a number is even or odd"
   ]
  },
  {
   "cell_type": "code",
   "execution_count": 88,
   "metadata": {
    "collapsed": false
   },
   "outputs": [
    {
     "data": {
      "text/plain": [
       "array([3, 4, 5, 6])"
      ]
     },
     "execution_count": 88,
     "metadata": {},
     "output_type": "execute_result"
    }
   ],
   "source": [
    "myOtherArray + 2"
   ]
  },
  {
   "cell_type": "code",
   "execution_count": null,
   "metadata": {
    "ExecuteTime": {
     "end_time": "2017-09-30T17:16:53.641288",
     "start_time": "2017-09-30T17:16:53.637336"
    },
    "collapsed": false,
    "run_control": {
     "frozen": false,
     "read_only": false
    }
   },
   "outputs": [],
   "source": [
    "5 % 2"
   ]
  },
  {
   "cell_type": "code",
   "execution_count": null,
   "metadata": {
    "ExecuteTime": {
     "end_time": "2017-09-30T17:16:53.650077",
     "start_time": "2017-09-30T17:16:53.645668"
    },
    "collapsed": false,
    "run_control": {
     "frozen": false,
     "read_only": false
    }
   },
   "outputs": [],
   "source": [
    "5. % 2."
   ]
  },
  {
   "cell_type": "code",
   "execution_count": 89,
   "metadata": {
    "ExecuteTime": {
     "end_time": "2017-09-30T17:16:53.669336",
     "start_time": "2017-09-30T17:16:53.654372"
    },
    "collapsed": false,
    "run_control": {
     "frozen": false,
     "read_only": false
    }
   },
   "outputs": [
    {
     "data": {
      "text/plain": [
       "array([2, 4, 6, 8])"
      ]
     },
     "execution_count": 89,
     "metadata": {},
     "output_type": "execute_result"
    }
   ],
   "source": [
    "# add 2 arrays of same shape\n",
    "myOtherArray + myOtherArray"
   ]
  },
  {
   "cell_type": "code",
   "execution_count": 95,
   "metadata": {
    "ExecuteTime": {
     "end_time": "2017-09-30T17:16:53.670209",
     "start_time": "2017-09-30T21:16:53.661Z"
    },
    "collapsed": false,
    "run_control": {
     "frozen": false,
     "read_only": false
    }
   },
   "outputs": [
    {
     "ename": "ValueError",
     "evalue": "operands could not be broadcast together with shapes (4,) (2,) ",
     "output_type": "error",
     "traceback": [
      "\u001b[0;31m---------------------------------------------------------------------------\u001b[0m",
      "\u001b[0;31mValueError\u001b[0m                                Traceback (most recent call last)",
      "\u001b[0;32m<ipython-input-95-80f433130027>\u001b[0m in \u001b[0;36m<module>\u001b[0;34m()\u001b[0m\n\u001b[0;32m----> 1\u001b[0;31m \u001b[0mmyDoubleArray\u001b[0m \u001b[0;34m=\u001b[0m \u001b[0;36m2\u001b[0m \u001b[0;34m*\u001b[0m \u001b[0mmyOtherArray\u001b[0m \u001b[0;34m+\u001b[0m \u001b[0;34m[\u001b[0m\u001b[0;36m1\u001b[0m\u001b[0;34m,\u001b[0m\u001b[0;36m2\u001b[0m\u001b[0;34m]\u001b[0m\u001b[0;34m\u001b[0m\u001b[0m\n\u001b[0m\u001b[1;32m      2\u001b[0m \u001b[0mmyDoubleArray\u001b[0m\u001b[0;34m\u001b[0m\u001b[0m\n",
      "\u001b[0;31mValueError\u001b[0m: operands could not be broadcast together with shapes (4,) (2,) "
     ]
    }
   ],
   "source": [
    "myDoubleArray = 2 * myOtherArray\n",
    "myDoubleArray"
   ]
  },
  {
   "cell_type": "code",
   "execution_count": 94,
   "metadata": {
    "ExecuteTime": {
     "end_time": "2017-09-30T17:16:53.672154",
     "start_time": "2017-09-30T21:16:53.669Z"
    },
    "collapsed": false,
    "run_control": {
     "frozen": false,
     "read_only": false
    }
   },
   "outputs": [
    {
     "data": {
      "text/plain": [
       "array([ 3,  6,  9, 12])"
      ]
     },
     "execution_count": 94,
     "metadata": {},
     "output_type": "execute_result"
    }
   ],
   "source": [
    "# they must be of the same shape: same size on all axes\n",
    "myDoubleArray + myOtherArray"
   ]
  },
  {
   "cell_type": "markdown",
   "metadata": {
    "ExecuteTime": {
     "end_time": "2017-09-29T12:52:01.458291",
     "start_time": "2017-09-29T12:52:01.454095"
    },
    "run_control": {
     "frozen": false,
     "read_only": false
    }
   },
   "source": [
    "## slicing"
   ]
  },
  {
   "cell_type": "markdown",
   "metadata": {
    "run_control": {
     "frozen": false,
     "read_only": false
    }
   },
   "source": [
    "below I extract a subset of the elements of myList: from element 2, corresponding to index 1 (since arrays and lists are indexed starting at 0) to the last element. \n",
    "\n",
    "\":\" indicates that I am selecting a range of indices. the first number is included, the last is not included. "
   ]
  },
  {
   "cell_type": "code",
   "execution_count": 62,
   "metadata": {
    "ExecuteTime": {
     "end_time": "2017-09-30T17:16:55.024252",
     "start_time": "2017-09-30T17:16:55.018708"
    },
    "collapsed": false,
    "run_control": {
     "frozen": false,
     "read_only": false
    },
    "scrolled": true
   },
   "outputs": [
    {
     "ename": "NameError",
     "evalue": "name 'myOtherArray' is not defined",
     "output_type": "error",
     "traceback": [
      "\u001b[0;31m---------------------------------------------------------------------------\u001b[0m",
      "\u001b[0;31mNameError\u001b[0m                                 Traceback (most recent call last)",
      "\u001b[0;32m<ipython-input-62-22da3b0809b0>\u001b[0m in \u001b[0;36m<module>\u001b[0;34m()\u001b[0m\n\u001b[0;32m----> 1\u001b[0;31m \u001b[0mmyOtherArray\u001b[0m\u001b[0;34m[\u001b[0m\u001b[0;34m:\u001b[0m\u001b[0;36m2\u001b[0m\u001b[0;34m]\u001b[0m\u001b[0;34m\u001b[0m\u001b[0m\n\u001b[0m",
      "\u001b[0;31mNameError\u001b[0m: name 'myOtherArray' is not defined"
     ]
    }
   ],
   "source": [
    "myOtherArray[:2]"
   ]
  },
  {
   "cell_type": "markdown",
   "metadata": {
    "run_control": {
     "frozen": false,
     "read_only": false
    }
   },
   "source": [
    "omitting one of the range limits mean \"till the min/max possible value\""
   ]
  },
  {
   "cell_type": "code",
   "execution_count": 58,
   "metadata": {
    "ExecuteTime": {
     "end_time": "2017-09-30T17:16:55.473008",
     "start_time": "2017-09-30T17:16:55.468377"
    },
    "collapsed": false,
    "run_control": {
     "frozen": false,
     "read_only": false
    }
   },
   "outputs": [
    {
     "data": {
      "text/plain": [
       "[1, 3, 'hello', 3.3]"
      ]
     },
     "execution_count": 58,
     "metadata": {},
     "output_type": "execute_result"
    }
   ],
   "source": [
    "myList[1:]"
   ]
  },
  {
   "cell_type": "code",
   "execution_count": 96,
   "metadata": {
    "ExecuteTime": {
     "end_time": "2017-09-30T17:16:55.483290",
     "start_time": "2017-09-30T17:16:55.478345"
    },
    "collapsed": false,
    "run_control": {
     "frozen": false,
     "read_only": false
    }
   },
   "outputs": [
    {
     "data": {
      "text/plain": [
       "[0, 1, 3, 'hello']"
      ]
     },
     "execution_count": 96,
     "metadata": {},
     "output_type": "execute_result"
    }
   ],
   "source": [
    "myList[:4]"
   ]
  },
  {
   "cell_type": "code",
   "execution_count": 99,
   "metadata": {
    "collapsed": true
   },
   "outputs": [],
   "source": [
    "mylist2 = [1,2,3,4,5,6,7,8,9]"
   ]
  },
  {
   "cell_type": "markdown",
   "metadata": {
    "run_control": {
     "frozen": false,
     "read_only": false
    }
   },
   "source": [
    "if i _slice_ the array with the [:] I can also define a stride: pick one every n elements.\n",
    "\n",
    "[2:8:2] would mean extract every other element starting with the third (remember first index is 0) till the 8th, "
   ]
  },
  {
   "cell_type": "code",
   "execution_count": 101,
   "metadata": {
    "ExecuteTime": {
     "end_time": "2017-09-30T17:16:55.960400",
     "start_time": "2017-09-30T17:16:55.954734"
    },
    "collapsed": false,
    "run_control": {
     "frozen": false,
     "read_only": false
    }
   },
   "outputs": [
    {
     "name": "stdout",
     "output_type": "stream",
     "text": [
      "['0' '1' '3' 'hello' '3.3']\n",
      "[2, 5, 8]\n"
     ]
    }
   ],
   "source": [
    "print(myArrayStr)\n",
    "print(mylist2[1:9:3])"
   ]
  },
  {
   "cell_type": "code",
   "execution_count": null,
   "metadata": {
    "ExecuteTime": {
     "end_time": "2017-09-30T17:16:55.971336",
     "start_time": "2017-09-30T17:16:55.966916"
    },
    "collapsed": false,
    "run_control": {
     "frozen": false,
     "read_only": false
    }
   },
   "outputs": [],
   "source": [
    "# a positive stride goes from left to right\n",
    "# a negative stride goes from right to left"
   ]
  },
  {
   "cell_type": "markdown",
   "metadata": {
    "run_control": {
     "frozen": false,
     "read_only": false
    }
   },
   "source": [
    "operations with arrays: +, -, *, / generally operate element by element. I can for example multiply an array by a float/int\n",
    "\n",
    "add 2 arrays of same shape\n"
   ]
  },
  {
   "cell_type": "code",
   "execution_count": null,
   "metadata": {
    "ExecuteTime": {
     "end_time": "2017-09-30T17:16:56.458487",
     "start_time": "2017-09-30T17:16:56.453913"
    },
    "collapsed": false,
    "run_control": {
     "frozen": false,
     "read_only": false
    }
   },
   "outputs": [],
   "source": [
    "myArrayStr[4:1:-1]"
   ]
  },
  {
   "cell_type": "code",
   "execution_count": null,
   "metadata": {
    "ExecuteTime": {
     "end_time": "2017-09-30T17:16:56.468237",
     "start_time": "2017-09-30T17:16:56.462737"
    },
    "collapsed": false,
    "run_control": {
     "frozen": false,
     "read_only": false
    }
   },
   "outputs": [],
   "source": [
    "myOtherArray = np.array(myList[2::-1]).astype(float)\n",
    "myOtherArray"
   ]
  },
  {
   "cell_type": "markdown",
   "metadata": {
    "run_control": {
     "frozen": false,
     "read_only": false
    }
   },
   "source": [
    "generally python variables and python objects have a number of attributes associated to them\n",
    "\n",
    "(that is kind of what it means that it is an \"object oriented\" language)\n",
    "\n",
    "the function dir prints all attributes of a python object"
   ]
  },
  {
   "cell_type": "code",
   "execution_count": null,
   "metadata": {
    "ExecuteTime": {
     "end_time": "2017-09-30T17:16:56.935173",
     "start_time": "2017-09-30T17:16:56.932709"
    },
    "collapsed": false,
    "run_control": {
     "frozen": false,
     "read_only": false
    }
   },
   "outputs": [],
   "source": [
    "#dir(myArray)"
   ]
  },
  {
   "cell_type": "code",
   "execution_count": null,
   "metadata": {
    "ExecuteTime": {
     "end_time": "2017-09-30T17:16:56.947189",
     "start_time": "2017-09-30T17:16:56.940654"
    },
    "collapsed": true,
    "run_control": {
     "frozen": false,
     "read_only": false
    }
   },
   "outputs": [],
   "source": [
    "myArray?"
   ]
  },
  {
   "cell_type": "code",
   "execution_count": null,
   "metadata": {
    "ExecuteTime": {
     "end_time": "2017-09-30T17:16:56.955408",
     "start_time": "2017-09-30T17:16:56.950773"
    },
    "collapsed": false,
    "run_control": {
     "frozen": false,
     "read_only": false
    }
   },
   "outputs": [],
   "source": [
    "# example: the attribute shape returns the shape of the array.\n",
    "myArray.shape"
   ]
  },
  {
   "cell_type": "code",
   "execution_count": null,
   "metadata": {
    "ExecuteTime": {
     "end_time": "2017-09-30T17:16:56.965633",
     "start_time": "2017-09-30T17:16:56.959790"
    },
    "collapsed": false,
    "run_control": {
     "frozen": false,
     "read_only": false
    }
   },
   "outputs": [],
   "source": [
    "# example: the method (meaning it is actually a function) reshape returns an array of different shape, \n",
    "# but notice that it does not change it \"inplace\" : the array is unchanged and a new array is returned\n",
    "myArray.reshape((2,2))"
   ]
  },
  {
   "cell_type": "code",
   "execution_count": null,
   "metadata": {
    "ExecuteTime": {
     "end_time": "2017-09-30T17:16:56.975278",
     "start_time": "2017-09-30T17:16:56.969811"
    },
    "collapsed": false,
    "run_control": {
     "frozen": false,
     "read_only": false
    }
   },
   "outputs": [],
   "source": [
    "myArray"
   ]
  },
  {
   "cell_type": "code",
   "execution_count": null,
   "metadata": {
    "ExecuteTime": {
     "end_time": "2017-09-30T17:16:56.982912",
     "start_time": "2017-09-30T17:16:56.979726"
    },
    "collapsed": true,
    "run_control": {
     "frozen": false,
     "read_only": false
    }
   },
   "outputs": [],
   "source": [
    "myThirdArray = np.array([1, 2, 3, 4, 5])"
   ]
  },
  {
   "cell_type": "markdown",
   "metadata": {
    "collapsed": false,
    "run_control": {
     "frozen": false,
     "read_only": false
    }
   },
   "source": [
    "conditions applied to arrays return boolean arrays indicating for which inices the condition is satisfied \n",
    "\n",
    "##### depending on your setup you may need to use the attributes .all() and .any(), butI wont go into it now"
   ]
  },
  {
   "cell_type": "code",
   "execution_count": null,
   "metadata": {
    "ExecuteTime": {
     "end_time": "2017-09-30T17:16:57.570997",
     "start_time": "2017-09-30T17:16:57.566015"
    },
    "collapsed": false,
    "run_control": {
     "frozen": false,
     "read_only": false
    }
   },
   "outputs": [],
   "source": [
    "(myThirdArray > 2)"
   ]
  },
  {
   "cell_type": "markdown",
   "metadata": {
    "run_control": {
     "frozen": false,
     "read_only": false
    }
   },
   "source": [
    "** EXERCISE:**\n",
    "- create a numpy array containing numbers from 1 to 10\n",
    "- extract only even numbers with boolean operations\n",
    "- reverse it \n",
    "- make all those number odd\n",
    "    (hint: you can use use range or np.arange to create the array)"
   ]
  },
  {
   "cell_type": "code",
   "execution_count": null,
   "metadata": {
    "ExecuteTime": {
     "end_time": "2017-09-30T17:16:58.138849",
     "start_time": "2017-09-30T17:16:58.134685"
    },
    "collapsed": false,
    "run_control": {
     "frozen": false,
     "read_only": false
    }
   },
   "outputs": [],
   "source": [
    "range(1, 11, 2)"
   ]
  },
  {
   "cell_type": "code",
   "execution_count": null,
   "metadata": {
    "ExecuteTime": {
     "end_time": "2017-09-30T17:16:58.148307",
     "start_time": "2017-09-30T17:16:58.143717"
    },
    "collapsed": false,
    "hide_input": false,
    "run_control": {
     "frozen": false,
     "read_only": false
    }
   },
   "outputs": [],
   "source": [
    "thisArray = np.arange(1,11)\n",
    "print (thisArray)"
   ]
  },
  {
   "cell_type": "code",
   "execution_count": null,
   "metadata": {
    "ExecuteTime": {
     "end_time": "2017-09-30T17:16:58.156540",
     "start_time": "2017-09-30T17:16:58.153531"
    },
    "collapsed": true,
    "hide_input": false,
    "run_control": {
     "frozen": false,
     "read_only": false
    }
   },
   "outputs": [],
   "source": [
    "thisArray = np.array(range(1,11))"
   ]
  },
  {
   "cell_type": "code",
   "execution_count": null,
   "metadata": {
    "ExecuteTime": {
     "end_time": "2017-09-30T17:16:58.168977",
     "start_time": "2017-09-30T17:16:58.163497"
    },
    "collapsed": false,
    "hide_input": false,
    "run_control": {
     "frozen": false,
     "read_only": false
    }
   },
   "outputs": [],
   "source": [
    "(thisArray % 2) == 0"
   ]
  },
  {
   "cell_type": "code",
   "execution_count": null,
   "metadata": {
    "ExecuteTime": {
     "end_time": "2017-09-30T17:16:58.180038",
     "start_time": "2017-09-30T17:16:58.174397"
    },
    "collapsed": false,
    "hide_input": false,
    "run_control": {
     "frozen": false,
     "read_only": false
    }
   },
   "outputs": [],
   "source": [
    "print((thisArray[(thisArray % 2) == 0]))\n",
    "print((thisArray[(thisArray % 2) == 0])[::-1] + 1)"
   ]
  },
  {
   "cell_type": "code",
   "execution_count": null,
   "metadata": {
    "ExecuteTime": {
     "end_time": "2017-09-30T17:16:58.200293",
     "start_time": "2017-09-30T17:16:58.185399"
    },
    "collapsed": false,
    "hide_input": false,
    "run_control": {
     "frozen": false,
     "read_only": false
    }
   },
   "outputs": [],
   "source": [
    "# notice that you cannot do \"broadcasting\" with lists, only with arrays\n",
    "list(thisArray)[(thisArray % 2) == 0]"
   ]
  },
  {
   "cell_type": "markdown",
   "metadata": {
    "run_control": {
     "frozen": false,
     "read_only": false
    }
   },
   "source": [
    " other useful things: choosing subset in both columns and rows; \n",
    " in these slicing operations the axes are separated by commas in the indices \n",
    " here I take the 3rd and 4th row, and the 1st, 2nd, 3rd columns\n"
   ]
  },
  {
   "cell_type": "code",
   "execution_count": null,
   "metadata": {
    "ExecuteTime": {
     "end_time": "2017-09-30T17:16:58.848725",
     "start_time": "2017-09-30T17:16:58.845936"
    },
    "collapsed": false,
    "run_control": {
     "frozen": false,
     "read_only": false
    }
   },
   "outputs": [],
   "source": [
    "multiDArray = np.random.randn(10, 100)"
   ]
  },
  {
   "cell_type": "code",
   "execution_count": null,
   "metadata": {
    "ExecuteTime": {
     "end_time": "2017-09-30T17:16:58.860710",
     "start_time": "2017-09-30T17:16:58.855036"
    },
    "collapsed": false,
    "run_control": {
     "frozen": false,
     "read_only": false
    }
   },
   "outputs": [],
   "source": [
    "multiDArray[2:4, :3]"
   ]
  },
  {
   "cell_type": "markdown",
   "metadata": {
    "run_control": {
     "frozen": false,
     "read_only": false
    }
   },
   "source": [
    "# PART 3: Functions"
   ]
  },
  {
   "cell_type": "code",
   "execution_count": null,
   "metadata": {
    "ExecuteTime": {
     "end_time": "2017-09-30T17:17:00.012442",
     "start_time": "2017-09-30T17:17:00.008881"
    },
    "collapsed": true,
    "run_control": {
     "frozen": false,
     "read_only": false
    }
   },
   "outputs": [],
   "source": [
    "def myHelloWorld(name=''):\n",
    "    '''prints hello world\n",
    "    arguments\n",
    "        name: your name (optional)\n",
    "    '''\n",
    "    print (\"Hello World\")"
   ]
  },
  {
   "cell_type": "code",
   "execution_count": null,
   "metadata": {
    "ExecuteTime": {
     "end_time": "2017-09-30T17:17:00.060113",
     "start_time": "2017-09-30T17:17:00.020516"
    },
    "collapsed": false,
    "hide_input": false,
    "run_control": {
     "frozen": false,
     "read_only": false
    }
   },
   "outputs": [],
   "source": [
    "#this will print your docstring!\n",
    "myHelloWorld?"
   ]
  },
  {
   "cell_type": "code",
   "execution_count": null,
   "metadata": {
    "ExecuteTime": {
     "end_time": "2017-09-30T17:17:00.068035",
     "start_time": "2017-09-30T17:17:00.062743"
    },
    "collapsed": true,
    "hide_input": true,
    "run_control": {
     "frozen": false,
     "read_only": false
    }
   },
   "outputs": [],
   "source": [
    "def extractReverseEvenValues(dataarr):\n",
    "    '''Extracts only even values from an array\n",
    "    arguments:\n",
    "        an array of int or float numbers\n",
    "    '''\n",
    "    #check if the input is an array as it should be\n",
    "    if type(dataarr) == np.ndarray:\n",
    "        evens = dataarr[dataarr % 2 == 0]\n",
    "        return dataarr[-1::-1]\n",
    "    print(\"You should have passed an array\")\n",
    "    return -1"
   ]
  },
  {
   "cell_type": "markdown",
   "metadata": {
    "run_control": {
     "frozen": false,
     "read_only": false
    }
   },
   "source": [
    "** Functions can take different types of arguments. ** \n",
    "The function below needs at least one argument, aString\n",
    "\n",
    "a second argument can be passed, but if it is omitted the function still works, and uses the default values as per declaration (3 in this case)"
   ]
  },
  {
   "cell_type": "code",
   "execution_count": null,
   "metadata": {
    "ExecuteTime": {
     "end_time": "2017-09-30T17:17:00.780298",
     "start_time": "2017-09-30T17:17:00.776776"
    },
    "collapsed": true,
    "run_control": {
     "frozen": false,
     "read_only": false
    }
   },
   "outputs": [],
   "source": [
    "def myOtherFunc(aString, aInt = 3):\n",
    "    '''Concatenates a string to itself\n",
    "    Arguments:\n",
    "        aString: string. The string to be concatenated\n",
    "        aInt: (optional) integer. The number of times to duplicate the string\n",
    "    Returns:\n",
    "        the concatenated string\n",
    "    '''\n",
    "    return aString * aInt"
   ]
  },
  {
   "cell_type": "code",
   "execution_count": null,
   "metadata": {
    "ExecuteTime": {
     "end_time": "2017-09-30T17:17:00.803412",
     "start_time": "2017-09-30T17:17:00.787357"
    },
    "collapsed": false,
    "run_control": {
     "frozen": false,
     "read_only": false
    }
   },
   "outputs": [],
   "source": [
    "myOtherFunc()"
   ]
  },
  {
   "cell_type": "code",
   "execution_count": null,
   "metadata": {
    "ExecuteTime": {
     "end_time": "2017-09-30T17:17:00.804037",
     "start_time": "2017-09-30T21:17:00.796Z"
    },
    "collapsed": false,
    "run_control": {
     "frozen": false,
     "read_only": false
    }
   },
   "outputs": [],
   "source": [
    "myOtherFunc('Hello')"
   ]
  },
  {
   "cell_type": "code",
   "execution_count": null,
   "metadata": {
    "ExecuteTime": {
     "end_time": "2017-09-30T17:17:00.808102",
     "start_time": "2017-09-30T21:17:00.806Z"
    },
    "collapsed": false,
    "run_control": {
     "frozen": false,
     "read_only": false
    }
   },
   "outputs": [],
   "source": [
    "myOtherFunc('Hello', aInt = 5)"
   ]
  },
  {
   "cell_type": "code",
   "execution_count": null,
   "metadata": {
    "ExecuteTime": {
     "end_time": "2017-09-30T17:17:00.817842",
     "start_time": "2017-09-30T21:17:00.816Z"
    },
    "collapsed": false,
    "hide_input": true,
    "run_control": {
     "frozen": false,
     "read_only": false
    }
   },
   "outputs": [],
   "source": [
    "def extractReverseEvenValues(dataArr):\n",
    "    '''extract and reverses even values from an array\n",
    "    arguments:\n",
    "        dataArr: a numpy 1D array of size>0\n",
    "    '''\n",
    "    if not type(dataArr) == np.ndarray:\n",
    "        print (\"you should have passed an array\")\n",
    "        return -1\n",
    "    return dataArr[dataArr % 2 == 0][::-1]\n",
    "print (\"here is the function definition\")"
   ]
  },
  {
   "cell_type": "code",
   "execution_count": null,
   "metadata": {
    "ExecuteTime": {
     "end_time": "2017-09-30T17:17:00.827737",
     "start_time": "2017-09-30T21:17:00.826Z"
    },
    "collapsed": false,
    "hide_input": false,
    "run_control": {
     "frozen": false,
     "read_only": false
    }
   },
   "outputs": [],
   "source": [
    "extracted = extractReverseEvenValues(np.arange(0,10,2))\n",
    "if type(extracted) == np.ndarray :\n",
    "    newDataArr = extracted + 1\n",
    "newDataArr    "
   ]
  },
  {
   "cell_type": "code",
   "execution_count": null,
   "metadata": {
    "ExecuteTime": {
     "end_time": "2017-09-30T17:17:00.849958",
     "start_time": "2017-09-30T21:17:00.848Z"
    },
    "collapsed": false,
    "run_control": {
     "frozen": false,
     "read_only": false
    }
   },
   "outputs": [],
   "source": [
    "extractReverseEvenValues(3)"
   ]
  },
  {
   "cell_type": "code",
   "execution_count": null,
   "metadata": {
    "ExecuteTime": {
     "end_time": "2017-09-30T17:17:00.859917",
     "start_time": "2017-09-30T21:17:00.858Z"
    },
    "collapsed": false,
    "run_control": {
     "frozen": false,
     "read_only": false
    }
   },
   "outputs": [],
   "source": [
    "extractReverseEvenValues([0,2,1])"
   ]
  },
  {
   "cell_type": "markdown",
   "metadata": {
    "run_control": {
     "frozen": false,
     "read_only": false
    }
   },
   "source": [
    "** EXERCISE**\n",
    " - create a function that takes a string\n",
    " - checks if the string is a palindrome\n",
    " - returns 1 if true\n",
    " - return -1 if false\n",
    " - and also prints \"Yes its a palindrome\" \n",
    " - or \"this is not a palindrome\"\n",
    " - if you finish early add a print statement that prints  ONLY the unique part (rad in radar)\n",
    "\n",
    "I wrote mine in a python file names ispalindrome.py and I can import it from it and run it (see below)"
   ]
  },
  {
   "cell_type": "code",
   "execution_count": null,
   "metadata": {
    "ExecuteTime": {
     "end_time": "2017-09-30T17:17:01.656681",
     "start_time": "2017-09-30T17:17:01.640072"
    },
    "collapsed": false,
    "run_control": {
     "frozen": false,
     "read_only": false
    }
   },
   "outputs": [],
   "source": [
    "from ispalindrome import lookForPal\n",
    "\n",
    "import ispalindrome as ipl\n",
    "reload(ipl)\n",
    "ipl.lookForPal()"
   ]
  },
  {
   "cell_type": "code",
   "execution_count": null,
   "metadata": {
    "ExecuteTime": {
     "end_time": "2017-09-30T17:17:01.657318",
     "start_time": "2017-09-30T21:17:01.649Z"
    },
    "collapsed": false,
    "run_control": {
     "frozen": false,
     "read_only": false
    }
   },
   "outputs": [],
   "source": [
    "hanna = 'Hann,ah,.:,'\n",
    "for c in ',.:;':\n",
    "    hanna = hanna.replace(c,'')\n",
    "hanna"
   ]
  },
  {
   "cell_type": "code",
   "execution_count": null,
   "metadata": {
    "ExecuteTime": {
     "end_time": "2017-09-30T17:17:01.661618",
     "start_time": "2017-09-30T21:17:01.659Z"
    },
    "collapsed": false,
    "run_control": {
     "frozen": false,
     "read_only": false
    }
   },
   "outputs": [],
   "source": [
    "lookForPal('Hannah')"
   ]
  },
  {
   "cell_type": "code",
   "execution_count": null,
   "metadata": {
    "ExecuteTime": {
     "end_time": "2017-09-30T17:17:01.671539",
     "start_time": "2017-09-30T21:17:01.669Z"
    },
    "collapsed": false,
    "run_control": {
     "frozen": false,
     "read_only": false
    }
   },
   "outputs": [],
   "source": [
    "int(3.9 + 0.5)"
   ]
  },
  {
   "cell_type": "code",
   "execution_count": null,
   "metadata": {
    "ExecuteTime": {
     "end_time": "2017-09-30T17:17:01.682112",
     "start_time": "2017-09-30T21:17:01.680Z"
    },
    "collapsed": false,
    "run_control": {
     "frozen": false,
     "read_only": false
    }
   },
   "outputs": [],
   "source": [
    "lookForPal('radar')"
   ]
  },
  {
   "cell_type": "code",
   "execution_count": null,
   "metadata": {
    "ExecuteTime": {
     "end_time": "2017-09-30T17:17:01.692426",
     "start_time": "2017-09-30T21:17:01.690Z"
    },
    "collapsed": false,
    "run_control": {
     "frozen": false,
     "read_only": false
    }
   },
   "outputs": [],
   "source": [
    "lookForPal('whatever')"
   ]
  },
  {
   "cell_type": "markdown",
   "metadata": {
    "run_control": {
     "frozen": false,
     "read_only": false
    }
   },
   "source": [
    "# file IO  \n",
    "more on this topic in [this notebook](readingData.ipynb), and [this one which uses pandas](PandasDataWrangling-Chap7.ipynb)"
   ]
  },
  {
   "cell_type": "markdown",
   "metadata": {
    "run_control": {
     "frozen": false,
     "read_only": false
    }
   },
   "source": [
    "I am going to create a file that contains 10 rows, each saying \"0 1 2 3 4 5 6 7 8 9\""
   ]
  },
  {
   "cell_type": "code",
   "execution_count": null,
   "metadata": {
    "ExecuteTime": {
     "end_time": "2017-09-30T17:17:03.452571",
     "start_time": "2017-09-30T17:17:03.447135"
    },
    "collapsed": false,
    "run_control": {
     "frozen": false,
     "read_only": false
    }
   },
   "outputs": [],
   "source": [
    "fout = open(\"temp.txt\", \"w\")\n",
    "\n",
    "for i in range(10):\n",
    "    for j in range(10):\n",
    "        print(j, \" \", end=\"\", file=fout)\n",
    "    print(\"\", file=fout)\n",
    "\n",
    "fout.close()"
   ]
  },
  {
   "cell_type": "markdown",
   "metadata": {
    "collapsed": true,
    "run_control": {
     "frozen": false,
     "read_only": false
    }
   },
   "source": [
    "Below I read the file with the readlines() file method, which returns a single string for every line\n",
    "\n",
    "and I use string methods and conversions to store the numbers in a 1D array"
   ]
  },
  {
   "cell_type": "code",
   "execution_count": null,
   "metadata": {
    "ExecuteTime": {
     "end_time": "2017-09-30T17:17:04.320429",
     "start_time": "2017-09-30T17:17:04.309374"
    },
    "collapsed": false,
    "run_control": {
     "frozen": false,
     "read_only": false
    }
   },
   "outputs": [],
   "source": [
    "tmpList = []\n",
    "\n",
    "fin = open(\"temp.txt\", \"r\")\n",
    "for ln in fin.readlines():\n",
    "    print (ln.split())\n",
    "    for dig in ln.split():\n",
    "        print (dig, type(dig))\n",
    "        tmpList.append(int(dig))\n"
   ]
  },
  {
   "cell_type": "code",
   "execution_count": null,
   "metadata": {
    "ExecuteTime": {
     "end_time": "2017-09-30T17:17:04.329217",
     "start_time": "2017-09-30T17:17:04.322564"
    },
    "collapsed": false,
    "run_control": {
     "frozen": false,
     "read_only": false
    },
    "scrolled": true
   },
   "outputs": [],
   "source": [
    "tmpList = np.array(tmpList)\n",
    "tmpList"
   ]
  },
  {
   "cell_type": "markdown",
   "metadata": {
    "collapsed": false,
    "run_control": {
     "frozen": false,
     "read_only": false
    }
   },
   "source": [
    "# PART 4: multi dimensional arrays"
   ]
  },
  {
   "cell_type": "markdown",
   "metadata": {
    "collapsed": false,
    "run_control": {
     "frozen": false,
     "read_only": false
    }
   },
   "source": [
    "** EXERCISE:**\n",
    " - download the npy files from the bootcamp github repo into the pwd (present working directory)\n"
   ]
  },
  {
   "cell_type": "code",
   "execution_count": null,
   "metadata": {
    "ExecuteTime": {
     "end_time": "2017-09-30T17:17:06.723514",
     "start_time": "2017-09-30T17:17:06.272421"
    },
    "collapsed": false,
    "run_control": {
     "frozen": false,
     "read_only": false
    },
    "scrolled": true
   },
   "outputs": [],
   "source": [
    "!curl -O https://raw.githubusercontent.com/fedhere/PyBOOT/master/busBusses.npy\n",
    "!curl -O https://raw.githubusercontent.com/fedhere/PyBOOT/master/busTimeTable.npy"
   ]
  },
  {
   "cell_type": "markdown",
   "metadata": {
    "run_control": {
     "frozen": false,
     "read_only": false
    }
   },
   "source": [
    "-  the files are numpy arrays stored as binary objects. You can load them with the function np.load()"
   ]
  },
  {
   "cell_type": "code",
   "execution_count": null,
   "metadata": {
    "ExecuteTime": {
     "end_time": "2017-09-30T17:17:07.893737",
     "start_time": "2017-09-30T17:17:07.889133"
    },
    "collapsed": false,
    "run_control": {
     "frozen": false,
     "read_only": false
    }
   },
   "outputs": [],
   "source": [
    "tt = np.load(\"busTimeTable.npy\")"
   ]
  },
  {
   "cell_type": "code",
   "execution_count": null,
   "metadata": {
    "ExecuteTime": {
     "end_time": "2017-09-30T17:17:07.904934",
     "start_time": "2017-09-30T17:17:07.900619"
    },
    "collapsed": true,
    "run_control": {
     "frozen": false,
     "read_only": false
    }
   },
   "outputs": [],
   "source": [
    "busses = np.load(\"busBusses.npy\")"
   ]
  },
  {
   "cell_type": "code",
   "execution_count": null,
   "metadata": {
    "ExecuteTime": {
     "end_time": "2017-09-30T17:17:07.920083",
     "start_time": "2017-09-30T17:17:07.913867"
    },
    "collapsed": false,
    "run_control": {
     "frozen": false,
     "read_only": false
    }
   },
   "outputs": [],
   "source": [
    "busses"
   ]
  },
  {
   "cell_type": "code",
   "execution_count": null,
   "metadata": {
    "ExecuteTime": {
     "end_time": "2017-09-30T17:17:07.932992",
     "start_time": "2017-09-30T17:17:07.926839"
    },
    "collapsed": false,
    "run_control": {
     "frozen": false,
     "read_only": false
    }
   },
   "outputs": [],
   "source": [
    "tt.shape"
   ]
  },
  {
   "cell_type": "code",
   "execution_count": null,
   "metadata": {
    "ExecuteTime": {
     "end_time": "2017-09-30T17:17:07.947241",
     "start_time": "2017-09-30T17:17:07.941358"
    },
    "collapsed": false,
    "run_control": {
     "frozen": false,
     "read_only": false
    }
   },
   "outputs": [],
   "source": [
    "tt.max(axis=1)"
   ]
  },
  {
   "cell_type": "code",
   "execution_count": null,
   "metadata": {
    "ExecuteTime": {
     "end_time": "2017-09-30T17:17:07.959002",
     "start_time": "2017-09-30T17:17:07.954812"
    },
    "collapsed": true,
    "run_control": {
     "frozen": false,
     "read_only": false
    }
   },
   "outputs": [],
   "source": [
    "hours = range(1,11)"
   ]
  },
  {
   "cell_type": "code",
   "execution_count": null,
   "metadata": {
    "ExecuteTime": {
     "end_time": "2017-09-30T17:17:07.975428",
     "start_time": "2017-09-30T17:17:07.969414"
    },
    "collapsed": false,
    "run_control": {
     "frozen": false,
     "read_only": false
    }
   },
   "outputs": [],
   "source": [
    "hours"
   ]
  },
  {
   "cell_type": "markdown",
   "metadata": {
    "run_control": {
     "frozen": false,
     "read_only": false
    }
   },
   "source": [
    "this is a made-up but time table indicating the duration of trips for different busses at different times of the day\n",
    "\n",
    "below I print it in an orderly form\n"
   ]
  },
  {
   "cell_type": "code",
   "execution_count": null,
   "metadata": {
    "ExecuteTime": {
     "end_time": "2017-09-30T17:17:09.202480",
     "start_time": "2017-09-30T17:17:09.184505"
    },
    "collapsed": false,
    "run_control": {
     "frozen": false,
     "read_only": false
    }
   },
   "outputs": [],
   "source": [
    "def printBusTable(times, i):\n",
    "    print(\"{:>3d} \".format(busses[i]), end=\"\")\n",
    "    for j in times[i]:\n",
    "        print(\"{:>7.2f} \".format(j), end=\"\")\n",
    "    print(\"\\n\")\n",
    "\n",
    "print(\"{:>3}\".format(\"\"), end=\"\")\n",
    "\n",
    "for k in range(10):\n",
    "    print(\"{:>4} PM \".format(hours[k]), end=\"\")\n",
    "print(\"\")\n",
    "\n",
    "print(\"{:>3}\".format(\"BUS\"), end=\"\")\n",
    "print(\"\")\n",
    "\n",
    "for k in range(20):\n",
    "    printBusTable(tt, k)"
   ]
  },
  {
   "cell_type": "markdown",
   "metadata": {
    "run_control": {
     "frozen": false,
     "read_only": false
    }
   },
   "source": [
    "you can take the mean of all travel times with the mean method of the array\n",
    "(for the rest of this exercise I will take care of writing out nicely formatted sentences)"
   ]
  },
  {
   "cell_type": "code",
   "execution_count": null,
   "metadata": {
    "ExecuteTime": {
     "end_time": "2017-09-30T17:17:10.506155",
     "start_time": "2017-09-30T17:17:10.502129"
    },
    "collapsed": false,
    "hide_input": true,
    "run_control": {
     "frozen": false,
     "read_only": false
    }
   },
   "outputs": [],
   "source": [
    "print(\"mean time {:.2f} minutes for all busses at any time\".format(tt.mean()))"
   ]
  },
  {
   "cell_type": "markdown",
   "metadata": {
    "run_control": {
     "frozen": false,
     "read_only": false
    }
   },
   "source": [
    "** EXERCISE:**\n",
    "you have travel time for 20 busses at 10 hours of the day, 1PM through 10PM\n",
    "\n",
    "the names of the busses are stored in busses (busBusses.npy)\n",
    "\n",
    "the hours of the day are stored in hours (hours = range(1, 11))\n",
    "\n",
    "the travel times are in tt (busTimeTable.npy)\n",
    "\n",
    "- find the hour (1PM to 10PM) of the day when on average it takes the longest to ride \n",
    "\n",
    "- find the bus that takes the longest to ride on average (averaged over all hours of the day)\n",
    "\n",
    "- print the name of the bus that takes the longest \n",
    "\n",
    "- hour of the day when it takes the longest"
   ]
  },
  {
   "cell_type": "markdown",
   "metadata": {
    "run_control": {
     "frozen": false,
     "read_only": false
    }
   },
   "source": [
    "you can use: \n",
    "- the mean method of np arrays, e.g. tt.mean(axis = 0)\n",
    "- the maxmethod of np arrays, e.g. myarray.max()\n",
    "- broadcast the names and hours (but remember: that one is a list!) to extract the value corresonding to the location of max\n",
    "    \n"
   ]
  },
  {
   "cell_type": "code",
   "execution_count": null,
   "metadata": {
    "ExecuteTime": {
     "end_time": "2017-09-30T17:17:12.668846",
     "start_time": "2017-09-30T17:17:12.663259"
    },
    "collapsed": false,
    "hide_input": false,
    "run_control": {
     "frozen": false,
     "read_only": false
    }
   },
   "outputs": [],
   "source": [
    "#using the axis argumentI can choose to takethe averagealongrowsoralongcolumns\n",
    "print(tt.mean(axis = 0))\n",
    "print(tt.mean(axis = 1))"
   ]
  },
  {
   "cell_type": "code",
   "execution_count": null,
   "metadata": {
    "ExecuteTime": {
     "end_time": "2017-09-30T17:17:12.693611",
     "start_time": "2017-09-30T17:17:12.688460"
    },
    "collapsed": false,
    "run_control": {
     "frozen": false,
     "read_only": false
    }
   },
   "outputs": [],
   "source": [
    "tt.mean(axis = 0).max()"
   ]
  },
  {
   "cell_type": "code",
   "execution_count": null,
   "metadata": {
    "ExecuteTime": {
     "end_time": "2017-09-30T17:17:12.707608",
     "start_time": "2017-09-30T17:17:12.702235"
    },
    "collapsed": false,
    "hide_input": false,
    "run_control": {
     "frozen": false,
     "read_only": false
    }
   },
   "outputs": [],
   "source": [
    "#with an == operator and the .max()method I can find the longest column, on average\n",
    "tt.mean(axis = 0) == tt.mean(axis = 0).max()"
   ]
  },
  {
   "cell_type": "code",
   "execution_count": null,
   "metadata": {
    "ExecuteTime": {
     "end_time": "2017-09-30T17:17:12.719122",
     "start_time": "2017-09-30T17:17:12.714051"
    },
    "collapsed": false,
    "hide_input": false,
    "run_control": {
     "frozen": false,
     "read_only": false
    }
   },
   "outputs": [],
   "source": [
    "#with an == operator and the .max()method I can find the longest row, on average\n",
    "tt.mean(axis = 1) == tt.mean(axis = 1).max()"
   ]
  },
  {
   "cell_type": "code",
   "execution_count": null,
   "metadata": {
    "ExecuteTime": {
     "end_time": "2017-09-30T17:17:12.731701",
     "start_time": "2017-09-30T17:17:12.725500"
    },
    "collapsed": false,
    "hide_input": false,
    "run_control": {
     "frozen": false,
     "read_only": false
    }
   },
   "outputs": [],
   "source": [
    "#broadcasting I can extract the corresponding bus and the corresponding time of the day\n",
    "busses[tt.mean(axis = 1) == tt.mean(axis = 1).max()]"
   ]
  },
  {
   "cell_type": "code",
   "execution_count": null,
   "metadata": {
    "ExecuteTime": {
     "end_time": "2017-09-30T17:17:12.743435",
     "start_time": "2017-09-30T17:17:12.738002"
    },
    "collapsed": false,
    "hide_input": false,
    "run_control": {
     "frozen": false,
     "read_only": false
    }
   },
   "outputs": [],
   "source": [
    "meanByBus = tt.mean(axis = 1)\n",
    "print(\"the bus that takes the longest is: BUS {}, which takes {:.2f} minutes\"\\\n",
    "      .format(busses[meanByBus == meanByBus.max()][0], meanByBus.max()))"
   ]
  },
  {
   "cell_type": "code",
   "execution_count": null,
   "metadata": {
    "ExecuteTime": {
     "end_time": "2017-09-30T17:17:12.758735",
     "start_time": "2017-09-30T17:17:12.753234"
    },
    "collapsed": false,
    "hide_input": false,
    "run_control": {
     "frozen": false,
     "read_only": false
    }
   },
   "outputs": [],
   "source": [
    "np.array(hours)[tt.mean(axis = 0) == tt.mean(axis = 0).max()]"
   ]
  },
  {
   "cell_type": "code",
   "execution_count": null,
   "metadata": {
    "ExecuteTime": {
     "end_time": "2017-09-30T17:17:12.768714",
     "start_time": "2017-09-30T17:17:12.764861"
    },
    "collapsed": false,
    "hide_input": false,
    "run_control": {
     "frozen": false,
     "read_only": false
    }
   },
   "outputs": [],
   "source": [
    "meanByTime = tt.mean(axis = 0)\n",
    "print(\"the time it takes the longest is: {} PM, when the trip takes {:.2f} minutes\"\\\n",
    "      .format(np.array(hours)[meanByTime == meanByTime.max()][0], meanByTime.max()))"
   ]
  },
  {
   "cell_type": "markdown",
   "metadata": {
    "run_control": {
     "frozen": false,
     "read_only": false
    }
   },
   "source": [
    "# Part 5:  iterators - for loops, enumerate, and list comprehensions"
   ]
  },
  {
   "cell_type": "markdown",
   "metadata": {
    "run_control": {
     "frozen": false,
     "read_only": false
    }
   },
   "source": [
    "## for loops\n",
    "generally for loops should be avoided as much as possible in python because they are very inefficient computationally. Slicing and broadcasting can in many instances replace a for loop."
   ]
  },
  {
   "cell_type": "code",
   "execution_count": null,
   "metadata": {
    "ExecuteTime": {
     "end_time": "2017-09-30T17:17:14.919580",
     "start_time": "2017-09-30T17:17:14.915971"
    },
    "collapsed": false,
    "run_control": {
     "frozen": false,
     "read_only": false
    }
   },
   "outputs": [],
   "source": [
    "for i in range(10):\n",
    "    print (i)"
   ]
  },
  {
   "cell_type": "code",
   "execution_count": null,
   "metadata": {
    "ExecuteTime": {
     "end_time": "2017-09-30T17:17:14.930862",
     "start_time": "2017-09-30T17:17:14.927333"
    },
    "collapsed": false,
    "run_control": {
     "frozen": false,
     "read_only": false
    }
   },
   "outputs": [],
   "source": [
    "for k in dictVariable:\n",
    "    print (k)"
   ]
  },
  {
   "cell_type": "code",
   "execution_count": null,
   "metadata": {
    "ExecuteTime": {
     "end_time": "2017-09-30T17:17:14.944027",
     "start_time": "2017-09-30T17:17:14.939174"
    },
    "collapsed": false,
    "run_control": {
     "frozen": false,
     "read_only": false
    }
   },
   "outputs": [],
   "source": [
    "dictVariable"
   ]
  },
  {
   "cell_type": "markdown",
   "metadata": {
    "run_control": {
     "frozen": false,
     "read_only": false
    }
   },
   "source": [
    "**Exercise:**\n",
    "create a calendar with nested for loops ([instructions](LoopExercise.ipynb))"
   ]
  },
  {
   "cell_type": "markdown",
   "metadata": {
    "run_control": {
     "frozen": false,
     "read_only": false
    }
   },
   "source": [
    "## enumerate\n",
    "the enumerate() python core function iterates over a container (list, array tuple, dictionary) and returns the iteration number and the iteration element"
   ]
  },
  {
   "cell_type": "code",
   "execution_count": null,
   "metadata": {
    "ExecuteTime": {
     "end_time": "2017-09-30T17:17:17.616859",
     "start_time": "2017-09-30T17:17:17.612969"
    },
    "collapsed": false,
    "run_control": {
     "frozen": false,
     "read_only": false
    }
   },
   "outputs": [],
   "source": [
    "for i,e in enumerate(['a','b','c']):\n",
    "    print (i,e)"
   ]
  },
  {
   "cell_type": "markdown",
   "metadata": {
    "run_control": {
     "frozen": false,
     "read_only": false
    }
   },
   "source": [
    "enumerate returns a tuple: above I split the tuple extracting the elements"
   ]
  },
  {
   "cell_type": "code",
   "execution_count": null,
   "metadata": {
    "ExecuteTime": {
     "end_time": "2017-09-30T17:17:18.717096",
     "start_time": "2017-09-30T17:17:18.713159"
    },
    "collapsed": false,
    "run_control": {
     "frozen": false,
     "read_only": false
    }
   },
   "outputs": [],
   "source": [
    "for t in enumerate(['a','b','c']):\n",
    "    print (t)"
   ]
  },
  {
   "cell_type": "code",
   "execution_count": null,
   "metadata": {
    "ExecuteTime": {
     "end_time": "2017-09-30T17:17:18.729360",
     "start_time": "2017-09-30T17:17:18.725201"
    },
    "collapsed": false,
    "run_control": {
     "frozen": false,
     "read_only": false
    }
   },
   "outputs": [],
   "source": [
    "#a tuple is an immutable list\n",
    "t"
   ]
  },
  {
   "cell_type": "code",
   "execution_count": null,
   "metadata": {
    "ExecuteTime": {
     "end_time": "2017-09-30T17:17:18.750293",
     "start_time": "2017-09-30T17:17:18.737333"
    },
    "collapsed": false,
    "run_control": {
     "frozen": false,
     "read_only": false
    }
   },
   "outputs": [],
   "source": [
    "t[0] = 1"
   ]
  },
  {
   "cell_type": "markdown",
   "metadata": {
    "run_control": {
     "frozen": false,
     "read_only": false
    }
   },
   "source": [
    "**Exercise**"
   ]
  },
  {
   "cell_type": "markdown",
   "metadata": {
    "run_control": {
     "frozen": false,
     "read_only": false
    }
   },
   "source": [
    "- put the average times into a dictionary, with key the bus number, and value the average travel time for that bus\n",
    "- for loop in python iterate over lists, or arrays (or generally \"iterable objects\") extracting the content of each cell cell by cell\n",
    "- if i want both the content of the cell as well as its indext, enumerate does just that:\n",
    "- I use enumerate"
   ]
  },
  {
   "cell_type": "code",
   "execution_count": null,
   "metadata": {
    "ExecuteTime": {
     "end_time": "2017-09-30T17:17:21.103805",
     "start_time": "2017-09-30T17:17:21.099108"
    },
    "collapsed": false,
    "run_control": {
     "frozen": false,
     "read_only": false
    }
   },
   "outputs": [],
   "source": [
    "for i, bus in enumerate(busses):\n",
    "    print(i,bus)"
   ]
  },
  {
   "cell_type": "code",
   "execution_count": null,
   "metadata": {
    "ExecuteTime": {
     "end_time": "2017-09-30T17:17:21.116567",
     "start_time": "2017-09-30T17:17:21.111564"
    },
    "collapsed": false,
    "run_control": {
     "frozen": false,
     "read_only": false
    }
   },
   "outputs": [],
   "source": [
    "busses"
   ]
  },
  {
   "cell_type": "code",
   "execution_count": null,
   "metadata": {
    "ExecuteTime": {
     "end_time": "2017-09-30T17:17:21.128067",
     "start_time": "2017-09-30T17:17:21.124109"
    },
    "collapsed": false,
    "run_control": {
     "frozen": false,
     "read_only": false
    }
   },
   "outputs": [],
   "source": [
    "busdict = {}\n",
    "for i, bus in enumerate(busses):\n",
    "    busdict[bus] = tt[i].mean()"
   ]
  },
  {
   "cell_type": "code",
   "execution_count": null,
   "metadata": {
    "ExecuteTime": {
     "end_time": "2017-09-30T17:17:21.143897",
     "start_time": "2017-09-30T17:17:21.137110"
    },
    "collapsed": false,
    "run_control": {
     "frozen": false,
     "read_only": false
    }
   },
   "outputs": [],
   "source": [
    "busdict"
   ]
  },
  {
   "cell_type": "markdown",
   "metadata": {
    "run_control": {
     "frozen": false,
     "read_only": false
    }
   },
   "source": [
    "lets put the index, bus number, and time average for that bus into a list"
   ]
  },
  {
   "cell_type": "code",
   "execution_count": null,
   "metadata": {
    "ExecuteTime": {
     "end_time": "2017-09-30T17:17:22.390867",
     "start_time": "2017-09-30T17:17:22.381046"
    },
    "collapsed": false,
    "run_control": {
     "frozen": false,
     "read_only": false
    }
   },
   "outputs": [],
   "source": [
    "busAverages = []\n",
    "for i, bus in enumerate(busses):\n",
    "    busAverages.append((i, bus, tt[i].mean()))\n",
    "busAverages    "
   ]
  },
  {
   "cell_type": "markdown",
   "metadata": {
    "run_control": {
     "frozen": false,
     "read_only": false
    }
   },
   "source": [
    "this can be done in a single line with a _list comprehension_ which is a very compact and efficient way to write a for loop if what I want to do is return the result of some operation into a list"
   ]
  },
  {
   "cell_type": "code",
   "execution_count": null,
   "metadata": {
    "ExecuteTime": {
     "end_time": "2017-09-30T17:17:23.690853",
     "start_time": "2017-09-30T17:17:23.687834"
    },
    "collapsed": false,
    "run_control": {
     "frozen": false,
     "read_only": false
    }
   },
   "outputs": [],
   "source": [
    "# list comprehension\n",
    "busAverages2 = [(i, bus) for i, bus in enumerate(busses)] "
   ]
  },
  {
   "cell_type": "code",
   "execution_count": null,
   "metadata": {
    "ExecuteTime": {
     "end_time": "2017-09-30T17:17:23.704179",
     "start_time": "2017-09-30T17:17:23.699916"
    },
    "collapsed": false,
    "run_control": {
     "frozen": false,
     "read_only": false
    }
   },
   "outputs": [],
   "source": [
    "print(\"mean time by bus\")\n",
    "print('\\n'.join('{:>5d}: {:6.2f} minutes'.format(busses[k[0]], k[1]) for k in enumerate(tt.mean(axis = 1))))\n"
   ]
  },
  {
   "cell_type": "code",
   "execution_count": null,
   "metadata": {
    "ExecuteTime": {
     "end_time": "2017-09-30T17:17:23.717418",
     "start_time": "2017-09-30T17:17:23.713141"
    },
    "collapsed": false,
    "run_control": {
     "frozen": false,
     "read_only": false
    }
   },
   "outputs": [],
   "source": [
    "print(\"mean time by hour\")\n",
    "print('\\n'.join('{:>2d} PM: {:6.2f} minutes'.format(hours[k[0]], k[1]) for k in enumerate(tt.mean(axis = 0))))\n"
   ]
  },
  {
   "cell_type": "markdown",
   "metadata": {
    "run_control": {
     "frozen": false,
     "read_only": false
    }
   },
   "source": [
    "## list comprehension\n",
    "list comprehension is a way to write a for loop in a line and return a list container. It has significant computational advantages over for loops"
   ]
  },
  {
   "cell_type": "code",
   "execution_count": null,
   "metadata": {
    "ExecuteTime": {
     "end_time": "2017-09-30T17:17:25.030444",
     "start_time": "2017-09-30T17:17:25.021198"
    },
    "collapsed": false,
    "run_control": {
     "frozen": false,
     "read_only": false
    }
   },
   "outputs": [],
   "source": [
    "aList = []\n",
    "for i in range(10000):\n",
    "    aList.append(\"%s\"%i)"
   ]
  },
  {
   "cell_type": "code",
   "execution_count": null,
   "metadata": {
    "ExecuteTime": {
     "end_time": "2017-09-30T17:17:25.074314",
     "start_time": "2017-09-30T17:17:25.068595"
    },
    "collapsed": false,
    "run_control": {
     "frozen": false,
     "read_only": false
    }
   },
   "outputs": [],
   "source": [
    "aList[:10]"
   ]
  },
  {
   "cell_type": "code",
   "execution_count": null,
   "metadata": {
    "ExecuteTime": {
     "end_time": "2017-09-30T17:17:25.097091",
     "start_time": "2017-09-30T17:17:25.088902"
    },
    "collapsed": false,
    "run_control": {
     "frozen": false,
     "read_only": false
    }
   },
   "outputs": [],
   "source": [
    "aList = [\"%s\"%i for i in range(10000)]"
   ]
  },
  {
   "cell_type": "code",
   "execution_count": null,
   "metadata": {
    "ExecuteTime": {
     "end_time": "2017-09-30T17:17:25.116734",
     "start_time": "2017-09-30T17:17:25.111959"
    },
    "collapsed": false,
    "run_control": {
     "frozen": false,
     "read_only": false
    }
   },
   "outputs": [],
   "source": [
    "aList[:10]"
   ]
  },
  {
   "cell_type": "code",
   "execution_count": null,
   "metadata": {
    "collapsed": false,
    "run_control": {
     "frozen": false,
     "read_only": false
    }
   },
   "outputs": [],
   "source": []
  },
  {
   "cell_type": "markdown",
   "metadata": {
    "run_control": {
     "frozen": false,
     "read_only": false
    }
   },
   "source": [
    "# PART 6: matplotlib"
   ]
  },
  {
   "cell_type": "markdown",
   "metadata": {
    "collapsed": false,
    "run_control": {
     "frozen": false,
     "read_only": false
    }
   },
   "source": [
    "## setting up pylab plotting\n"
   ]
  },
  {
   "cell_type": "code",
   "execution_count": null,
   "metadata": {
    "ExecuteTime": {
     "end_time": "2017-09-30T17:17:28.497180",
     "start_time": "2017-09-30T17:17:28.292331"
    },
    "collapsed": false,
    "run_control": {
     "frozen": false,
     "read_only": false
    }
   },
   "outputs": [],
   "source": [
    "import pylab as pl\n",
    "%pylab inline\n",
    "\n",
    "#rcParams is adictionary hosting the pylab settings\n",
    "pylab.rcParams\n"
   ]
  },
  {
   "cell_type": "code",
   "execution_count": null,
   "metadata": {
    "ExecuteTime": {
     "end_time": "2017-09-30T17:17:28.502040",
     "start_time": "2017-09-30T17:17:28.498887"
    },
    "collapsed": true,
    "run_control": {
     "frozen": false,
     "read_only": false
    }
   },
   "outputs": [],
   "source": [
    "# changing default settings with rcParams\n",
    "s = {'font.size': 20, 'figure.figsize': (10,10)}\n",
    "pylab.rcParams.update(s)"
   ]
  },
  {
   "cell_type": "markdown",
   "metadata": {
    "run_control": {
     "frozen": false,
     "read_only": false
    }
   },
   "source": [
    "## figures and axis objects and simple plots"
   ]
  },
  {
   "cell_type": "code",
   "execution_count": null,
   "metadata": {
    "ExecuteTime": {
     "end_time": "2017-09-30T17:17:29.894579",
     "start_time": "2017-09-30T17:17:29.891341"
    },
    "collapsed": true,
    "run_control": {
     "frozen": false,
     "read_only": false
    }
   },
   "outputs": [],
   "source": [
    "myx = np.arange(10)\n",
    "myy1 = np.arange(0, 100, 10)\n",
    "myy2 = np.linspace(0, 25, 10)"
   ]
  },
  {
   "cell_type": "code",
   "execution_count": null,
   "metadata": {
    "ExecuteTime": {
     "end_time": "2017-09-30T17:32:11.114803",
     "start_time": "2017-09-30T17:32:10.580492"
    },
    "collapsed": false,
    "run_control": {
     "frozen": false,
     "read_only": false
    }
   },
   "outputs": [],
   "source": [
    "#create a figure object, so you can referto it later\n",
    "fig = pl.figure()\n",
    "#populate it with subplots as axis objects\n",
    "ax1 = fig.add_subplot(121)\n",
    "ax2 = fig.add_subplot(122)\n",
    "\n",
    "ax1.plot(myx, myy1, 'ko', ms=10, label='black plot')#, color='IndianRed')\n",
    "ax2.plot(myx, myy2, 'r--', ms=20, label='red plot', lw=4)#, color='SteelBlue')\n",
    "\n",
    "ax1.set_xlabel(\"some range\")\n",
    "ax2.set_xlabel(\"some other range\", fontsize = 15)\n",
    "ax1.set_ylabel(\"some value\")\n",
    "ax1.set_ylabel(\"some other value\")\n",
    "\n",
    "ax1.set_xticks([0, 2, 4, 9])\n",
    "ax1.set_xlim((0, 12))\n",
    "ax1.set_ylim((0, 115))\n",
    "ax2.set_ylim((0, 27))\n",
    "#legend location is optimized for minimum overlap with data in the most recent versions of pylab\n",
    "ax1.legend(fontsize = 15)\n",
    "ax2.legend(fontsize = 15, loc='upper left', shadow=True)\n",
    "ax1.set_xticklabels(['<$2','$2-4','$4-9','>$9'], fontsize=15);"
   ]
  },
  {
   "cell_type": "markdown",
   "metadata": {},
   "source": [
    "## plotting errorbars "
   ]
  },
  {
   "cell_type": "code",
   "execution_count": null,
   "metadata": {
    "ExecuteTime": {
     "end_time": "2017-09-30T17:17:30.789349",
     "start_time": "2017-09-30T17:17:30.401158"
    },
    "collapsed": false,
    "run_control": {
     "frozen": false,
     "read_only": false
    }
   },
   "outputs": [],
   "source": [
    "x = np.arange(100)\n",
    "y = np.random.randn(100) + np.sqrt(x)\n",
    "yerr = np.random.normal(y, np.sqrt(np.abs(y)))#,np.sqrt(y))\n",
    "pl.plot(x, y)\n",
    "pl.xlabel(\"some range\")\n",
    "pl.ylabel(\"some value\", fontsize = 15);"
   ]
  },
  {
   "cell_type": "code",
   "execution_count": null,
   "metadata": {
    "ExecuteTime": {
     "end_time": "2017-09-30T17:17:31.197974",
     "start_time": "2017-09-30T17:17:30.792204"
    },
    "collapsed": false,
    "run_control": {
     "frozen": false,
     "read_only": false
    }
   },
   "outputs": [],
   "source": [
    "pl.errorbar(x, y, yerr=yerr)\n",
    "pl.xlabel(\"some range\")\n",
    "pl.ylabel(\"some value\", fontsize = 15);"
   ]
  },
  {
   "cell_type": "code",
   "execution_count": null,
   "metadata": {
    "ExecuteTime": {
     "end_time": "2017-09-30T17:17:31.647371",
     "start_time": "2017-09-30T17:17:31.200429"
    },
    "collapsed": false,
    "run_control": {
     "frozen": false,
     "read_only": false
    }
   },
   "outputs": [],
   "source": [
    "pl.plot(x,y)\n",
    "pl.fill_between(x, y-yerr, y+yerr, alpha=0.5)\n",
    "pl.xlabel(\"some range\")\n",
    "pl.ylabel(\"some value\", fontsize = 15);"
   ]
  },
  {
   "cell_type": "markdown",
   "metadata": {
    "run_control": {
     "frozen": false,
     "read_only": false
    }
   },
   "source": [
    "## plotting 2D arrays"
   ]
  },
  {
   "cell_type": "markdown",
   "metadata": {},
   "source": [
    "You can plot 2d arrays mapping the values of each cell to a color in the corresponding pixel"
   ]
  },
  {
   "cell_type": "code",
   "execution_count": null,
   "metadata": {
    "ExecuteTime": {
     "end_time": "2017-09-30T17:26:17.144273",
     "start_time": "2017-09-30T17:26:16.530556"
    },
    "collapsed": false,
    "run_control": {
     "frozen": false,
     "read_only": false
    }
   },
   "outputs": [],
   "source": [
    "# plotting the bus timetable  with busses along the y axis and times along the x axis. \n",
    "# High values (long commute) is light, low value (short commute) is dark\n",
    "fig = pl.figure()\n",
    "#populate it with subplots as axis objects\n",
    "ax1 = fig.add_subplot(131)\n",
    "ax2 = fig.add_subplot(132)\n",
    "ax3 = fig.add_subplot(1,3,3)\n",
    "ax1.imshow(tt, cmap='bone')\n",
    "#default in the most recent version of pylab is not to interpolate (not the case in earlier versions),\n",
    "#but you can interpolate between pixel values to get smooth surfaces\n",
    "ax2.imshow(tt, cmap='bone', interpolation='bilinear')\n",
    "#the difoult color map is viridis\n",
    "ax3.imshow(tt)\n",
    "#removing axis \n",
    "ax2.axis('off');\n",
    "ax3.axis('off');"
   ]
  },
  {
   "cell_type": "markdown",
   "metadata": {},
   "source": [
    "digital images are arrays of numbers. A black and white image can be encoded in a 2D array, a color image in a 3D array"
   ]
  },
  {
   "cell_type": "code",
   "execution_count": null,
   "metadata": {
    "ExecuteTime": {
     "end_time": "2017-09-30T17:27:43.474800",
     "start_time": "2017-09-30T17:27:41.634517"
    },
    "collapsed": false,
    "run_control": {
     "frozen": false,
     "read_only": false
    }
   },
   "outputs": [],
   "source": [
    "import scipy as sp\n",
    "from scipy import misc\n",
    "ml = sp.misc.imread(\"Mona_Lisa.png\")\n",
    "pl.imshow(ml)\n",
    "pl.axis('off');"
   ]
  },
  {
   "cell_type": "markdown",
   "metadata": {},
   "source": [
    "3D+ are needed to encode color images because its the combination of the color channels with different values that renders the image color"
   ]
  },
  {
   "cell_type": "code",
   "execution_count": null,
   "metadata": {
    "ExecuteTime": {
     "end_time": "2017-09-30T17:17:38.579116",
     "start_time": "2017-09-30T17:17:38.572539"
    },
    "collapsed": false,
    "run_control": {
     "frozen": false,
     "read_only": false
    }
   },
   "outputs": [],
   "source": [
    "ml.shape"
   ]
  },
  {
   "cell_type": "code",
   "execution_count": null,
   "metadata": {
    "ExecuteTime": {
     "end_time": "2017-09-30T17:22:01.844150",
     "start_time": "2017-09-30T17:21:57.732598"
    },
    "collapsed": false,
    "run_control": {
     "frozen": false,
     "read_only": false
    }
   },
   "outputs": [],
   "source": [
    "#plot the red, green and blue channels separately\n",
    "fig = pl.figure(figsize=(30,30))\n",
    "ax = fig.add_subplot(131)\n",
    "ax.imshow(ml[:,:,0], cmap=\"Reds\")\n",
    "ax.axis('off')\n",
    "ax = fig.add_subplot(132)\n",
    "ax.imshow(ml[:,:,1], cmap=\"Greens\")\n",
    "ax.axis('off')\n",
    "ax = fig.add_subplot(133)\n",
    "ax.imshow(ml[:,:,2], cmap=\"Blues\")\n",
    "ax.axis('off');"
   ]
  },
  {
   "cell_type": "code",
   "execution_count": null,
   "metadata": {
    "ExecuteTime": {
     "end_time": "2017-09-30T17:17:38.588472",
     "start_time": "2017-09-30T17:17:38.582911"
    },
    "collapsed": false,
    "run_control": {
     "frozen": false,
     "read_only": false
    }
   },
   "outputs": [],
   "source": [
    "#most image types save each pixel value in 8-bit unsigned integers\n",
    "type(ml[0,0,0])"
   ]
  },
  {
   "cell_type": "markdown",
   "metadata": {},
   "source": [
    "averaging across the color would give me the black and white version of the color image"
   ]
  },
  {
   "cell_type": "code",
   "execution_count": null,
   "metadata": {
    "ExecuteTime": {
     "end_time": "2017-09-30T17:31:18.172632",
     "start_time": "2017-09-30T17:31:13.663436"
    },
    "collapsed": false
   },
   "outputs": [],
   "source": [
    "#plot the red, green and blue channels separately\n",
    "fig = pl.figure(figsize=(30,30))\n",
    "ax = fig.add_subplot(111)\n",
    "ax.imshow(ml.mean(axis=2), cmap=\"bone\")\n",
    "ax.axis('off');"
   ]
  },
  {
   "cell_type": "markdown",
   "metadata": {
    "collapsed": true,
    "run_control": {
     "frozen": false,
     "read_only": false
    }
   },
   "source": [
    " more plotting [here](https://github.com/fedhere/UInotebooks/blob/master/visz/some_colors_and_shapes.ipynb)"
   ]
  },
  {
   "cell_type": "code",
   "execution_count": null,
   "metadata": {
    "collapsed": true,
    "run_control": {
     "frozen": false,
     "read_only": false
    }
   },
   "outputs": [],
   "source": []
  }
 ],
 "metadata": {
  "anaconda-cloud": {},
  "kernelspec": {
   "display_name": "PUI2016_Python3",
   "language": "python",
   "name": "pui2016_python3"
  },
  "language_info": {
   "codemirror_mode": {
    "name": "ipython",
    "version": 3
   },
   "file_extension": ".py",
   "mimetype": "text/x-python",
   "name": "python",
   "nbconvert_exporter": "python",
   "pygments_lexer": "ipython3",
   "version": "3.5.4"
  },
  "latex_envs": {
   "LaTeX_envs_menu_present": true,
   "bibliofile": "biblio.bib",
   "cite_by": "apalike",
   "current_citInitial": 1,
   "eqLabelWithNumbers": true,
   "eqNumInitial": 1,
   "hotkeys": {
    "equation": "Ctrl-E",
    "itemize": "Ctrl-I"
   },
   "labels_anchors": false,
   "latex_user_defs": false,
   "report_style_numbering": false,
   "user_envs_cfg": false
  },
  "toc": {
   "colors": {
    "hover_highlight": "#DAA520",
    "running_highlight": "#FF0000",
    "selected_highlight": "#FFD700"
   },
   "moveMenuLeft": true,
   "nav_menu": {
    "height": "426px",
    "width": "252px"
   },
   "navigate_menu": true,
   "number_sections": true,
   "sideBar": true,
   "threshold": 4,
   "toc_cell": true,
   "toc_section_display": "block",
   "toc_window_display": true
  }
 },
 "nbformat": 4,
 "nbformat_minor": 0
}

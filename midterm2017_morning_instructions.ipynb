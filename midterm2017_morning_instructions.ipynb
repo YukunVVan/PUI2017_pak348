{
 "cells": [
  {
   "cell_type": "markdown",
   "metadata": {
    "run_control": {
     "frozen": false,
     "read_only": false
    }
   },
   "source": [
    "# Investigation of taxi tipping behavior with income\n",
    "\n",
    "The NYC taxi data is publicly accessible since 2009. There are, consequently, many data-driven studies, time series analyses, geospatial analyses, and a commonly attempted task is the prediction of the amount tipped. Many of these studies suggest a relation between the socioeconomic characteristics of the passenger and their tipping habits. This analysis is designed to test the hypothesis that the income of the passenger is related to the passenger tipping behavior (tipping generosity).\n",
    "\n",
    "**First hint: the data download may take some time - it took 9 minutes for me on my laptop a couple of days ago! Start downloading the data right away, then go back to the rest of the instructions. **"
   ]
  },
  {
   "cell_type": "markdown",
   "metadata": {
    "run_control": {
     "frozen": false,
     "read_only": false
    }
   },
   "source": [
    "# Objective: relate the yellow taxi tips to passenger income.\n",
    "\n",
    "## 1-5 are the data wrangling portion of the exercise, and are worth 50% of the points\n",
    "### In the data wrangling portion points are awarded for data processed so that they support the analysis in parts 5-10. This portion is likely going to be the most consuming.\n",
    "\n",
    "## 6-11 are the analysis portion of the exercise, and are worth 60% of the points \n",
    "### In the data analysis portion points are awarded for correct analysis, conclusions supported by the analysis *and expressed in full sentences*, and plots that support the analysis and conclusions.\n",
    "\n",
    "#### That sums up to 110%, so you have a better chance to get 100% on your test, and if you exceed 100% the rest will be accounted for as extra credit and help your cumulative score at the end of the semester.\n",
    "\n",
    "## Data Wrangling (each task is 10% of the points)\n",
    "### 1. Download yellowcab data from 2009 and subsample it to reduce it to a manageable size ([alternatives](https://docs.google.com/document/d/1QRXSMJdu-iP1967GbRxtZXGChVDVQ5WNVImn1j4hCl8/edit?usp=sharing)) \n",
    "### 2. Download income information from IRS for NYC and extract the income per person by zipcode ([alternatives](https://docs.google.com/document/d/1QRXSMJdu-iP1967GbRxtZXGChVDVQ5WNVImn1j4hCl8/edit?usp=sharing))\n",
    "### 3. Feature engineering task: extract the trip duration from the data and the tip percentage  ([alternatives](https://docs.google.com/document/d/1QRXSMJdu-iP1967GbRxtZXGChVDVQ5WNVImn1j4hCl8/edit?usp=sharing))\n",
    "### 4. Find the zipcodes of taxi rides origin and destination \n",
    "### 5. Data aggregation task: Join the datasets so that your data contains at least: trip duration, trip distance, fare amount, tip percentage, departure zipcode income, and destination zipcode income. \n",
    "\n",
    "## Analysis\n",
    "\n",
    "\n",
    "### 6. Plot the distribution of tip percentages and *report its first and second moment*. Remove outliers, replot and see if the moments changed significantly. \n",
    "\n",
    "### 7. Test if the distribution is consistent with a Gaussian.\n",
    "\n",
    "### 8. Fit a line to taxi fare vs trip duration and to taxi fare vs trip distance to decide which variable between duration and distance *contains more information when used in a model in conjunction with the fare*.\n",
    "\n",
    "### 9. Improve the fit by removing ''suspected'' outliers and *quantify* the improvement\n",
    "\n",
    "### 10. Create a multivariate liner model to predict the tip percentage as a function of trip fare and another variable, the one you chose in step 8. Create also a linear model to predict the tip percentage as a multivariate linear model with variables trip duration or distance and trip fare, and  also includes  income (by zipcode) at arrival and destination. \n",
    "\n",
    "### 11 Compare the two models in step 10 *formally*. Which is a better model? Finally,  create two mode models,  one with duration/distance,  fare and income at departure, one with duration/distance,  fare and income at destination. Which is better? Why? \n",
    "\n"
   ]
  },
  {
   "cell_type": "markdown",
   "metadata": {
    "run_control": {
     "frozen": false,
     "read_only": false
    }
   },
   "source": [
    "## 1. Download yellowtaxi data for February 2009. (10%)\n",
    "Data can be accessed through [this link](http://www.nyc.gov/html/tlc/html/about/trip_record_data.shtml). \n",
    "\n",
    "Note that the file is large, and will take some time to read! (Start the download right away and then go back to the instructions). If you need help [refer to this](https://docs.google.com/document/d/1-ets-S4KETuKQDSua-XSkwqRtsza-o6hSz_U5k_cQRo/edit?usp=sharing). \n",
    "\n",
    "Very important! this dataset is large! 13 million rows!  10,000 rows or so is plenty to write your code for this mitderm. ** [hint](https://docs.google.com/document/d/1vivVDYtdAT96_AMIMCXM7P93Ayb876BaIh55YP-UUCQ/edit?usp=sharing) about large data **`\n",
    "\n",
    "Subsample the way I did by taking every 1,000th row if you want to use the preprocessed datasets I prepared at any point (especially for the origin destination zipcode of each ride as you will **need to** unless you are handy with geopandas or you have access to premium google map API that allows >2,500 queries)\n",
    "\n",
    "**OR  **([alternative 1](https://docs.google.com/document/d/1QRXSMJdu-iP1967GbRxtZXGChVDVQ5WNVImn1j4hCl8/edit?usp=sharing))\n"
   ]
  },
  {
   "cell_type": "code",
   "execution_count": 1,
   "metadata": {
    "collapsed": false
   },
   "outputs": [
    {
     "name": "stdout",
     "output_type": "stream",
     "text": [
      "Populating the interactive namespace from numpy and matplotlib\n"
     ]
    },
    {
     "name": "stderr",
     "output_type": "stream",
     "text": [
      "/opt/rh/anaconda/root/envs/PUI2016_Python3/lib/python3.5/site-packages/matplotlib/__init__.py:800: MatplotlibDeprecationWarning: axes.color_cycle is deprecated and replaced with axes.prop_cycle; please use the latter.\n",
      "  mplDeprecation)\n",
      "/opt/rh/anaconda/root/envs/PUI2016_Python3/lib/python3.5/site-packages/matplotlib/__init__.py:800: MatplotlibDeprecationWarning: svg.embed_char_paths is deprecated and replaced with svg.fonttype; please use the latter.\n",
      "  mplDeprecation)\n"
     ]
    }
   ],
   "source": [
    "# This is the Program to study Correlation between taxi tip percentages and Income in the neighborhood.\n",
    "from __future__ import print_function, division\n",
    "import pylab as pl\n",
    "import pandas as pd\n",
    "import numpy as np\n",
    "#imports downloader\n",
    "\n",
    "%pylab inline\n",
    "\n",
    "import scipy.stats\n",
    "import os\n",
    "#this makes my plots pretty! but it is totally not mandatory to do it\n",
    "import json\n",
    "s = json.load( open(os.getenv ('PUI2016')+\"/fbb_matplotlibrc.json\") )\n",
    "pl.rcParams.update(s)\n",
    "\n",
    "#set this to true while deeloping to subsample data\n",
    "\n",
    "DEVELOPING = True"
   ]
  },
  {
   "cell_type": "code",
   "execution_count": 2,
   "metadata": {
    "collapsed": false
   },
   "outputs": [
    {
     "data": {
      "text/plain": [
       "0"
      ]
     },
     "execution_count": 2,
     "metadata": {},
     "output_type": "execute_result"
    }
   ],
   "source": [
    "# Downloading the Yellow Taxi Data for the month of February 2009\n",
    "os.system(\"curl -O https://s3.amazonaws.com/nyc-tlc/trip+data/yellow_tripdata_2009-02.csv\")\n",
    "os.system(\"mv \" + \"yellow_tripdata_2009-02.csv \" + os.getenv(\"PUIDATA\"))\n"
   ]
  },
  {
   "cell_type": "code",
   "execution_count": 3,
   "metadata": {
    "ExecuteTime": {
     "end_time": "2017-10-26T00:29:57.890603",
     "start_time": "2017-10-26T00:27:55.486003"
    },
    "collapsed": false,
    "run_control": {
     "frozen": false,
     "read_only": false
    },
    "scrolled": true
   },
   "outputs": [
    {
     "data": {
      "text/html": [
       "<div>\n",
       "<table border=\"1\" class=\"dataframe\">\n",
       "  <thead>\n",
       "    <tr style=\"text-align: right;\">\n",
       "      <th></th>\n",
       "      <th>vendor_name</th>\n",
       "      <th>Trip_Pickup_DateTime</th>\n",
       "      <th>Trip_Dropoff_DateTime</th>\n",
       "      <th>Passenger_Count</th>\n",
       "      <th>Trip_Distance</th>\n",
       "      <th>Start_Lon</th>\n",
       "      <th>Start_Lat</th>\n",
       "      <th>Rate_Code</th>\n",
       "      <th>store_and_forward</th>\n",
       "      <th>End_Lon</th>\n",
       "      <th>End_Lat</th>\n",
       "      <th>Payment_Type</th>\n",
       "      <th>Fare_Amt</th>\n",
       "      <th>surcharge</th>\n",
       "      <th>mta_tax</th>\n",
       "      <th>Tip_Amt</th>\n",
       "      <th>Tolls_Amt</th>\n",
       "      <th>Total_Amt</th>\n",
       "    </tr>\n",
       "  </thead>\n",
       "  <tbody>\n",
       "    <tr>\n",
       "      <th>0</th>\n",
       "      <td>DDS</td>\n",
       "      <td>2009-02-03 08:25:00</td>\n",
       "      <td>2009-02-03 08:33:39</td>\n",
       "      <td>1</td>\n",
       "      <td>1.60</td>\n",
       "      <td>-73.992768</td>\n",
       "      <td>40.758325</td>\n",
       "      <td>NaN</td>\n",
       "      <td>NaN</td>\n",
       "      <td>-73.994710</td>\n",
       "      <td>40.739723</td>\n",
       "      <td>CASH</td>\n",
       "      <td>6.9</td>\n",
       "      <td>0.0</td>\n",
       "      <td>NaN</td>\n",
       "      <td>0.0</td>\n",
       "      <td>0.0</td>\n",
       "      <td>6.9</td>\n",
       "    </tr>\n",
       "    <tr>\n",
       "      <th>1</th>\n",
       "      <td>VTS</td>\n",
       "      <td>2009-02-28 00:26:00</td>\n",
       "      <td>2009-02-28 00:40:00</td>\n",
       "      <td>5</td>\n",
       "      <td>3.05</td>\n",
       "      <td>0.000000</td>\n",
       "      <td>0.000000</td>\n",
       "      <td>NaN</td>\n",
       "      <td>NaN</td>\n",
       "      <td>0.000000</td>\n",
       "      <td>0.000000</td>\n",
       "      <td>CASH</td>\n",
       "      <td>10.5</td>\n",
       "      <td>0.5</td>\n",
       "      <td>NaN</td>\n",
       "      <td>0.0</td>\n",
       "      <td>0.0</td>\n",
       "      <td>11.0</td>\n",
       "    </tr>\n",
       "    <tr>\n",
       "      <th>2</th>\n",
       "      <td>DDS</td>\n",
       "      <td>2009-02-22 00:39:23</td>\n",
       "      <td>2009-02-22 00:45:52</td>\n",
       "      <td>1</td>\n",
       "      <td>1.50</td>\n",
       "      <td>-73.137393</td>\n",
       "      <td>41.366138</td>\n",
       "      <td>NaN</td>\n",
       "      <td>NaN</td>\n",
       "      <td>-73.137393</td>\n",
       "      <td>41.366138</td>\n",
       "      <td>CASH</td>\n",
       "      <td>5.7</td>\n",
       "      <td>0.5</td>\n",
       "      <td>NaN</td>\n",
       "      <td>0.0</td>\n",
       "      <td>0.0</td>\n",
       "      <td>6.2</td>\n",
       "    </tr>\n",
       "    <tr>\n",
       "      <th>3</th>\n",
       "      <td>VTS</td>\n",
       "      <td>2009-02-28 12:47:00</td>\n",
       "      <td>2009-02-28 12:54:00</td>\n",
       "      <td>1</td>\n",
       "      <td>1.42</td>\n",
       "      <td>-73.980458</td>\n",
       "      <td>40.748445</td>\n",
       "      <td>NaN</td>\n",
       "      <td>NaN</td>\n",
       "      <td>-73.996103</td>\n",
       "      <td>40.737095</td>\n",
       "      <td>CASH</td>\n",
       "      <td>6.1</td>\n",
       "      <td>0.0</td>\n",
       "      <td>NaN</td>\n",
       "      <td>0.0</td>\n",
       "      <td>0.0</td>\n",
       "      <td>6.1</td>\n",
       "    </tr>\n",
       "    <tr>\n",
       "      <th>4</th>\n",
       "      <td>DDS</td>\n",
       "      <td>2009-02-05 18:34:35</td>\n",
       "      <td>2009-02-05 18:43:26</td>\n",
       "      <td>1</td>\n",
       "      <td>1.50</td>\n",
       "      <td>-73.137393</td>\n",
       "      <td>41.366138</td>\n",
       "      <td>NaN</td>\n",
       "      <td>NaN</td>\n",
       "      <td>-73.137393</td>\n",
       "      <td>41.366138</td>\n",
       "      <td>CASH</td>\n",
       "      <td>6.9</td>\n",
       "      <td>1.0</td>\n",
       "      <td>NaN</td>\n",
       "      <td>0.0</td>\n",
       "      <td>0.0</td>\n",
       "      <td>7.9</td>\n",
       "    </tr>\n",
       "  </tbody>\n",
       "</table>\n",
       "</div>"
      ],
      "text/plain": [
       "  vendor_name Trip_Pickup_DateTime Trip_Dropoff_DateTime  Passenger_Count  \\\n",
       "0         DDS  2009-02-03 08:25:00   2009-02-03 08:33:39                1   \n",
       "1         VTS  2009-02-28 00:26:00   2009-02-28 00:40:00                5   \n",
       "2         DDS  2009-02-22 00:39:23   2009-02-22 00:45:52                1   \n",
       "3         VTS  2009-02-28 12:47:00   2009-02-28 12:54:00                1   \n",
       "4         DDS  2009-02-05 18:34:35   2009-02-05 18:43:26                1   \n",
       "\n",
       "   Trip_Distance  Start_Lon  Start_Lat  Rate_Code  store_and_forward  \\\n",
       "0           1.60 -73.992768  40.758325        NaN                NaN   \n",
       "1           3.05   0.000000   0.000000        NaN                NaN   \n",
       "2           1.50 -73.137393  41.366138        NaN                NaN   \n",
       "3           1.42 -73.980458  40.748445        NaN                NaN   \n",
       "4           1.50 -73.137393  41.366138        NaN                NaN   \n",
       "\n",
       "     End_Lon    End_Lat Payment_Type  Fare_Amt  surcharge  mta_tax  Tip_Amt  \\\n",
       "0 -73.994710  40.739723         CASH       6.9        0.0      NaN      0.0   \n",
       "1   0.000000   0.000000         CASH      10.5        0.5      NaN      0.0   \n",
       "2 -73.137393  41.366138         CASH       5.7        0.5      NaN      0.0   \n",
       "3 -73.996103  40.737095         CASH       6.1        0.0      NaN      0.0   \n",
       "4 -73.137393  41.366138         CASH       6.9        1.0      NaN      0.0   \n",
       "\n",
       "   Tolls_Amt  Total_Amt  \n",
       "0        0.0        6.9  \n",
       "1        0.0       11.0  \n",
       "2        0.0        6.2  \n",
       "3        0.0        6.1  \n",
       "4        0.0        7.9  "
      ]
     },
     "execution_count": 3,
     "metadata": {},
     "output_type": "execute_result"
    }
   ],
   "source": [
    "yc200902 = pd.read_csv(os.getenv(\"PUIDATA\") + \"/\" + 'yellow_tripdata_2009-02.csv')\n",
    "yc200902.head()"
   ]
  },
  {
   "cell_type": "code",
   "execution_count": 4,
   "metadata": {
    "collapsed": true
   },
   "outputs": [],
   "source": [
    "# Selecting every 1000th Sample\n",
    "if DEVELOPING:\n",
    "    yc200902 = yc200902[::1000]"
   ]
  },
  {
   "cell_type": "code",
   "execution_count": 5,
   "metadata": {
    "collapsed": false
   },
   "outputs": [
    {
     "data": {
      "text/html": [
       "<div>\n",
       "<table border=\"1\" class=\"dataframe\">\n",
       "  <thead>\n",
       "    <tr style=\"text-align: right;\">\n",
       "      <th></th>\n",
       "      <th>vendor_name</th>\n",
       "      <th>Trip_Pickup_DateTime</th>\n",
       "      <th>Trip_Dropoff_DateTime</th>\n",
       "      <th>Passenger_Count</th>\n",
       "      <th>Trip_Distance</th>\n",
       "      <th>Start_Lon</th>\n",
       "      <th>Start_Lat</th>\n",
       "      <th>Rate_Code</th>\n",
       "      <th>store_and_forward</th>\n",
       "      <th>End_Lon</th>\n",
       "      <th>End_Lat</th>\n",
       "      <th>Payment_Type</th>\n",
       "      <th>Fare_Amt</th>\n",
       "      <th>surcharge</th>\n",
       "      <th>mta_tax</th>\n",
       "      <th>Tip_Amt</th>\n",
       "      <th>Tolls_Amt</th>\n",
       "      <th>Total_Amt</th>\n",
       "    </tr>\n",
       "  </thead>\n",
       "  <tbody>\n",
       "    <tr>\n",
       "      <th>0</th>\n",
       "      <td>DDS</td>\n",
       "      <td>2009-02-03 08:25:00</td>\n",
       "      <td>2009-02-03 08:33:39</td>\n",
       "      <td>1</td>\n",
       "      <td>1.60</td>\n",
       "      <td>-73.992768</td>\n",
       "      <td>40.758325</td>\n",
       "      <td>NaN</td>\n",
       "      <td>NaN</td>\n",
       "      <td>-73.994710</td>\n",
       "      <td>40.739723</td>\n",
       "      <td>CASH</td>\n",
       "      <td>6.9</td>\n",
       "      <td>0.0</td>\n",
       "      <td>NaN</td>\n",
       "      <td>0.00</td>\n",
       "      <td>0.0</td>\n",
       "      <td>6.90</td>\n",
       "    </tr>\n",
       "    <tr>\n",
       "      <th>1000</th>\n",
       "      <td>VTS</td>\n",
       "      <td>2009-02-11 23:03:00</td>\n",
       "      <td>2009-02-11 23:29:00</td>\n",
       "      <td>1</td>\n",
       "      <td>11.95</td>\n",
       "      <td>-73.968478</td>\n",
       "      <td>40.760553</td>\n",
       "      <td>NaN</td>\n",
       "      <td>NaN</td>\n",
       "      <td>-73.972788</td>\n",
       "      <td>40.637433</td>\n",
       "      <td>CASH</td>\n",
       "      <td>28.5</td>\n",
       "      <td>0.5</td>\n",
       "      <td>NaN</td>\n",
       "      <td>0.00</td>\n",
       "      <td>0.0</td>\n",
       "      <td>29.00</td>\n",
       "    </tr>\n",
       "    <tr>\n",
       "      <th>2000</th>\n",
       "      <td>VTS</td>\n",
       "      <td>2009-02-28 07:22:00</td>\n",
       "      <td>2009-02-28 07:32:00</td>\n",
       "      <td>3</td>\n",
       "      <td>2.86</td>\n",
       "      <td>-73.986690</td>\n",
       "      <td>40.726995</td>\n",
       "      <td>NaN</td>\n",
       "      <td>NaN</td>\n",
       "      <td>-73.988673</td>\n",
       "      <td>40.755612</td>\n",
       "      <td>CASH</td>\n",
       "      <td>9.3</td>\n",
       "      <td>0.0</td>\n",
       "      <td>NaN</td>\n",
       "      <td>0.00</td>\n",
       "      <td>0.0</td>\n",
       "      <td>9.30</td>\n",
       "    </tr>\n",
       "    <tr>\n",
       "      <th>3000</th>\n",
       "      <td>VTS</td>\n",
       "      <td>2009-02-14 17:02:00</td>\n",
       "      <td>2009-02-14 17:22:00</td>\n",
       "      <td>4</td>\n",
       "      <td>4.60</td>\n",
       "      <td>-73.991188</td>\n",
       "      <td>40.723345</td>\n",
       "      <td>NaN</td>\n",
       "      <td>NaN</td>\n",
       "      <td>-73.946650</td>\n",
       "      <td>40.776628</td>\n",
       "      <td>Credit</td>\n",
       "      <td>14.9</td>\n",
       "      <td>0.0</td>\n",
       "      <td>NaN</td>\n",
       "      <td>2.00</td>\n",
       "      <td>0.0</td>\n",
       "      <td>16.90</td>\n",
       "    </tr>\n",
       "    <tr>\n",
       "      <th>4000</th>\n",
       "      <td>CMT</td>\n",
       "      <td>2009-02-08 11:54:51</td>\n",
       "      <td>2009-02-08 12:06:43</td>\n",
       "      <td>1</td>\n",
       "      <td>2.40</td>\n",
       "      <td>-73.980833</td>\n",
       "      <td>40.744672</td>\n",
       "      <td>NaN</td>\n",
       "      <td>NaN</td>\n",
       "      <td>-73.984400</td>\n",
       "      <td>40.718905</td>\n",
       "      <td>Credit</td>\n",
       "      <td>9.3</td>\n",
       "      <td>0.0</td>\n",
       "      <td>NaN</td>\n",
       "      <td>1.39</td>\n",
       "      <td>0.0</td>\n",
       "      <td>10.69</td>\n",
       "    </tr>\n",
       "  </tbody>\n",
       "</table>\n",
       "</div>"
      ],
      "text/plain": [
       "     vendor_name Trip_Pickup_DateTime Trip_Dropoff_DateTime  Passenger_Count  \\\n",
       "0            DDS  2009-02-03 08:25:00   2009-02-03 08:33:39                1   \n",
       "1000         VTS  2009-02-11 23:03:00   2009-02-11 23:29:00                1   \n",
       "2000         VTS  2009-02-28 07:22:00   2009-02-28 07:32:00                3   \n",
       "3000         VTS  2009-02-14 17:02:00   2009-02-14 17:22:00                4   \n",
       "4000         CMT  2009-02-08 11:54:51   2009-02-08 12:06:43                1   \n",
       "\n",
       "      Trip_Distance  Start_Lon  Start_Lat  Rate_Code  store_and_forward  \\\n",
       "0              1.60 -73.992768  40.758325        NaN                NaN   \n",
       "1000          11.95 -73.968478  40.760553        NaN                NaN   \n",
       "2000           2.86 -73.986690  40.726995        NaN                NaN   \n",
       "3000           4.60 -73.991188  40.723345        NaN                NaN   \n",
       "4000           2.40 -73.980833  40.744672        NaN                NaN   \n",
       "\n",
       "        End_Lon    End_Lat Payment_Type  Fare_Amt  surcharge  mta_tax  \\\n",
       "0    -73.994710  40.739723         CASH       6.9        0.0      NaN   \n",
       "1000 -73.972788  40.637433         CASH      28.5        0.5      NaN   \n",
       "2000 -73.988673  40.755612         CASH       9.3        0.0      NaN   \n",
       "3000 -73.946650  40.776628       Credit      14.9        0.0      NaN   \n",
       "4000 -73.984400  40.718905       Credit       9.3        0.0      NaN   \n",
       "\n",
       "      Tip_Amt  Tolls_Amt  Total_Amt  \n",
       "0        0.00        0.0       6.90  \n",
       "1000     0.00        0.0      29.00  \n",
       "2000     0.00        0.0       9.30  \n",
       "3000     2.00        0.0      16.90  \n",
       "4000     1.39        0.0      10.69  "
      ]
     },
     "execution_count": 5,
     "metadata": {},
     "output_type": "execute_result"
    }
   ],
   "source": [
    "yc200902.head()"
   ]
  },
  {
   "cell_type": "code",
   "execution_count": 6,
   "metadata": {
    "collapsed": false
   },
   "outputs": [
    {
     "data": {
      "text/plain": [
       "Index(['vendor_name', 'Trip_Pickup_DateTime', 'Trip_Dropoff_DateTime',\n",
       "       'Passenger_Count', 'Trip_Distance', 'Start_Lon', 'Start_Lat',\n",
       "       'Rate_Code', 'store_and_forward', 'End_Lon', 'End_Lat', 'Payment_Type',\n",
       "       'Fare_Amt', 'surcharge', 'mta_tax', 'Tip_Amt', 'Tolls_Amt',\n",
       "       'Total_Amt'],\n",
       "      dtype='object')"
      ]
     },
     "execution_count": 6,
     "metadata": {},
     "output_type": "execute_result"
    }
   ],
   "source": [
    "yc200902.columns"
   ]
  },
  {
   "cell_type": "code",
   "execution_count": 7,
   "metadata": {
    "collapsed": false
   },
   "outputs": [
    {
     "data": {
      "text/plain": [
       "(13381, 18)"
      ]
     },
     "execution_count": 7,
     "metadata": {},
     "output_type": "execute_result"
    }
   ],
   "source": [
    "yc200902.shape"
   ]
  },
  {
   "cell_type": "code",
   "execution_count": 8,
   "metadata": {
    "collapsed": false
   },
   "outputs": [],
   "source": [
    "# Filtering the Columns\n",
    "yc200902_t = yc200902 [['Trip_Pickup_DateTime','Trip_Dropoff_DateTime', 'Passenger_Count', 'Trip_Distance',\n",
    "       'Start_Lon', 'Start_Lat', 'End_Lon','End_Lat','Tip_Amt','Total_Amt']]"
   ]
  },
  {
   "cell_type": "code",
   "execution_count": 9,
   "metadata": {
    "collapsed": false
   },
   "outputs": [
    {
     "data": {
      "text/plain": [
       "(13381, 10)"
      ]
     },
     "execution_count": 9,
     "metadata": {},
     "output_type": "execute_result"
    }
   ],
   "source": [
    "yc200902_t.shape"
   ]
  },
  {
   "cell_type": "code",
   "execution_count": 10,
   "metadata": {
    "collapsed": false
   },
   "outputs": [
    {
     "name": "stderr",
     "output_type": "stream",
     "text": [
      "/opt/rh/anaconda/root/envs/PUI2016_Python3/lib/python3.5/site-packages/ipykernel/__main__.py:1: SettingWithCopyWarning: \n",
      "A value is trying to be set on a copy of a slice from a DataFrame.\n",
      "Try using .loc[row_indexer,col_indexer] = value instead\n",
      "\n",
      "See the caveats in the documentation: http://pandas.pydata.org/pandas-docs/stable/indexing.html#indexing-view-versus-copy\n",
      "  if __name__ == '__main__':\n"
     ]
    }
   ],
   "source": [
    "yc200902_t['Trip_Pickup_DateTime'] = pd.to_datetime(yc200902_t.Trip_Pickup_DateTime)"
   ]
  },
  {
   "cell_type": "code",
   "execution_count": 11,
   "metadata": {
    "collapsed": false
   },
   "outputs": [
    {
     "name": "stderr",
     "output_type": "stream",
     "text": [
      "/opt/rh/anaconda/root/envs/PUI2016_Python3/lib/python3.5/site-packages/ipykernel/__main__.py:1: SettingWithCopyWarning: \n",
      "A value is trying to be set on a copy of a slice from a DataFrame.\n",
      "Try using .loc[row_indexer,col_indexer] = value instead\n",
      "\n",
      "See the caveats in the documentation: http://pandas.pydata.org/pandas-docs/stable/indexing.html#indexing-view-versus-copy\n",
      "  if __name__ == '__main__':\n"
     ]
    }
   ],
   "source": [
    "yc200902_t['Trip_Dropoff_DateTime'] = pd.to_datetime(yc200902_t.Trip_Dropoff_DateTime)"
   ]
  },
  {
   "cell_type": "code",
   "execution_count": 12,
   "metadata": {
    "collapsed": false
   },
   "outputs": [
    {
     "name": "stderr",
     "output_type": "stream",
     "text": [
      "/opt/rh/anaconda/root/envs/PUI2016_Python3/lib/python3.5/site-packages/ipykernel/__main__.py:1: SettingWithCopyWarning: \n",
      "A value is trying to be set on a copy of a slice from a DataFrame.\n",
      "Try using .loc[row_indexer,col_indexer] = value instead\n",
      "\n",
      "See the caveats in the documentation: http://pandas.pydata.org/pandas-docs/stable/indexing.html#indexing-view-versus-copy\n",
      "  if __name__ == '__main__':\n"
     ]
    }
   ],
   "source": [
    "yc200902_t['Trip_Duration'] = yc200902_t.Trip_Dropoff_DateTime - yc200902_t.Trip_Pickup_DateTime"
   ]
  },
  {
   "cell_type": "code",
   "execution_count": 13,
   "metadata": {
    "collapsed": false
   },
   "outputs": [
    {
     "data": {
      "text/html": [
       "<div>\n",
       "<table border=\"1\" class=\"dataframe\">\n",
       "  <thead>\n",
       "    <tr style=\"text-align: right;\">\n",
       "      <th></th>\n",
       "      <th>Trip_Pickup_DateTime</th>\n",
       "      <th>Trip_Dropoff_DateTime</th>\n",
       "      <th>Passenger_Count</th>\n",
       "      <th>Trip_Distance</th>\n",
       "      <th>Start_Lon</th>\n",
       "      <th>Start_Lat</th>\n",
       "      <th>End_Lon</th>\n",
       "      <th>End_Lat</th>\n",
       "      <th>Tip_Amt</th>\n",
       "      <th>Total_Amt</th>\n",
       "      <th>Trip_Duration</th>\n",
       "    </tr>\n",
       "  </thead>\n",
       "  <tbody>\n",
       "    <tr>\n",
       "      <th>0</th>\n",
       "      <td>2009-02-03 08:25:00</td>\n",
       "      <td>2009-02-03 08:33:39</td>\n",
       "      <td>1</td>\n",
       "      <td>1.60</td>\n",
       "      <td>-73.992768</td>\n",
       "      <td>40.758325</td>\n",
       "      <td>-73.994710</td>\n",
       "      <td>40.739723</td>\n",
       "      <td>0.00</td>\n",
       "      <td>6.90</td>\n",
       "      <td>00:08:39</td>\n",
       "    </tr>\n",
       "    <tr>\n",
       "      <th>1000</th>\n",
       "      <td>2009-02-11 23:03:00</td>\n",
       "      <td>2009-02-11 23:29:00</td>\n",
       "      <td>1</td>\n",
       "      <td>11.95</td>\n",
       "      <td>-73.968478</td>\n",
       "      <td>40.760553</td>\n",
       "      <td>-73.972788</td>\n",
       "      <td>40.637433</td>\n",
       "      <td>0.00</td>\n",
       "      <td>29.00</td>\n",
       "      <td>00:26:00</td>\n",
       "    </tr>\n",
       "    <tr>\n",
       "      <th>2000</th>\n",
       "      <td>2009-02-28 07:22:00</td>\n",
       "      <td>2009-02-28 07:32:00</td>\n",
       "      <td>3</td>\n",
       "      <td>2.86</td>\n",
       "      <td>-73.986690</td>\n",
       "      <td>40.726995</td>\n",
       "      <td>-73.988673</td>\n",
       "      <td>40.755612</td>\n",
       "      <td>0.00</td>\n",
       "      <td>9.30</td>\n",
       "      <td>00:10:00</td>\n",
       "    </tr>\n",
       "    <tr>\n",
       "      <th>3000</th>\n",
       "      <td>2009-02-14 17:02:00</td>\n",
       "      <td>2009-02-14 17:22:00</td>\n",
       "      <td>4</td>\n",
       "      <td>4.60</td>\n",
       "      <td>-73.991188</td>\n",
       "      <td>40.723345</td>\n",
       "      <td>-73.946650</td>\n",
       "      <td>40.776628</td>\n",
       "      <td>2.00</td>\n",
       "      <td>16.90</td>\n",
       "      <td>00:20:00</td>\n",
       "    </tr>\n",
       "    <tr>\n",
       "      <th>4000</th>\n",
       "      <td>2009-02-08 11:54:51</td>\n",
       "      <td>2009-02-08 12:06:43</td>\n",
       "      <td>1</td>\n",
       "      <td>2.40</td>\n",
       "      <td>-73.980833</td>\n",
       "      <td>40.744672</td>\n",
       "      <td>-73.984400</td>\n",
       "      <td>40.718905</td>\n",
       "      <td>1.39</td>\n",
       "      <td>10.69</td>\n",
       "      <td>00:11:52</td>\n",
       "    </tr>\n",
       "  </tbody>\n",
       "</table>\n",
       "</div>"
      ],
      "text/plain": [
       "     Trip_Pickup_DateTime Trip_Dropoff_DateTime  Passenger_Count  \\\n",
       "0     2009-02-03 08:25:00   2009-02-03 08:33:39                1   \n",
       "1000  2009-02-11 23:03:00   2009-02-11 23:29:00                1   \n",
       "2000  2009-02-28 07:22:00   2009-02-28 07:32:00                3   \n",
       "3000  2009-02-14 17:02:00   2009-02-14 17:22:00                4   \n",
       "4000  2009-02-08 11:54:51   2009-02-08 12:06:43                1   \n",
       "\n",
       "      Trip_Distance  Start_Lon  Start_Lat    End_Lon    End_Lat  Tip_Amt  \\\n",
       "0              1.60 -73.992768  40.758325 -73.994710  40.739723     0.00   \n",
       "1000          11.95 -73.968478  40.760553 -73.972788  40.637433     0.00   \n",
       "2000           2.86 -73.986690  40.726995 -73.988673  40.755612     0.00   \n",
       "3000           4.60 -73.991188  40.723345 -73.946650  40.776628     2.00   \n",
       "4000           2.40 -73.980833  40.744672 -73.984400  40.718905     1.39   \n",
       "\n",
       "      Total_Amt  Trip_Duration  \n",
       "0          6.90       00:08:39  \n",
       "1000      29.00       00:26:00  \n",
       "2000       9.30       00:10:00  \n",
       "3000      16.90       00:20:00  \n",
       "4000      10.69       00:11:52  "
      ]
     },
     "execution_count": 13,
     "metadata": {},
     "output_type": "execute_result"
    }
   ],
   "source": [
    "yc200902_t.head()"
   ]
  },
  {
   "cell_type": "code",
   "execution_count": 14,
   "metadata": {
    "collapsed": false
   },
   "outputs": [
    {
     "name": "stderr",
     "output_type": "stream",
     "text": [
      "/opt/rh/anaconda/root/envs/PUI2016_Python3/lib/python3.5/site-packages/ipykernel/__main__.py:1: SettingWithCopyWarning: \n",
      "A value is trying to be set on a copy of a slice from a DataFrame.\n",
      "Try using .loc[row_indexer,col_indexer] = value instead\n",
      "\n",
      "See the caveats in the documentation: http://pandas.pydata.org/pandas-docs/stable/indexing.html#indexing-view-versus-copy\n",
      "  if __name__ == '__main__':\n"
     ]
    }
   ],
   "source": [
    "yc200902_t['Trip_Duration'] = yc200902_t['Trip_Duration'].dt.total_seconds()"
   ]
  },
  {
   "cell_type": "code",
   "execution_count": 15,
   "metadata": {
    "collapsed": false
   },
   "outputs": [
    {
     "data": {
      "text/html": [
       "<div>\n",
       "<table border=\"1\" class=\"dataframe\">\n",
       "  <thead>\n",
       "    <tr style=\"text-align: right;\">\n",
       "      <th></th>\n",
       "      <th>Trip_Pickup_DateTime</th>\n",
       "      <th>Trip_Dropoff_DateTime</th>\n",
       "      <th>Passenger_Count</th>\n",
       "      <th>Trip_Distance</th>\n",
       "      <th>Start_Lon</th>\n",
       "      <th>Start_Lat</th>\n",
       "      <th>End_Lon</th>\n",
       "      <th>End_Lat</th>\n",
       "      <th>Tip_Amt</th>\n",
       "      <th>Total_Amt</th>\n",
       "      <th>Trip_Duration</th>\n",
       "    </tr>\n",
       "  </thead>\n",
       "  <tbody>\n",
       "    <tr>\n",
       "      <th>0</th>\n",
       "      <td>2009-02-03 08:25:00</td>\n",
       "      <td>2009-02-03 08:33:39</td>\n",
       "      <td>1</td>\n",
       "      <td>1.60</td>\n",
       "      <td>-73.992768</td>\n",
       "      <td>40.758325</td>\n",
       "      <td>-73.994710</td>\n",
       "      <td>40.739723</td>\n",
       "      <td>0.00</td>\n",
       "      <td>6.90</td>\n",
       "      <td>519.0</td>\n",
       "    </tr>\n",
       "    <tr>\n",
       "      <th>1000</th>\n",
       "      <td>2009-02-11 23:03:00</td>\n",
       "      <td>2009-02-11 23:29:00</td>\n",
       "      <td>1</td>\n",
       "      <td>11.95</td>\n",
       "      <td>-73.968478</td>\n",
       "      <td>40.760553</td>\n",
       "      <td>-73.972788</td>\n",
       "      <td>40.637433</td>\n",
       "      <td>0.00</td>\n",
       "      <td>29.00</td>\n",
       "      <td>1560.0</td>\n",
       "    </tr>\n",
       "    <tr>\n",
       "      <th>2000</th>\n",
       "      <td>2009-02-28 07:22:00</td>\n",
       "      <td>2009-02-28 07:32:00</td>\n",
       "      <td>3</td>\n",
       "      <td>2.86</td>\n",
       "      <td>-73.986690</td>\n",
       "      <td>40.726995</td>\n",
       "      <td>-73.988673</td>\n",
       "      <td>40.755612</td>\n",
       "      <td>0.00</td>\n",
       "      <td>9.30</td>\n",
       "      <td>600.0</td>\n",
       "    </tr>\n",
       "    <tr>\n",
       "      <th>3000</th>\n",
       "      <td>2009-02-14 17:02:00</td>\n",
       "      <td>2009-02-14 17:22:00</td>\n",
       "      <td>4</td>\n",
       "      <td>4.60</td>\n",
       "      <td>-73.991188</td>\n",
       "      <td>40.723345</td>\n",
       "      <td>-73.946650</td>\n",
       "      <td>40.776628</td>\n",
       "      <td>2.00</td>\n",
       "      <td>16.90</td>\n",
       "      <td>1200.0</td>\n",
       "    </tr>\n",
       "    <tr>\n",
       "      <th>4000</th>\n",
       "      <td>2009-02-08 11:54:51</td>\n",
       "      <td>2009-02-08 12:06:43</td>\n",
       "      <td>1</td>\n",
       "      <td>2.40</td>\n",
       "      <td>-73.980833</td>\n",
       "      <td>40.744672</td>\n",
       "      <td>-73.984400</td>\n",
       "      <td>40.718905</td>\n",
       "      <td>1.39</td>\n",
       "      <td>10.69</td>\n",
       "      <td>712.0</td>\n",
       "    </tr>\n",
       "  </tbody>\n",
       "</table>\n",
       "</div>"
      ],
      "text/plain": [
       "     Trip_Pickup_DateTime Trip_Dropoff_DateTime  Passenger_Count  \\\n",
       "0     2009-02-03 08:25:00   2009-02-03 08:33:39                1   \n",
       "1000  2009-02-11 23:03:00   2009-02-11 23:29:00                1   \n",
       "2000  2009-02-28 07:22:00   2009-02-28 07:32:00                3   \n",
       "3000  2009-02-14 17:02:00   2009-02-14 17:22:00                4   \n",
       "4000  2009-02-08 11:54:51   2009-02-08 12:06:43                1   \n",
       "\n",
       "      Trip_Distance  Start_Lon  Start_Lat    End_Lon    End_Lat  Tip_Amt  \\\n",
       "0              1.60 -73.992768  40.758325 -73.994710  40.739723     0.00   \n",
       "1000          11.95 -73.968478  40.760553 -73.972788  40.637433     0.00   \n",
       "2000           2.86 -73.986690  40.726995 -73.988673  40.755612     0.00   \n",
       "3000           4.60 -73.991188  40.723345 -73.946650  40.776628     2.00   \n",
       "4000           2.40 -73.980833  40.744672 -73.984400  40.718905     1.39   \n",
       "\n",
       "      Total_Amt  Trip_Duration  \n",
       "0          6.90          519.0  \n",
       "1000      29.00         1560.0  \n",
       "2000       9.30          600.0  \n",
       "3000      16.90         1200.0  \n",
       "4000      10.69          712.0  "
      ]
     },
     "execution_count": 15,
     "metadata": {},
     "output_type": "execute_result"
    }
   ],
   "source": [
    "yc200902_t.head()"
   ]
  },
  {
   "cell_type": "code",
   "execution_count": 16,
   "metadata": {
    "collapsed": false
   },
   "outputs": [
    {
     "data": {
      "text/html": [
       "<div>\n",
       "<table border=\"1\" class=\"dataframe\">\n",
       "  <thead>\n",
       "    <tr style=\"text-align: right;\">\n",
       "      <th></th>\n",
       "      <th>Passenger_Count</th>\n",
       "      <th>Trip_Distance</th>\n",
       "      <th>Start_Lon</th>\n",
       "      <th>Start_Lat</th>\n",
       "      <th>End_Lon</th>\n",
       "      <th>End_Lat</th>\n",
       "      <th>Tip_Amt</th>\n",
       "      <th>Total_Amt</th>\n",
       "      <th>Trip_Duration</th>\n",
       "    </tr>\n",
       "  </thead>\n",
       "  <tbody>\n",
       "    <tr>\n",
       "      <th>count</th>\n",
       "      <td>13381.000000</td>\n",
       "      <td>13381.000000</td>\n",
       "      <td>13381.000000</td>\n",
       "      <td>13381.000000</td>\n",
       "      <td>13381.000000</td>\n",
       "      <td>13381.000000</td>\n",
       "      <td>13381.000000</td>\n",
       "      <td>13381.000000</td>\n",
       "      <td>13381.000000</td>\n",
       "    </tr>\n",
       "    <tr>\n",
       "      <th>mean</th>\n",
       "      <td>1.678499</td>\n",
       "      <td>2.618311</td>\n",
       "      <td>-72.969525</td>\n",
       "      <td>40.198913</td>\n",
       "      <td>-72.990477</td>\n",
       "      <td>40.210496</td>\n",
       "      <td>0.504281</td>\n",
       "      <td>10.494994</td>\n",
       "      <td>680.274195</td>\n",
       "    </tr>\n",
       "    <tr>\n",
       "      <th>std</th>\n",
       "      <td>1.256401</td>\n",
       "      <td>2.931403</td>\n",
       "      <td>8.569052</td>\n",
       "      <td>4.720881</td>\n",
       "      <td>8.475509</td>\n",
       "      <td>4.669382</td>\n",
       "      <td>1.329521</td>\n",
       "      <td>8.170102</td>\n",
       "      <td>939.256642</td>\n",
       "    </tr>\n",
       "    <tr>\n",
       "      <th>min</th>\n",
       "      <td>1.000000</td>\n",
       "      <td>0.000000</td>\n",
       "      <td>-76.335577</td>\n",
       "      <td>-0.000008</td>\n",
       "      <td>-76.328702</td>\n",
       "      <td>-0.000008</td>\n",
       "      <td>0.000000</td>\n",
       "      <td>2.500000</td>\n",
       "      <td>-10200.000000</td>\n",
       "    </tr>\n",
       "    <tr>\n",
       "      <th>25%</th>\n",
       "      <td>1.000000</td>\n",
       "      <td>1.000000</td>\n",
       "      <td>-73.991768</td>\n",
       "      <td>40.736663</td>\n",
       "      <td>-73.991368</td>\n",
       "      <td>40.734965</td>\n",
       "      <td>0.000000</td>\n",
       "      <td>6.000000</td>\n",
       "      <td>359.000000</td>\n",
       "    </tr>\n",
       "    <tr>\n",
       "      <th>50%</th>\n",
       "      <td>1.000000</td>\n",
       "      <td>1.690000</td>\n",
       "      <td>-73.981639</td>\n",
       "      <td>40.753456</td>\n",
       "      <td>-73.980237</td>\n",
       "      <td>40.753574</td>\n",
       "      <td>0.000000</td>\n",
       "      <td>8.100000</td>\n",
       "      <td>540.000000</td>\n",
       "    </tr>\n",
       "    <tr>\n",
       "      <th>75%</th>\n",
       "      <td>2.000000</td>\n",
       "      <td>3.000000</td>\n",
       "      <td>-73.967938</td>\n",
       "      <td>40.767967</td>\n",
       "      <td>-73.964626</td>\n",
       "      <td>40.768765</td>\n",
       "      <td>0.000000</td>\n",
       "      <td>11.800000</td>\n",
       "      <td>869.000000</td>\n",
       "    </tr>\n",
       "    <tr>\n",
       "      <th>max</th>\n",
       "      <td>6.000000</td>\n",
       "      <td>31.430000</td>\n",
       "      <td>0.000017</td>\n",
       "      <td>45.338912</td>\n",
       "      <td>0.000017</td>\n",
       "      <td>45.338912</td>\n",
       "      <td>45.000000</td>\n",
       "      <td>131.660000</td>\n",
       "      <td>86340.000000</td>\n",
       "    </tr>\n",
       "  </tbody>\n",
       "</table>\n",
       "</div>"
      ],
      "text/plain": [
       "       Passenger_Count  Trip_Distance     Start_Lon     Start_Lat  \\\n",
       "count     13381.000000   13381.000000  13381.000000  13381.000000   \n",
       "mean          1.678499       2.618311    -72.969525     40.198913   \n",
       "std           1.256401       2.931403      8.569052      4.720881   \n",
       "min           1.000000       0.000000    -76.335577     -0.000008   \n",
       "25%           1.000000       1.000000    -73.991768     40.736663   \n",
       "50%           1.000000       1.690000    -73.981639     40.753456   \n",
       "75%           2.000000       3.000000    -73.967938     40.767967   \n",
       "max           6.000000      31.430000      0.000017     45.338912   \n",
       "\n",
       "            End_Lon       End_Lat       Tip_Amt     Total_Amt  Trip_Duration  \n",
       "count  13381.000000  13381.000000  13381.000000  13381.000000   13381.000000  \n",
       "mean     -72.990477     40.210496      0.504281     10.494994     680.274195  \n",
       "std        8.475509      4.669382      1.329521      8.170102     939.256642  \n",
       "min      -76.328702     -0.000008      0.000000      2.500000  -10200.000000  \n",
       "25%      -73.991368     40.734965      0.000000      6.000000     359.000000  \n",
       "50%      -73.980237     40.753574      0.000000      8.100000     540.000000  \n",
       "75%      -73.964626     40.768765      0.000000     11.800000     869.000000  \n",
       "max        0.000017     45.338912     45.000000    131.660000   86340.000000  "
      ]
     },
     "execution_count": 16,
     "metadata": {},
     "output_type": "execute_result"
    }
   ],
   "source": [
    "yc200902_t.describe()"
   ]
  },
  {
   "cell_type": "code",
   "execution_count": 17,
   "metadata": {
    "collapsed": false
   },
   "outputs": [
    {
     "data": {
      "text/plain": [
       "Index(['Trip_Pickup_DateTime', 'Trip_Dropoff_DateTime', 'Passenger_Count',\n",
       "       'Trip_Distance', 'Start_Lon', 'Start_Lat', 'End_Lon', 'End_Lat',\n",
       "       'Tip_Amt', 'Total_Amt', 'Trip_Duration'],\n",
       "      dtype='object')"
      ]
     },
     "execution_count": 17,
     "metadata": {},
     "output_type": "execute_result"
    }
   ],
   "source": [
    "yc200902_t.columns"
   ]
  },
  {
   "cell_type": "code",
   "execution_count": 18,
   "metadata": {
    "collapsed": false
   },
   "outputs": [],
   "source": [
    "yc200902_short = yc200902_t [['Passenger_Count', 'Trip_Distance',\n",
    "       'Start_Lon', 'Start_Lat', 'End_Lon','End_Lat','Tip_Amt','Total_Amt', 'Trip_Duration' ]]"
   ]
  },
  {
   "cell_type": "code",
   "execution_count": 19,
   "metadata": {
    "ExecuteTime": {
     "end_time": "2017-10-26T00:29:57.938941",
     "start_time": "2017-10-26T00:29:57.912763"
    },
    "collapsed": false,
    "run_control": {
     "frozen": false,
     "read_only": false
    },
    "scrolled": true
   },
   "outputs": [
    {
     "data": {
      "text/plain": [
       "(13381, 9)"
      ]
     },
     "execution_count": 19,
     "metadata": {},
     "output_type": "execute_result"
    }
   ],
   "source": [
    "yc200902_short.shape"
   ]
  },
  {
   "cell_type": "markdown",
   "metadata": {
    "run_control": {
     "frozen": false,
     "read_only": false
    }
   },
   "source": [
    "At this point your file should look something like this. If you read in the file in the shortcuts you will also have a column \"Unnamed: 0\". You should consider setting that as the index if you have not done so yet."
   ]
  },
  {
   "cell_type": "code",
   "execution_count": 20,
   "metadata": {
    "ExecuteTime": {
     "end_time": "2017-10-26T00:36:29.516068",
     "start_time": "2017-10-26T00:36:29.456774"
    },
    "collapsed": false,
    "run_control": {
     "frozen": false,
     "read_only": false
    }
   },
   "outputs": [
    {
     "data": {
      "text/html": [
       "<div>\n",
       "<table border=\"1\" class=\"dataframe\">\n",
       "  <thead>\n",
       "    <tr style=\"text-align: right;\">\n",
       "      <th></th>\n",
       "      <th>Passenger_Count</th>\n",
       "      <th>Trip_Distance</th>\n",
       "      <th>Start_Lon</th>\n",
       "      <th>Start_Lat</th>\n",
       "      <th>End_Lon</th>\n",
       "      <th>End_Lat</th>\n",
       "      <th>Tip_Amt</th>\n",
       "      <th>Total_Amt</th>\n",
       "      <th>Trip_Duration</th>\n",
       "    </tr>\n",
       "  </thead>\n",
       "  <tbody>\n",
       "    <tr>\n",
       "      <th>0</th>\n",
       "      <td>1</td>\n",
       "      <td>1.60</td>\n",
       "      <td>-73.992768</td>\n",
       "      <td>40.758325</td>\n",
       "      <td>-73.994710</td>\n",
       "      <td>40.739723</td>\n",
       "      <td>0.00</td>\n",
       "      <td>6.90</td>\n",
       "      <td>519.0</td>\n",
       "    </tr>\n",
       "    <tr>\n",
       "      <th>1000</th>\n",
       "      <td>1</td>\n",
       "      <td>11.95</td>\n",
       "      <td>-73.968478</td>\n",
       "      <td>40.760553</td>\n",
       "      <td>-73.972788</td>\n",
       "      <td>40.637433</td>\n",
       "      <td>0.00</td>\n",
       "      <td>29.00</td>\n",
       "      <td>1560.0</td>\n",
       "    </tr>\n",
       "    <tr>\n",
       "      <th>2000</th>\n",
       "      <td>3</td>\n",
       "      <td>2.86</td>\n",
       "      <td>-73.986690</td>\n",
       "      <td>40.726995</td>\n",
       "      <td>-73.988673</td>\n",
       "      <td>40.755612</td>\n",
       "      <td>0.00</td>\n",
       "      <td>9.30</td>\n",
       "      <td>600.0</td>\n",
       "    </tr>\n",
       "    <tr>\n",
       "      <th>3000</th>\n",
       "      <td>4</td>\n",
       "      <td>4.60</td>\n",
       "      <td>-73.991188</td>\n",
       "      <td>40.723345</td>\n",
       "      <td>-73.946650</td>\n",
       "      <td>40.776628</td>\n",
       "      <td>2.00</td>\n",
       "      <td>16.90</td>\n",
       "      <td>1200.0</td>\n",
       "    </tr>\n",
       "    <tr>\n",
       "      <th>4000</th>\n",
       "      <td>1</td>\n",
       "      <td>2.40</td>\n",
       "      <td>-73.980833</td>\n",
       "      <td>40.744672</td>\n",
       "      <td>-73.984400</td>\n",
       "      <td>40.718905</td>\n",
       "      <td>1.39</td>\n",
       "      <td>10.69</td>\n",
       "      <td>712.0</td>\n",
       "    </tr>\n",
       "  </tbody>\n",
       "</table>\n",
       "</div>"
      ],
      "text/plain": [
       "      Passenger_Count  Trip_Distance  Start_Lon  Start_Lat    End_Lon  \\\n",
       "0                   1           1.60 -73.992768  40.758325 -73.994710   \n",
       "1000                1          11.95 -73.968478  40.760553 -73.972788   \n",
       "2000                3           2.86 -73.986690  40.726995 -73.988673   \n",
       "3000                4           4.60 -73.991188  40.723345 -73.946650   \n",
       "4000                1           2.40 -73.980833  40.744672 -73.984400   \n",
       "\n",
       "        End_Lat  Tip_Amt  Total_Amt  Trip_Duration  \n",
       "0     40.739723     0.00       6.90          519.0  \n",
       "1000  40.637433     0.00      29.00         1560.0  \n",
       "2000  40.755612     0.00       9.30          600.0  \n",
       "3000  40.776628     2.00      16.90         1200.0  \n",
       "4000  40.718905     1.39      10.69          712.0  "
      ]
     },
     "execution_count": 20,
     "metadata": {},
     "output_type": "execute_result"
    }
   ],
   "source": [
    "yc200902_short.head()"
   ]
  },
  {
   "cell_type": "markdown",
   "metadata": {
    "run_control": {
     "frozen": false,
     "read_only": false
    }
   },
   "source": [
    "(Here you may want to drop columns you will not need, but make sure you read all the instructions carefully to know which variables you will need before dropping them, and possibly save a copy of this short dataset to your disk.)"
   ]
  },
  {
   "cell_type": "code",
   "execution_count": 21,
   "metadata": {
    "ExecuteTime": {
     "end_time": "2017-10-26T00:38:12.121676",
     "start_time": "2017-10-26T00:38:12.116222"
    },
    "collapsed": false,
    "run_control": {
     "frozen": false,
     "read_only": false
    }
   },
   "outputs": [
    {
     "data": {
      "text/plain": [
       "(13381, 9)"
      ]
     },
     "execution_count": 21,
     "metadata": {},
     "output_type": "execute_result"
    }
   ],
   "source": [
    "yc200902_short.shape"
   ]
  },
  {
   "cell_type": "markdown",
   "metadata": {
    "run_control": {
     "frozen": false,
     "read_only": false
    }
   },
   "source": [
    "## 2. Downloading income data by zipcode "
   ]
  },
  {
   "cell_type": "markdown",
   "metadata": {
    "run_control": {
     "frozen": false,
     "read_only": false
    }
   },
   "source": [
    "In this task you should figure out how to extract income data from the IRS (internal revenue service, i.e. taxes). This is a tricky data processing task, but keep in mind you can use the file I provided and come back to this at the end if all goes well. \n",
    "\n",
    "Find income data : you can find it in this IRS file http://www.nber.org/tax-stats/zipcode/2009/09zp33ny.xls (the IRS website hosts more recent datasets, with identical format, but no longer hosts data as far back as 2009). You can use the function I saved in readIncomeXls.py as reader to get the file from [this link](http://bit.ly/2li1N7q).\n",
    "\n",
    "Use the *Adjusted gross income* for every zipcode. Additionally identify the columns indicating the number of returns, the number of dependents, the number of joint returns. Together they indicate the size of the family that filed that report, and allow you to obtain the **income per person** from the income of the whole zipcode.\n",
    "You should also convert the zip code to numeric values (with pd.to_numeric for example, or with a list comprehension [int(z)  for z in zipcode])\n",
    "\n",
    "For every zipcode the adjusted median income is the first valid row associated with that zipcode.\n"
   ]
  },
  {
   "cell_type": "markdown",
   "metadata": {
    "run_control": {
     "frozen": false,
     "read_only": false
    }
   },
   "source": [
    "Create a new dataframe zipincome with the value of income per zipcode, and income per person (per capita, PC) \n",
    "**OR ([alternative 2](https://docs.google.com/document/d/1QRXSMJdu-iP1967GbRxtZXGChVDVQ5WNVImn1j4hCl8/edit?usp=sharing))**"
   ]
  },
  {
   "cell_type": "code",
   "execution_count": 22,
   "metadata": {
    "collapsed": false
   },
   "outputs": [
    {
     "data": {
      "text/plain": [
       "0"
      ]
     },
     "execution_count": 22,
     "metadata": {},
     "output_type": "execute_result"
    }
   ],
   "source": [
    "os.system(\"curl -O http://www.nber.org/tax-stats/zipcode/2009/09zp33ny.xls \")\n",
    "os.system(\"mv \" + \"09zp33ny.xls \" + os.getenv(\"PUIDATA\"))"
   ]
  },
  {
   "cell_type": "code",
   "execution_count": 23,
   "metadata": {
    "collapsed": true
   },
   "outputs": [],
   "source": [
    "def readIncomeXls(url):\n",
    "    return pd.read_excel(url, header=3, index_col=\"ZIP\\ncode [1]\")"
   ]
  },
  {
   "cell_type": "code",
   "execution_count": 24,
   "metadata": {
    "collapsed": false
   },
   "outputs": [],
   "source": [
    "# Downloading the Income file from the url\n",
    "zipincome = readIncomeXls('http://www.nber.org/tax-stats/zipcode/2009/09zp33ny.xls')"
   ]
  },
  {
   "cell_type": "code",
   "execution_count": 25,
   "metadata": {
    "collapsed": false,
    "scrolled": true
   },
   "outputs": [
    {
     "data": {
      "text/html": [
       "<div>\n",
       "<table border=\"1\" class=\"dataframe\">\n",
       "  <thead>\n",
       "    <tr style=\"text-align: right;\">\n",
       "      <th></th>\n",
       "      <th>Size of adjusted gross income</th>\n",
       "      <th>Number of returns</th>\n",
       "      <th>Number of joint returns</th>\n",
       "      <th>Number with paid preparer's signature</th>\n",
       "      <th>Number of exemptions</th>\n",
       "      <th>Number of dependents</th>\n",
       "      <th>Adjusted gross income (AGI)</th>\n",
       "      <th>Salaries and wages in AGI</th>\n",
       "      <th>Unnamed: 9</th>\n",
       "      <th>Taxable interest</th>\n",
       "      <th>...</th>\n",
       "      <th>Alternative minimum tax</th>\n",
       "      <th>Unnamed: 62</th>\n",
       "      <th>Income tax [6]</th>\n",
       "      <th>Unnamed: 64</th>\n",
       "      <th>Total tax liability [7]</th>\n",
       "      <th>Unnamed: 66</th>\n",
       "      <th>Tax due at time of filing [8]</th>\n",
       "      <th>Unnamed: 68</th>\n",
       "      <th>Overpayments refunded [9]</th>\n",
       "      <th>Unnamed: 70</th>\n",
       "    </tr>\n",
       "    <tr>\n",
       "      <th>ZIP\n",
       "code [1]</th>\n",
       "      <th></th>\n",
       "      <th></th>\n",
       "      <th></th>\n",
       "      <th></th>\n",
       "      <th></th>\n",
       "      <th></th>\n",
       "      <th></th>\n",
       "      <th></th>\n",
       "      <th></th>\n",
       "      <th></th>\n",
       "      <th></th>\n",
       "      <th></th>\n",
       "      <th></th>\n",
       "      <th></th>\n",
       "      <th></th>\n",
       "      <th></th>\n",
       "      <th></th>\n",
       "      <th></th>\n",
       "      <th></th>\n",
       "      <th></th>\n",
       "      <th></th>\n",
       "    </tr>\n",
       "  </thead>\n",
       "  <tbody>\n",
       "    <tr>\n",
       "      <th>NaN</th>\n",
       "      <td>NaN</td>\n",
       "      <td>NaN</td>\n",
       "      <td>NaN</td>\n",
       "      <td>NaN</td>\n",
       "      <td>NaN</td>\n",
       "      <td>NaN</td>\n",
       "      <td>NaN</td>\n",
       "      <td>Number of returns</td>\n",
       "      <td>Amount</td>\n",
       "      <td>Number of returns</td>\n",
       "      <td>...</td>\n",
       "      <td>Number of returns</td>\n",
       "      <td>Amount</td>\n",
       "      <td>Number of returns</td>\n",
       "      <td>Amount</td>\n",
       "      <td>Number of returns</td>\n",
       "      <td>Amount</td>\n",
       "      <td>Number of returns</td>\n",
       "      <td>Amount</td>\n",
       "      <td>Number of returns</td>\n",
       "      <td>Amount</td>\n",
       "    </tr>\n",
       "    <tr>\n",
       "      <th>NaN</th>\n",
       "      <td>NaN</td>\n",
       "      <td>-1.0</td>\n",
       "      <td>-2.0</td>\n",
       "      <td>-3.0</td>\n",
       "      <td>-4.0</td>\n",
       "      <td>-5.0</td>\n",
       "      <td>-6.0</td>\n",
       "      <td>-7</td>\n",
       "      <td>-8</td>\n",
       "      <td>-9</td>\n",
       "      <td>...</td>\n",
       "      <td>-60</td>\n",
       "      <td>-61</td>\n",
       "      <td>-62</td>\n",
       "      <td>-63</td>\n",
       "      <td>-64</td>\n",
       "      <td>-65</td>\n",
       "      <td>-66</td>\n",
       "      <td>-67</td>\n",
       "      <td>-68</td>\n",
       "      <td>-69</td>\n",
       "    </tr>\n",
       "    <tr>\n",
       "      <th>0</th>\n",
       "      <td>NaN</td>\n",
       "      <td>8859870.0</td>\n",
       "      <td>2885809.0</td>\n",
       "      <td>5831350.0</td>\n",
       "      <td>16840512.0</td>\n",
       "      <td>5270429.0</td>\n",
       "      <td>591058301.0</td>\n",
       "      <td>7279318</td>\n",
       "      <td>414308145</td>\n",
       "      <td>4100213</td>\n",
       "      <td>...</td>\n",
       "      <td>466119</td>\n",
       "      <td>3476047</td>\n",
       "      <td>5964627</td>\n",
       "      <td>81598109</td>\n",
       "      <td>6641628</td>\n",
       "      <td>85640574</td>\n",
       "      <td>1419456</td>\n",
       "      <td>5803715</td>\n",
       "      <td>6896726</td>\n",
       "      <td>23044299</td>\n",
       "    </tr>\n",
       "    <tr>\n",
       "      <th>0</th>\n",
       "      <td>$1 under $25,000</td>\n",
       "      <td>3555603.0</td>\n",
       "      <td>496249.0</td>\n",
       "      <td>2241627.0</td>\n",
       "      <td>5286324.0</td>\n",
       "      <td>1551565.0</td>\n",
       "      <td>42351360.0</td>\n",
       "      <td>2519194</td>\n",
       "      <td>29460761</td>\n",
       "      <td>955184</td>\n",
       "      <td>...</td>\n",
       "      <td>874</td>\n",
       "      <td>601</td>\n",
       "      <td>1174529</td>\n",
       "      <td>766535</td>\n",
       "      <td>1749990</td>\n",
       "      <td>1615697</td>\n",
       "      <td>449035</td>\n",
       "      <td>258237</td>\n",
       "      <td>2784252</td>\n",
       "      <td>6008426</td>\n",
       "    </tr>\n",
       "    <tr>\n",
       "      <th>0</th>\n",
       "      <td>$25,000 under $50,000</td>\n",
       "      <td>2107465.0</td>\n",
       "      <td>501518.0</td>\n",
       "      <td>1342830.0</td>\n",
       "      <td>3897170.0</td>\n",
       "      <td>1195917.0</td>\n",
       "      <td>76646332.0</td>\n",
       "      <td>1865259</td>\n",
       "      <td>63488214</td>\n",
       "      <td>817330</td>\n",
       "      <td>...</td>\n",
       "      <td>734</td>\n",
       "      <td>1209</td>\n",
       "      <td>1684304</td>\n",
       "      <td>4328850</td>\n",
       "      <td>1762100</td>\n",
       "      <td>4769972</td>\n",
       "      <td>251980</td>\n",
       "      <td>354726</td>\n",
       "      <td>1809800</td>\n",
       "      <td>5077936</td>\n",
       "    </tr>\n",
       "  </tbody>\n",
       "</table>\n",
       "<p>5 rows × 70 columns</p>\n",
       "</div>"
      ],
      "text/plain": [
       "              Size of adjusted gross income  Number of returns  \\\n",
       "ZIP\\ncode [1]                                                    \n",
       "NaN                                     NaN                NaN   \n",
       "NaN                                     NaN               -1.0   \n",
       "0                                       NaN          8859870.0   \n",
       "0                          $1 under $25,000          3555603.0   \n",
       "0                     $25,000 under $50,000          2107465.0   \n",
       "\n",
       "               Number of joint returns  Number with paid preparer's signature  \\\n",
       "ZIP\\ncode [1]                                                                   \n",
       "NaN                                NaN                                    NaN   \n",
       "NaN                               -2.0                                   -3.0   \n",
       "0                            2885809.0                              5831350.0   \n",
       "0                             496249.0                              2241627.0   \n",
       "0                             501518.0                              1342830.0   \n",
       "\n",
       "               Number of exemptions  Number of dependents  \\\n",
       "ZIP\\ncode [1]                                               \n",
       "NaN                             NaN                   NaN   \n",
       "NaN                            -4.0                  -5.0   \n",
       "0                        16840512.0             5270429.0   \n",
       "0                         5286324.0             1551565.0   \n",
       "0                         3897170.0             1195917.0   \n",
       "\n",
       "               Adjusted gross income (AGI) Salaries and wages in AGI  \\\n",
       "ZIP\\ncode [1]                                                          \n",
       "NaN                                    NaN         Number of returns   \n",
       "NaN                                   -6.0                        -7   \n",
       "0                              591058301.0                   7279318   \n",
       "0                               42351360.0                   2519194   \n",
       "0                               76646332.0                   1865259   \n",
       "\n",
       "              Unnamed: 9   Taxable interest     ...      \\\n",
       "ZIP\\ncode [1]                                   ...       \n",
       "NaN               Amount  Number of returns     ...       \n",
       "NaN                   -8                 -9     ...       \n",
       "0              414308145            4100213     ...       \n",
       "0               29460761             955184     ...       \n",
       "0               63488214             817330     ...       \n",
       "\n",
       "              Alternative minimum tax Unnamed: 62     Income tax [6]  \\\n",
       "ZIP\\ncode [1]                                                          \n",
       "NaN                 Number of returns      Amount  Number of returns   \n",
       "NaN                               -60         -61                -62   \n",
       "0                              466119     3476047            5964627   \n",
       "0                                 874         601            1174529   \n",
       "0                                 734        1209            1684304   \n",
       "\n",
       "              Unnamed: 64 Total tax liability [7] Unnamed: 66  \\\n",
       "ZIP\\ncode [1]                                                   \n",
       "NaN                Amount       Number of returns      Amount   \n",
       "NaN                   -63                     -64         -65   \n",
       "0                81598109                 6641628    85640574   \n",
       "0                  766535                 1749990     1615697   \n",
       "0                 4328850                 1762100     4769972   \n",
       "\n",
       "              Tax due at time of filing [8]  Unnamed: 68  \\\n",
       "ZIP\\ncode [1]                                              \n",
       "NaN                       Number of returns       Amount   \n",
       "NaN                                     -66          -67   \n",
       "0                                   1419456      5803715   \n",
       "0                                    449035       258237   \n",
       "0                                    251980       354726   \n",
       "\n",
       "              Overpayments refunded [9] Unnamed: 70  \n",
       "ZIP\\ncode [1]                                        \n",
       "NaN                   Number of returns      Amount  \n",
       "NaN                                 -68         -69  \n",
       "0                               6896726    23044299  \n",
       "0                               2784252     6008426  \n",
       "0                               1809800     5077936  \n",
       "\n",
       "[5 rows x 70 columns]"
      ]
     },
     "execution_count": 25,
     "metadata": {},
     "output_type": "execute_result"
    }
   ],
   "source": [
    "zipincome.head()"
   ]
  },
  {
   "cell_type": "code",
   "execution_count": 26,
   "metadata": {
    "collapsed": false
   },
   "outputs": [
    {
     "data": {
      "text/plain": [
       "0"
      ]
     },
     "execution_count": 26,
     "metadata": {},
     "output_type": "execute_result"
    }
   ],
   "source": [
    "os.system(\"curl -O http://cosmo.nyu.edu/~fb55/data/zipincome.json \")\n",
    "os.system(\"mv \" + \"zipincome.json \" + os.getenv(\"PUIDATA\"))"
   ]
  },
  {
   "cell_type": "code",
   "execution_count": 27,
   "metadata": {
    "collapsed": false
   },
   "outputs": [],
   "source": [
    "# pd.to_numeric(zipincome['zipincome.ZIP code [1]'], errors='coerce').astype(int)"
   ]
  },
  {
   "cell_type": "code",
   "execution_count": 28,
   "metadata": {
    "ExecuteTime": {
     "end_time": "2017-10-26T00:46:50.083108",
     "start_time": "2017-10-26T00:46:50.004947"
    },
    "collapsed": false,
    "hide_input": false,
    "run_control": {
     "frozen": false,
     "read_only": false
    }
   },
   "outputs": [],
   "source": [
    "#incomeByZip.head()"
   ]
  },
  {
   "cell_type": "code",
   "execution_count": 29,
   "metadata": {
    "ExecuteTime": {
     "end_time": "2017-10-26T00:46:55.739656",
     "start_time": "2017-10-26T00:46:55.722036"
    },
    "collapsed": false,
    "hide_input": false,
    "run_control": {
     "frozen": false,
     "read_only": false
    }
   },
   "outputs": [],
   "source": [
    "#print (\"Adjusted gross income (AGI)  for zipcode 10001:\", \n",
    "       #incomeByZip.loc[[10001]][\"Adjusted gross income (AGI)\"].iloc[0])"
   ]
  },
  {
   "cell_type": "code",
   "execution_count": 30,
   "metadata": {
    "collapsed": false
   },
   "outputs": [],
   "source": [
    "# Reading from the JSON File\n",
    "zipincome = pd.read_json(os.getenv(\"PUIDATA\") + \"/\" + 'zipincome.json')"
   ]
  },
  {
   "cell_type": "code",
   "execution_count": 31,
   "metadata": {
    "ExecuteTime": {
     "end_time": "2017-10-26T00:55:00.407248",
     "start_time": "2017-10-26T00:55:00.391233"
    },
    "collapsed": false,
    "hide_input": false,
    "run_control": {
     "frozen": false,
     "read_only": false
    }
   },
   "outputs": [
    {
     "data": {
      "text/html": [
       "<div>\n",
       "<table border=\"1\" class=\"dataframe\">\n",
       "  <thead>\n",
       "    <tr style=\"text-align: right;\">\n",
       "      <th></th>\n",
       "      <th>POPULATION</th>\n",
       "      <th>ZIPCODE</th>\n",
       "      <th>incomePC</th>\n",
       "    </tr>\n",
       "  </thead>\n",
       "  <tbody>\n",
       "    <tr>\n",
       "      <th>0</th>\n",
       "      <td>17016108</td>\n",
       "      <td>0</td>\n",
       "      <td>34.735223</td>\n",
       "    </tr>\n",
       "    <tr>\n",
       "      <th>1</th>\n",
       "      <td>17426</td>\n",
       "      <td>10001</td>\n",
       "      <td>94.386319</td>\n",
       "    </tr>\n",
       "    <tr>\n",
       "      <th>10</th>\n",
       "      <td>40152</td>\n",
       "      <td>10011</td>\n",
       "      <td>121.765217</td>\n",
       "    </tr>\n",
       "    <tr>\n",
       "      <th>100</th>\n",
       "      <td>2050</td>\n",
       "      <td>10526</td>\n",
       "      <td>62.539512</td>\n",
       "    </tr>\n",
       "    <tr>\n",
       "      <th>1000</th>\n",
       "      <td>1478</td>\n",
       "      <td>13335</td>\n",
       "      <td>19.930311</td>\n",
       "    </tr>\n",
       "  </tbody>\n",
       "</table>\n",
       "</div>"
      ],
      "text/plain": [
       "      POPULATION  ZIPCODE    incomePC\n",
       "0       17016108        0   34.735223\n",
       "1          17426    10001   94.386319\n",
       "10         40152    10011  121.765217\n",
       "100         2050    10526   62.539512\n",
       "1000        1478    13335   19.930311"
      ]
     },
     "execution_count": 31,
     "metadata": {},
     "output_type": "execute_result"
    }
   ],
   "source": [
    "zipincome.head()"
   ]
  },
  {
   "cell_type": "markdown",
   "metadata": {
    "run_control": {
     "frozen": false,
     "read_only": false
    }
   },
   "source": [
    "the zip codes series should look like this, and may contain some spurious values (0, 99999), but should you worry about those??"
   ]
  },
  {
   "cell_type": "code",
   "execution_count": 32,
   "metadata": {
    "ExecuteTime": {
     "end_time": "2017-10-26T00:55:04.437041",
     "start_time": "2017-10-26T00:55:04.419654"
    },
    "collapsed": false,
    "hide_input": false,
    "run_control": {
     "frozen": false,
     "read_only": false
    }
   },
   "outputs": [
    {
     "data": {
      "text/plain": [
       "0           0\n",
       "1       10001\n",
       "10      10011\n",
       "100     10526\n",
       "1000    13335\n",
       "1001    13337\n",
       "1002    13338\n",
       "1003    13339\n",
       "1004    13340\n",
       "1005    13342\n",
       "Name: ZIPCODE, dtype: int64"
      ]
     },
     "execution_count": 32,
     "metadata": {},
     "output_type": "execute_result"
    }
   ],
   "source": [
    "zipincome.ZIPCODE[:10]"
   ]
  },
  {
   "cell_type": "markdown",
   "metadata": {
    "run_control": {
     "frozen": false,
     "read_only": false
    }
   },
   "source": [
    "## 3. Feature engineering task: extract the trip duration from the data and tip percentage\n",
    "\n",
    "I recommend you create a trip duration column where the duration is in hours. That is a reasonable unit, such that most trips will be near unit value. The pandas datetime package documentation may be helpful here, particularly the [time delta](https://pandas.pydata.org/pandas-docs/stable/timedeltas.html).\n",
    " \n",
    "** OR ([alternative 3](https://docs.google.com/document/d/1QRXSMJdu-iP1967GbRxtZXGChVDVQ5WNVImn1j4hCl8/edit?usp=sharing)) **"
   ]
  },
  {
   "cell_type": "code",
   "execution_count": 33,
   "metadata": {
    "ExecuteTime": {
     "end_time": "2017-10-26T00:55:56.840149",
     "start_time": "2017-10-26T00:55:56.833028"
    },
    "collapsed": false,
    "run_control": {
     "frozen": false,
     "read_only": false
    }
   },
   "outputs": [
    {
     "name": "stderr",
     "output_type": "stream",
     "text": [
      "/opt/rh/anaconda/root/envs/PUI2016_Python3/lib/python3.5/site-packages/ipykernel/__main__.py:1: SettingWithCopyWarning: \n",
      "A value is trying to be set on a copy of a slice from a DataFrame.\n",
      "Try using .loc[row_indexer,col_indexer] = value instead\n",
      "\n",
      "See the caveats in the documentation: http://pandas.pydata.org/pandas-docs/stable/indexing.html#indexing-view-versus-copy\n",
      "  if __name__ == '__main__':\n"
     ]
    }
   ],
   "source": [
    "yc200902_short['tripDurationHours'] = yc200902_short['Trip_Duration'].astype(float)/3600.0"
   ]
  },
  {
   "cell_type": "code",
   "execution_count": 34,
   "metadata": {
    "collapsed": false
   },
   "outputs": [
    {
     "data": {
      "text/html": [
       "<div>\n",
       "<table border=\"1\" class=\"dataframe\">\n",
       "  <thead>\n",
       "    <tr style=\"text-align: right;\">\n",
       "      <th></th>\n",
       "      <th>Passenger_Count</th>\n",
       "      <th>Trip_Distance</th>\n",
       "      <th>Start_Lon</th>\n",
       "      <th>Start_Lat</th>\n",
       "      <th>End_Lon</th>\n",
       "      <th>End_Lat</th>\n",
       "      <th>Tip_Amt</th>\n",
       "      <th>Total_Amt</th>\n",
       "      <th>Trip_Duration</th>\n",
       "      <th>tripDurationHours</th>\n",
       "    </tr>\n",
       "  </thead>\n",
       "  <tbody>\n",
       "    <tr>\n",
       "      <th>0</th>\n",
       "      <td>1</td>\n",
       "      <td>1.60</td>\n",
       "      <td>-73.992768</td>\n",
       "      <td>40.758325</td>\n",
       "      <td>-73.994710</td>\n",
       "      <td>40.739723</td>\n",
       "      <td>0.00</td>\n",
       "      <td>6.90</td>\n",
       "      <td>519.0</td>\n",
       "      <td>0.144167</td>\n",
       "    </tr>\n",
       "    <tr>\n",
       "      <th>1000</th>\n",
       "      <td>1</td>\n",
       "      <td>11.95</td>\n",
       "      <td>-73.968478</td>\n",
       "      <td>40.760553</td>\n",
       "      <td>-73.972788</td>\n",
       "      <td>40.637433</td>\n",
       "      <td>0.00</td>\n",
       "      <td>29.00</td>\n",
       "      <td>1560.0</td>\n",
       "      <td>0.433333</td>\n",
       "    </tr>\n",
       "    <tr>\n",
       "      <th>2000</th>\n",
       "      <td>3</td>\n",
       "      <td>2.86</td>\n",
       "      <td>-73.986690</td>\n",
       "      <td>40.726995</td>\n",
       "      <td>-73.988673</td>\n",
       "      <td>40.755612</td>\n",
       "      <td>0.00</td>\n",
       "      <td>9.30</td>\n",
       "      <td>600.0</td>\n",
       "      <td>0.166667</td>\n",
       "    </tr>\n",
       "    <tr>\n",
       "      <th>3000</th>\n",
       "      <td>4</td>\n",
       "      <td>4.60</td>\n",
       "      <td>-73.991188</td>\n",
       "      <td>40.723345</td>\n",
       "      <td>-73.946650</td>\n",
       "      <td>40.776628</td>\n",
       "      <td>2.00</td>\n",
       "      <td>16.90</td>\n",
       "      <td>1200.0</td>\n",
       "      <td>0.333333</td>\n",
       "    </tr>\n",
       "    <tr>\n",
       "      <th>4000</th>\n",
       "      <td>1</td>\n",
       "      <td>2.40</td>\n",
       "      <td>-73.980833</td>\n",
       "      <td>40.744672</td>\n",
       "      <td>-73.984400</td>\n",
       "      <td>40.718905</td>\n",
       "      <td>1.39</td>\n",
       "      <td>10.69</td>\n",
       "      <td>712.0</td>\n",
       "      <td>0.197778</td>\n",
       "    </tr>\n",
       "  </tbody>\n",
       "</table>\n",
       "</div>"
      ],
      "text/plain": [
       "      Passenger_Count  Trip_Distance  Start_Lon  Start_Lat    End_Lon  \\\n",
       "0                   1           1.60 -73.992768  40.758325 -73.994710   \n",
       "1000                1          11.95 -73.968478  40.760553 -73.972788   \n",
       "2000                3           2.86 -73.986690  40.726995 -73.988673   \n",
       "3000                4           4.60 -73.991188  40.723345 -73.946650   \n",
       "4000                1           2.40 -73.980833  40.744672 -73.984400   \n",
       "\n",
       "        End_Lat  Tip_Amt  Total_Amt  Trip_Duration  tripDurationHours  \n",
       "0     40.739723     0.00       6.90          519.0           0.144167  \n",
       "1000  40.637433     0.00      29.00         1560.0           0.433333  \n",
       "2000  40.755612     0.00       9.30          600.0           0.166667  \n",
       "3000  40.776628     2.00      16.90         1200.0           0.333333  \n",
       "4000  40.718905     1.39      10.69          712.0           0.197778  "
      ]
     },
     "execution_count": 34,
     "metadata": {},
     "output_type": "execute_result"
    }
   ],
   "source": [
    "yc200902_short.head()"
   ]
  },
  {
   "cell_type": "code",
   "execution_count": 35,
   "metadata": {
    "collapsed": false
   },
   "outputs": [
    {
     "name": "stderr",
     "output_type": "stream",
     "text": [
      "/opt/rh/anaconda/root/envs/PUI2016_Python3/lib/python3.5/site-packages/ipykernel/__main__.py:1: SettingWithCopyWarning: \n",
      "A value is trying to be set on a copy of a slice from a DataFrame.\n",
      "Try using .loc[row_indexer,col_indexer] = value instead\n",
      "\n",
      "See the caveats in the documentation: http://pandas.pydata.org/pandas-docs/stable/indexing.html#indexing-view-versus-copy\n",
      "  if __name__ == '__main__':\n"
     ]
    }
   ],
   "source": [
    "yc200902_short['tripDurationHours'] = yc200902_short['tripDurationHours'].astype(float)"
   ]
  },
  {
   "cell_type": "code",
   "execution_count": 36,
   "metadata": {
    "collapsed": false
   },
   "outputs": [
    {
     "data": {
      "text/plain": [
       "0       0.144167\n",
       "1000    0.433333\n",
       "2000    0.166667\n",
       "3000    0.333333\n",
       "4000    0.197778\n",
       "Name: tripDurationHours, dtype: float64"
      ]
     },
     "execution_count": 36,
     "metadata": {},
     "output_type": "execute_result"
    }
   ],
   "source": [
    "yc200902_short.tripDurationHours.head()"
   ]
  },
  {
   "cell_type": "code",
   "execution_count": 37,
   "metadata": {
    "ExecuteTime": {
     "end_time": "2017-10-26T00:56:23.537147",
     "start_time": "2017-10-26T00:56:23.529474"
    },
    "collapsed": false,
    "hide_input": false,
    "run_control": {
     "frozen": false,
     "read_only": false
    },
    "scrolled": true
   },
   "outputs": [],
   "source": [
    "yc200902_short['tipPC'] = yc200902_short.Tip_Amt/yc200902_short.Total_Amt"
   ]
  },
  {
   "cell_type": "code",
   "execution_count": 38,
   "metadata": {
    "collapsed": false,
    "scrolled": true
   },
   "outputs": [
    {
     "data": {
      "text/plain": [
       "0       0.000000\n",
       "1000    0.000000\n",
       "2000    0.000000\n",
       "3000    0.118343\n",
       "4000    0.130028\n",
       "Name: tipPC, dtype: float64"
      ]
     },
     "execution_count": 38,
     "metadata": {},
     "output_type": "execute_result"
    }
   ],
   "source": [
    "yc200902_short.tipPC.head()"
   ]
  },
  {
   "cell_type": "code",
   "execution_count": 39,
   "metadata": {
    "collapsed": false
   },
   "outputs": [
    {
     "data": {
      "text/html": [
       "<div>\n",
       "<table border=\"1\" class=\"dataframe\">\n",
       "  <thead>\n",
       "    <tr style=\"text-align: right;\">\n",
       "      <th></th>\n",
       "      <th>Passenger_Count</th>\n",
       "      <th>Trip_Distance</th>\n",
       "      <th>Start_Lon</th>\n",
       "      <th>Start_Lat</th>\n",
       "      <th>End_Lon</th>\n",
       "      <th>End_Lat</th>\n",
       "      <th>Tip_Amt</th>\n",
       "      <th>Total_Amt</th>\n",
       "      <th>Trip_Duration</th>\n",
       "      <th>tripDurationHours</th>\n",
       "      <th>tipPC</th>\n",
       "    </tr>\n",
       "  </thead>\n",
       "  <tbody>\n",
       "    <tr>\n",
       "      <th>0</th>\n",
       "      <td>1</td>\n",
       "      <td>1.60</td>\n",
       "      <td>-73.992768</td>\n",
       "      <td>40.758325</td>\n",
       "      <td>-73.994710</td>\n",
       "      <td>40.739723</td>\n",
       "      <td>0.00</td>\n",
       "      <td>6.90</td>\n",
       "      <td>519.0</td>\n",
       "      <td>0.144167</td>\n",
       "      <td>0.000000</td>\n",
       "    </tr>\n",
       "    <tr>\n",
       "      <th>1000</th>\n",
       "      <td>1</td>\n",
       "      <td>11.95</td>\n",
       "      <td>-73.968478</td>\n",
       "      <td>40.760553</td>\n",
       "      <td>-73.972788</td>\n",
       "      <td>40.637433</td>\n",
       "      <td>0.00</td>\n",
       "      <td>29.00</td>\n",
       "      <td>1560.0</td>\n",
       "      <td>0.433333</td>\n",
       "      <td>0.000000</td>\n",
       "    </tr>\n",
       "    <tr>\n",
       "      <th>2000</th>\n",
       "      <td>3</td>\n",
       "      <td>2.86</td>\n",
       "      <td>-73.986690</td>\n",
       "      <td>40.726995</td>\n",
       "      <td>-73.988673</td>\n",
       "      <td>40.755612</td>\n",
       "      <td>0.00</td>\n",
       "      <td>9.30</td>\n",
       "      <td>600.0</td>\n",
       "      <td>0.166667</td>\n",
       "      <td>0.000000</td>\n",
       "    </tr>\n",
       "    <tr>\n",
       "      <th>3000</th>\n",
       "      <td>4</td>\n",
       "      <td>4.60</td>\n",
       "      <td>-73.991188</td>\n",
       "      <td>40.723345</td>\n",
       "      <td>-73.946650</td>\n",
       "      <td>40.776628</td>\n",
       "      <td>2.00</td>\n",
       "      <td>16.90</td>\n",
       "      <td>1200.0</td>\n",
       "      <td>0.333333</td>\n",
       "      <td>0.118343</td>\n",
       "    </tr>\n",
       "    <tr>\n",
       "      <th>4000</th>\n",
       "      <td>1</td>\n",
       "      <td>2.40</td>\n",
       "      <td>-73.980833</td>\n",
       "      <td>40.744672</td>\n",
       "      <td>-73.984400</td>\n",
       "      <td>40.718905</td>\n",
       "      <td>1.39</td>\n",
       "      <td>10.69</td>\n",
       "      <td>712.0</td>\n",
       "      <td>0.197778</td>\n",
       "      <td>0.130028</td>\n",
       "    </tr>\n",
       "  </tbody>\n",
       "</table>\n",
       "</div>"
      ],
      "text/plain": [
       "      Passenger_Count  Trip_Distance  Start_Lon  Start_Lat    End_Lon  \\\n",
       "0                   1           1.60 -73.992768  40.758325 -73.994710   \n",
       "1000                1          11.95 -73.968478  40.760553 -73.972788   \n",
       "2000                3           2.86 -73.986690  40.726995 -73.988673   \n",
       "3000                4           4.60 -73.991188  40.723345 -73.946650   \n",
       "4000                1           2.40 -73.980833  40.744672 -73.984400   \n",
       "\n",
       "        End_Lat  Tip_Amt  Total_Amt  Trip_Duration  tripDurationHours  \\\n",
       "0     40.739723     0.00       6.90          519.0           0.144167   \n",
       "1000  40.637433     0.00      29.00         1560.0           0.433333   \n",
       "2000  40.755612     0.00       9.30          600.0           0.166667   \n",
       "3000  40.776628     2.00      16.90         1200.0           0.333333   \n",
       "4000  40.718905     1.39      10.69          712.0           0.197778   \n",
       "\n",
       "         tipPC  \n",
       "0     0.000000  \n",
       "1000  0.000000  \n",
       "2000  0.000000  \n",
       "3000  0.118343  \n",
       "4000  0.130028  "
      ]
     },
     "execution_count": 39,
     "metadata": {},
     "output_type": "execute_result"
    }
   ],
   "source": [
    "yc200902_short.head()"
   ]
  },
  {
   "cell_type": "code",
   "execution_count": null,
   "metadata": {
    "collapsed": true
   },
   "outputs": [],
   "source": []
  },
  {
   "cell_type": "markdown",
   "metadata": {
    "hide_input": true,
    "run_control": {
     "frozen": false,
     "read_only": false
    }
   },
   "source": [
    "## 4. Find the departure and destination zipcode of every ride\n",
    "You can download the files I prepared (no points loss!). \n",
    "There is still some data wrangling: the data files I provided are at the [same link](http://cosmo.nyu.edu/~fb55/data/), and are named departureZIP.csv and destinationZIP.csv. Those files contain the zipcode of the departure and destination coordinates respectively for all rides with valid NYC departure/destination coordinates for the subsampled dataset, sampled by choosing every 1000th row. If you chose a different subsampling strategy then will need to find the zipcodes with one of the methods below.\n",
    "\n",
    "\n",
    "**Alternatively:**\n",
    "\n",
    "If you are handy with goepandas you can to a spatial joint with [this file](https://www.google.com/url?sa=t&rct=j&q=&esrc=s&source=web&cd=1&ved=0ahUKEwj289ntl4vXAhVLKyYKHTnBCPoQFggoMAA&url=https%3A%2F%2Fdata.cityofnewyork.us%2FBusiness%2FZip-Code-Boundaries%2Fi8iw-xf4u&usg=AOvVaw0SKZTHDFVpjcyAMZOy0lDx) which is what I did, but you will lose no points if you just download and merge my data files.[Some help on this](https://docs.google.com/document/d/1F3QUlX6krQmwx_YONa41ETa-Tsq1l01creBDBqzzP6w/edit?usp=sharing)\n",
    "\n",
    "**Alternatively:**\n",
    "\n",
    "You can use the google API to [reverse geocode the coordinates](https://docs.google.com/document/d/1LWQd3ZJsDftx8RA5cT_dVlIKH2PJ7LaI2OIXBJmURjE/edit?usp=sharing) including the long and latitide of each ride, but unless you have a premium account you will hit the API limit. You have a limit of 2,500 requests/day. "
   ]
  },
  {
   "cell_type": "markdown",
   "metadata": {
    "run_control": {
     "frozen": false,
     "read_only": false
    }
   },
   "source": [
    "## 5. Data aggregation task: Join the datasets so that your data contains at least: trip duration, trip distance, fare amount, tip percentage, departure zipcode income, and destination zipcode income"
   ]
  },
  {
   "cell_type": "markdown",
   "metadata": {},
   "source": [
    "## Here I tried to merge using the Lat/Long instead of the Unnamed:0 Column. I got the logic right but I did not have enough time to go back and rerun the code as I dropped the Column."
   ]
  },
  {
   "cell_type": "code",
   "execution_count": 40,
   "metadata": {
    "collapsed": false
   },
   "outputs": [
    {
     "data": {
      "text/plain": [
       "0"
      ]
     },
     "execution_count": 40,
     "metadata": {},
     "output_type": "execute_result"
    }
   ],
   "source": [
    "os.system(\"curl -O http://cosmo.nyu.edu/~fb55/data/departureZIP.csv \")\n",
    "os.system(\"mv \" + \"departureZIP.csv \" + os.getenv(\"PUIDATA\"))"
   ]
  },
  {
   "cell_type": "code",
   "execution_count": 41,
   "metadata": {
    "collapsed": false
   },
   "outputs": [
    {
     "data": {
      "text/plain": [
       "0"
      ]
     },
     "execution_count": 41,
     "metadata": {},
     "output_type": "execute_result"
    }
   ],
   "source": [
    "os.system(\"curl -O http://cosmo.nyu.edu/~fb55/data/destinationZIP.csv \")\n",
    "os.system(\"mv \" + \"destinationZIP.csv \" + os.getenv(\"PUIDATA\"))"
   ]
  },
  {
   "cell_type": "code",
   "execution_count": 42,
   "metadata": {
    "collapsed": false
   },
   "outputs": [
    {
     "data": {
      "text/html": [
       "<div>\n",
       "<table border=\"1\" class=\"dataframe\">\n",
       "  <thead>\n",
       "    <tr style=\"text-align: right;\">\n",
       "      <th></th>\n",
       "      <th>Start_Lon</th>\n",
       "      <th>Start_Lat</th>\n",
       "      <th>ZIPCODE</th>\n",
       "    </tr>\n",
       "  </thead>\n",
       "  <tbody>\n",
       "    <tr>\n",
       "      <th>0</th>\n",
       "      <td>-73.992768</td>\n",
       "      <td>40.758325</td>\n",
       "      <td>10036</td>\n",
       "    </tr>\n",
       "    <tr>\n",
       "      <th>1</th>\n",
       "      <td>-73.985048</td>\n",
       "      <td>40.755035</td>\n",
       "      <td>10036</td>\n",
       "    </tr>\n",
       "    <tr>\n",
       "      <th>2</th>\n",
       "      <td>-73.989672</td>\n",
       "      <td>40.756602</td>\n",
       "      <td>10036</td>\n",
       "    </tr>\n",
       "    <tr>\n",
       "      <th>3</th>\n",
       "      <td>-73.988487</td>\n",
       "      <td>40.757317</td>\n",
       "      <td>10036</td>\n",
       "    </tr>\n",
       "    <tr>\n",
       "      <th>4</th>\n",
       "      <td>-73.984228</td>\n",
       "      <td>40.759523</td>\n",
       "      <td>10036</td>\n",
       "    </tr>\n",
       "  </tbody>\n",
       "</table>\n",
       "</div>"
      ],
      "text/plain": [
       "   Start_Lon  Start_Lat  ZIPCODE\n",
       "0 -73.992768  40.758325    10036\n",
       "1 -73.985048  40.755035    10036\n",
       "2 -73.989672  40.756602    10036\n",
       "3 -73.988487  40.757317    10036\n",
       "4 -73.984228  40.759523    10036"
      ]
     },
     "execution_count": 42,
     "metadata": {},
     "output_type": "execute_result"
    }
   ],
   "source": [
    "depzip = pd.read_csv(os.getenv(\"PUIDATA\") + \"/\" + 'departureZIP.csv')\n",
    "depzip.drop(['Unnamed: 0','End_Lon', 'End_Lat','lonlat'],axis=1, inplace=True)\n",
    "depzip.head()\n"
   ]
  },
  {
   "cell_type": "code",
   "execution_count": 43,
   "metadata": {
    "collapsed": false
   },
   "outputs": [
    {
     "data": {
      "text/html": [
       "<div>\n",
       "<table border=\"1\" class=\"dataframe\">\n",
       "  <thead>\n",
       "    <tr style=\"text-align: right;\">\n",
       "      <th></th>\n",
       "      <th>End_Lon</th>\n",
       "      <th>End_Lat</th>\n",
       "      <th>ZIPCODE</th>\n",
       "    </tr>\n",
       "  </thead>\n",
       "  <tbody>\n",
       "    <tr>\n",
       "      <th>0</th>\n",
       "      <td>-73.994710</td>\n",
       "      <td>40.739723</td>\n",
       "      <td>10011</td>\n",
       "    </tr>\n",
       "    <tr>\n",
       "      <th>1</th>\n",
       "      <td>-73.997600</td>\n",
       "      <td>40.737661</td>\n",
       "      <td>10011</td>\n",
       "    </tr>\n",
       "    <tr>\n",
       "      <th>2</th>\n",
       "      <td>-73.995922</td>\n",
       "      <td>40.733203</td>\n",
       "      <td>10011</td>\n",
       "    </tr>\n",
       "    <tr>\n",
       "      <th>3</th>\n",
       "      <td>-74.000598</td>\n",
       "      <td>40.742468</td>\n",
       "      <td>10011</td>\n",
       "    </tr>\n",
       "    <tr>\n",
       "      <th>4</th>\n",
       "      <td>-73.997386</td>\n",
       "      <td>40.738333</td>\n",
       "      <td>10011</td>\n",
       "    </tr>\n",
       "  </tbody>\n",
       "</table>\n",
       "</div>"
      ],
      "text/plain": [
       "     End_Lon    End_Lat  ZIPCODE\n",
       "0 -73.994710  40.739723    10011\n",
       "1 -73.997600  40.737661    10011\n",
       "2 -73.995922  40.733203    10011\n",
       "3 -74.000598  40.742468    10011\n",
       "4 -73.997386  40.738333    10011"
      ]
     },
     "execution_count": 43,
     "metadata": {},
     "output_type": "execute_result"
    }
   ],
   "source": [
    "destzip = pd.read_csv(os.getenv(\"PUIDATA\") + \"/\" + 'destinationZIP.csv')\n",
    "destzip.drop(['Unnamed: 0','Start_Lon', 'Start_Lat','lonlat'],axis=1, inplace=True)\n",
    "\n",
    "destzip.head()"
   ]
  },
  {
   "cell_type": "code",
   "execution_count": 44,
   "metadata": {
    "collapsed": false
   },
   "outputs": [
    {
     "data": {
      "text/plain": [
       "Index(['Passenger_Count', 'Trip_Distance', 'Start_Lon', 'Start_Lat', 'End_Lon',\n",
       "       'End_Lat', 'Tip_Amt', 'Total_Amt', 'Trip_Duration', 'tripDurationHours',\n",
       "       'tipPC'],\n",
       "      dtype='object')"
      ]
     },
     "execution_count": 44,
     "metadata": {},
     "output_type": "execute_result"
    }
   ],
   "source": [
    "yc200902_short.columns"
   ]
  },
  {
   "cell_type": "code",
   "execution_count": 45,
   "metadata": {
    "collapsed": false
   },
   "outputs": [],
   "source": [
    "yc200902_short_1 = yc200902_short [['Passenger_Count', 'Trip_Distance','Start_Lon', 'Start_Lat', 'End_Lon',\n",
    "       'End_Lat','tripDurationHours','tipPC']]"
   ]
  },
  {
   "cell_type": "code",
   "execution_count": 46,
   "metadata": {
    "collapsed": false,
    "scrolled": true
   },
   "outputs": [
    {
     "data": {
      "text/html": [
       "<div>\n",
       "<table border=\"1\" class=\"dataframe\">\n",
       "  <thead>\n",
       "    <tr style=\"text-align: right;\">\n",
       "      <th></th>\n",
       "      <th>Passenger_Count</th>\n",
       "      <th>Trip_Distance</th>\n",
       "      <th>Start_Lon</th>\n",
       "      <th>Start_Lat</th>\n",
       "      <th>End_Lon</th>\n",
       "      <th>End_Lat</th>\n",
       "      <th>tripDurationHours</th>\n",
       "      <th>tipPC</th>\n",
       "    </tr>\n",
       "  </thead>\n",
       "  <tbody>\n",
       "    <tr>\n",
       "      <th>0</th>\n",
       "      <td>1</td>\n",
       "      <td>1.60</td>\n",
       "      <td>-73.992768</td>\n",
       "      <td>40.758325</td>\n",
       "      <td>-73.994710</td>\n",
       "      <td>40.739723</td>\n",
       "      <td>0.144167</td>\n",
       "      <td>0.000000</td>\n",
       "    </tr>\n",
       "    <tr>\n",
       "      <th>1000</th>\n",
       "      <td>1</td>\n",
       "      <td>11.95</td>\n",
       "      <td>-73.968478</td>\n",
       "      <td>40.760553</td>\n",
       "      <td>-73.972788</td>\n",
       "      <td>40.637433</td>\n",
       "      <td>0.433333</td>\n",
       "      <td>0.000000</td>\n",
       "    </tr>\n",
       "    <tr>\n",
       "      <th>2000</th>\n",
       "      <td>3</td>\n",
       "      <td>2.86</td>\n",
       "      <td>-73.986690</td>\n",
       "      <td>40.726995</td>\n",
       "      <td>-73.988673</td>\n",
       "      <td>40.755612</td>\n",
       "      <td>0.166667</td>\n",
       "      <td>0.000000</td>\n",
       "    </tr>\n",
       "    <tr>\n",
       "      <th>3000</th>\n",
       "      <td>4</td>\n",
       "      <td>4.60</td>\n",
       "      <td>-73.991188</td>\n",
       "      <td>40.723345</td>\n",
       "      <td>-73.946650</td>\n",
       "      <td>40.776628</td>\n",
       "      <td>0.333333</td>\n",
       "      <td>0.118343</td>\n",
       "    </tr>\n",
       "    <tr>\n",
       "      <th>4000</th>\n",
       "      <td>1</td>\n",
       "      <td>2.40</td>\n",
       "      <td>-73.980833</td>\n",
       "      <td>40.744672</td>\n",
       "      <td>-73.984400</td>\n",
       "      <td>40.718905</td>\n",
       "      <td>0.197778</td>\n",
       "      <td>0.130028</td>\n",
       "    </tr>\n",
       "  </tbody>\n",
       "</table>\n",
       "</div>"
      ],
      "text/plain": [
       "      Passenger_Count  Trip_Distance  Start_Lon  Start_Lat    End_Lon  \\\n",
       "0                   1           1.60 -73.992768  40.758325 -73.994710   \n",
       "1000                1          11.95 -73.968478  40.760553 -73.972788   \n",
       "2000                3           2.86 -73.986690  40.726995 -73.988673   \n",
       "3000                4           4.60 -73.991188  40.723345 -73.946650   \n",
       "4000                1           2.40 -73.980833  40.744672 -73.984400   \n",
       "\n",
       "        End_Lat  tripDurationHours     tipPC  \n",
       "0     40.739723           0.144167  0.000000  \n",
       "1000  40.637433           0.433333  0.000000  \n",
       "2000  40.755612           0.166667  0.000000  \n",
       "3000  40.776628           0.333333  0.118343  \n",
       "4000  40.718905           0.197778  0.130028  "
      ]
     },
     "execution_count": 46,
     "metadata": {},
     "output_type": "execute_result"
    }
   ],
   "source": [
    "yc200902_short_1.head()"
   ]
  },
  {
   "cell_type": "code",
   "execution_count": 47,
   "metadata": {
    "collapsed": false
   },
   "outputs": [
    {
     "data": {
      "text/html": [
       "<div>\n",
       "<table border=\"1\" class=\"dataframe\">\n",
       "  <thead>\n",
       "    <tr style=\"text-align: right;\">\n",
       "      <th></th>\n",
       "      <th>Passenger_Count</th>\n",
       "      <th>Trip_Distance</th>\n",
       "      <th>Start_Lon</th>\n",
       "      <th>Start_Lat</th>\n",
       "      <th>End_Lon</th>\n",
       "      <th>End_Lat</th>\n",
       "      <th>tripDurationHours</th>\n",
       "      <th>tipPC</th>\n",
       "      <th>ZIPCODE</th>\n",
       "    </tr>\n",
       "  </thead>\n",
       "  <tbody>\n",
       "    <tr>\n",
       "      <th>0</th>\n",
       "      <td>1</td>\n",
       "      <td>1.60</td>\n",
       "      <td>-73.992768</td>\n",
       "      <td>40.758325</td>\n",
       "      <td>-73.994710</td>\n",
       "      <td>40.739723</td>\n",
       "      <td>0.144167</td>\n",
       "      <td>0.000000</td>\n",
       "      <td>10036</td>\n",
       "    </tr>\n",
       "    <tr>\n",
       "      <th>1000</th>\n",
       "      <td>1</td>\n",
       "      <td>11.95</td>\n",
       "      <td>-73.968478</td>\n",
       "      <td>40.760553</td>\n",
       "      <td>-73.972788</td>\n",
       "      <td>40.637433</td>\n",
       "      <td>0.433333</td>\n",
       "      <td>0.000000</td>\n",
       "      <td>10022</td>\n",
       "    </tr>\n",
       "    <tr>\n",
       "      <th>2000</th>\n",
       "      <td>3</td>\n",
       "      <td>2.86</td>\n",
       "      <td>-73.986690</td>\n",
       "      <td>40.726995</td>\n",
       "      <td>-73.988673</td>\n",
       "      <td>40.755612</td>\n",
       "      <td>0.166667</td>\n",
       "      <td>0.000000</td>\n",
       "      <td>10003</td>\n",
       "    </tr>\n",
       "    <tr>\n",
       "      <th>3000</th>\n",
       "      <td>4</td>\n",
       "      <td>4.60</td>\n",
       "      <td>-73.991188</td>\n",
       "      <td>40.723345</td>\n",
       "      <td>-73.946650</td>\n",
       "      <td>40.776628</td>\n",
       "      <td>0.333333</td>\n",
       "      <td>0.118343</td>\n",
       "      <td>10016</td>\n",
       "    </tr>\n",
       "    <tr>\n",
       "      <th>4000</th>\n",
       "      <td>1</td>\n",
       "      <td>2.40</td>\n",
       "      <td>-73.980833</td>\n",
       "      <td>40.744672</td>\n",
       "      <td>-73.984400</td>\n",
       "      <td>40.718905</td>\n",
       "      <td>0.197778</td>\n",
       "      <td>0.130028</td>\n",
       "      <td>10009</td>\n",
       "    </tr>\n",
       "  </tbody>\n",
       "</table>\n",
       "</div>"
      ],
      "text/plain": [
       "      Passenger_Count  Trip_Distance  Start_Lon  Start_Lat    End_Lon  \\\n",
       "0                   1           1.60 -73.992768  40.758325 -73.994710   \n",
       "1000                1          11.95 -73.968478  40.760553 -73.972788   \n",
       "2000                3           2.86 -73.986690  40.726995 -73.988673   \n",
       "3000                4           4.60 -73.991188  40.723345 -73.946650   \n",
       "4000                1           2.40 -73.980833  40.744672 -73.984400   \n",
       "\n",
       "        End_Lat  tripDurationHours     tipPC  ZIPCODE  \n",
       "0     40.739723           0.144167  0.000000    10036  \n",
       "1000  40.637433           0.433333  0.000000    10022  \n",
       "2000  40.755612           0.166667  0.000000    10003  \n",
       "3000  40.776628           0.333333  0.118343    10016  \n",
       "4000  40.718905           0.197778  0.130028    10009  "
      ]
     },
     "execution_count": 47,
     "metadata": {},
     "output_type": "execute_result"
    }
   ],
   "source": [
    "yc200902_shortcut_1 = pd.merge(yc200902_short_1, depzip, on=['Start_Lon','Start_Lat'], left_index=True, right_index=True)\n",
    "\n",
    "yc200902_shortcut_1.head()"
   ]
  },
  {
   "cell_type": "code",
   "execution_count": 48,
   "metadata": {
    "ExecuteTime": {
     "end_time": "2017-10-26T01:05:15.414756",
     "start_time": "2017-10-26T01:05:15.389349"
    },
    "collapsed": false,
    "run_control": {
     "frozen": false,
     "read_only": false
    }
   },
   "outputs": [],
   "source": [
    "# Finally Merging the Lat_Long with the Dest Zip\n",
    "yc200902_shortcut_2 = pd.merge(yc200902_shortcut_1, destzip, on=['End_Lon','End_Lat'], left_index=True, right_index=True)"
   ]
  },
  {
   "cell_type": "code",
   "execution_count": 49,
   "metadata": {
    "collapsed": false
   },
   "outputs": [
    {
     "data": {
      "text/plain": [
       "Index(['Passenger_Count', 'Trip_Distance', 'Start_Lon', 'Start_Lat', 'End_Lon',\n",
       "       'End_Lat', 'tripDurationHours', 'tipPC', 'ZIPCODE_x', 'ZIPCODE_y'],\n",
       "      dtype='object')"
      ]
     },
     "execution_count": 49,
     "metadata": {},
     "output_type": "execute_result"
    }
   ],
   "source": [
    "yc200902_shortcut_2.columns"
   ]
  },
  {
   "cell_type": "markdown",
   "metadata": {
    "run_control": {
     "frozen": false,
     "read_only": false
    }
   },
   "source": [
    "# ANALYSIS PORTION remember to make plots and describe your findings with complete sentences, *especially* the weaknesses of your analysis!"
   ]
  },
  {
   "cell_type": "code",
   "execution_count": 50,
   "metadata": {
    "collapsed": false
   },
   "outputs": [
    {
     "data": {
      "text/plain": [
       "0"
      ]
     },
     "execution_count": 50,
     "metadata": {},
     "output_type": "execute_result"
    }
   ],
   "source": [
    "os.system(\"curl -O http://cosmo.nyu.edu/~fb55/data/yc200902_income_final.csv\")\n",
    "os.system(\"mv \" + \"yc200902_income_final.csv \" + os.getenv(\"PUIDATA\"))\n"
   ]
  },
  {
   "cell_type": "code",
   "execution_count": 51,
   "metadata": {
    "collapsed": false
   },
   "outputs": [
    {
     "data": {
      "text/html": [
       "<div>\n",
       "<table border=\"1\" class=\"dataframe\">\n",
       "  <thead>\n",
       "    <tr style=\"text-align: right;\">\n",
       "      <th></th>\n",
       "      <th>Unnamed: 0</th>\n",
       "      <th>Fare_Amt</th>\n",
       "      <th>surcharge</th>\n",
       "      <th>mta_tax</th>\n",
       "      <th>Tip_Amt</th>\n",
       "      <th>Tolls_Amt</th>\n",
       "      <th>Total_Amt</th>\n",
       "      <th>tripDurationHours</th>\n",
       "      <th>tipPC</th>\n",
       "      <th>ZIPCODE_dep</th>\n",
       "      <th>ZIPCODE_des</th>\n",
       "      <th>income_departure</th>\n",
       "      <th>income_destination</th>\n",
       "      <th>Trip_Distance</th>\n",
       "    </tr>\n",
       "  </thead>\n",
       "  <tbody>\n",
       "    <tr>\n",
       "      <th>0</th>\n",
       "      <td>0</td>\n",
       "      <td>6.9</td>\n",
       "      <td>0.0</td>\n",
       "      <td>NaN</td>\n",
       "      <td>0.0</td>\n",
       "      <td>0.0</td>\n",
       "      <td>6.9</td>\n",
       "      <td>0.144167</td>\n",
       "      <td>0.0</td>\n",
       "      <td>10036</td>\n",
       "      <td>10011</td>\n",
       "      <td>120.643519</td>\n",
       "      <td>121.765217</td>\n",
       "      <td>1.60</td>\n",
       "    </tr>\n",
       "    <tr>\n",
       "      <th>1</th>\n",
       "      <td>1</td>\n",
       "      <td>6.9</td>\n",
       "      <td>0.0</td>\n",
       "      <td>NaN</td>\n",
       "      <td>0.0</td>\n",
       "      <td>0.0</td>\n",
       "      <td>6.9</td>\n",
       "      <td>0.199444</td>\n",
       "      <td>0.0</td>\n",
       "      <td>10036</td>\n",
       "      <td>10011</td>\n",
       "      <td>120.643519</td>\n",
       "      <td>121.765217</td>\n",
       "      <td>1.70</td>\n",
       "    </tr>\n",
       "    <tr>\n",
       "      <th>2</th>\n",
       "      <td>2</td>\n",
       "      <td>9.9</td>\n",
       "      <td>0.0</td>\n",
       "      <td>NaN</td>\n",
       "      <td>0.0</td>\n",
       "      <td>0.0</td>\n",
       "      <td>9.9</td>\n",
       "      <td>0.197222</td>\n",
       "      <td>0.0</td>\n",
       "      <td>10036</td>\n",
       "      <td>10011</td>\n",
       "      <td>120.643519</td>\n",
       "      <td>121.765217</td>\n",
       "      <td>2.30</td>\n",
       "    </tr>\n",
       "    <tr>\n",
       "      <th>3</th>\n",
       "      <td>3</td>\n",
       "      <td>7.3</td>\n",
       "      <td>0.0</td>\n",
       "      <td>NaN</td>\n",
       "      <td>0.0</td>\n",
       "      <td>0.0</td>\n",
       "      <td>7.3</td>\n",
       "      <td>0.150000</td>\n",
       "      <td>0.0</td>\n",
       "      <td>10036</td>\n",
       "      <td>10011</td>\n",
       "      <td>120.643519</td>\n",
       "      <td>121.765217</td>\n",
       "      <td>1.85</td>\n",
       "    </tr>\n",
       "    <tr>\n",
       "      <th>4</th>\n",
       "      <td>4</td>\n",
       "      <td>5.7</td>\n",
       "      <td>0.5</td>\n",
       "      <td>NaN</td>\n",
       "      <td>0.0</td>\n",
       "      <td>0.0</td>\n",
       "      <td>6.2</td>\n",
       "      <td>0.100000</td>\n",
       "      <td>0.0</td>\n",
       "      <td>10036</td>\n",
       "      <td>10011</td>\n",
       "      <td>120.643519</td>\n",
       "      <td>121.765217</td>\n",
       "      <td>1.37</td>\n",
       "    </tr>\n",
       "  </tbody>\n",
       "</table>\n",
       "</div>"
      ],
      "text/plain": [
       "   Unnamed: 0  Fare_Amt  surcharge  mta_tax  Tip_Amt  Tolls_Amt  Total_Amt  \\\n",
       "0           0       6.9        0.0      NaN      0.0        0.0        6.9   \n",
       "1           1       6.9        0.0      NaN      0.0        0.0        6.9   \n",
       "2           2       9.9        0.0      NaN      0.0        0.0        9.9   \n",
       "3           3       7.3        0.0      NaN      0.0        0.0        7.3   \n",
       "4           4       5.7        0.5      NaN      0.0        0.0        6.2   \n",
       "\n",
       "   tripDurationHours  tipPC  ZIPCODE_dep  ZIPCODE_des  income_departure  \\\n",
       "0           0.144167    0.0        10036        10011        120.643519   \n",
       "1           0.199444    0.0        10036        10011        120.643519   \n",
       "2           0.197222    0.0        10036        10011        120.643519   \n",
       "3           0.150000    0.0        10036        10011        120.643519   \n",
       "4           0.100000    0.0        10036        10011        120.643519   \n",
       "\n",
       "   income_destination  Trip_Distance  \n",
       "0          121.765217           1.60  \n",
       "1          121.765217           1.70  \n",
       "2          121.765217           2.30  \n",
       "3          121.765217           1.85  \n",
       "4          121.765217           1.37  "
      ]
     },
     "execution_count": 51,
     "metadata": {},
     "output_type": "execute_result"
    }
   ],
   "source": [
    "ycfinal = pd.read_csv(os.getenv(\"PUIDATA\") + \"/\" + 'yc200902_income_final.csv')\n",
    "ycfinal.head()"
   ]
  },
  {
   "cell_type": "code",
   "execution_count": 52,
   "metadata": {
    "collapsed": false
   },
   "outputs": [
    {
     "name": "stderr",
     "output_type": "stream",
     "text": [
      "/opt/rh/anaconda/root/envs/PUI2016_Python3/lib/python3.5/site-packages/numpy/lib/function_base.py:3403: RuntimeWarning: Invalid value encountered in median\n",
      "  RuntimeWarning)\n"
     ]
    },
    {
     "data": {
      "text/html": [
       "<div>\n",
       "<table border=\"1\" class=\"dataframe\">\n",
       "  <thead>\n",
       "    <tr style=\"text-align: right;\">\n",
       "      <th></th>\n",
       "      <th>Unnamed: 0</th>\n",
       "      <th>Fare_Amt</th>\n",
       "      <th>surcharge</th>\n",
       "      <th>mta_tax</th>\n",
       "      <th>Tip_Amt</th>\n",
       "      <th>Tolls_Amt</th>\n",
       "      <th>Total_Amt</th>\n",
       "      <th>tripDurationHours</th>\n",
       "      <th>tipPC</th>\n",
       "      <th>ZIPCODE_dep</th>\n",
       "      <th>ZIPCODE_des</th>\n",
       "      <th>income_departure</th>\n",
       "      <th>income_destination</th>\n",
       "      <th>Trip_Distance</th>\n",
       "    </tr>\n",
       "  </thead>\n",
       "  <tbody>\n",
       "    <tr>\n",
       "      <th>count</th>\n",
       "      <td>12253.000000</td>\n",
       "      <td>12253.000000</td>\n",
       "      <td>12253.000000</td>\n",
       "      <td>0.0</td>\n",
       "      <td>12253.000000</td>\n",
       "      <td>12253.000000</td>\n",
       "      <td>12253.000000</td>\n",
       "      <td>12253.000000</td>\n",
       "      <td>12253.000000</td>\n",
       "      <td>12253.000000</td>\n",
       "      <td>12253.000000</td>\n",
       "      <td>12253.000000</td>\n",
       "      <td>12253.000000</td>\n",
       "      <td>12253.000000</td>\n",
       "    </tr>\n",
       "    <tr>\n",
       "      <th>mean</th>\n",
       "      <td>6126.000000</td>\n",
       "      <td>9.249168</td>\n",
       "      <td>0.185302</td>\n",
       "      <td>NaN</td>\n",
       "      <td>0.465168</td>\n",
       "      <td>0.051938</td>\n",
       "      <td>9.955879</td>\n",
       "      <td>0.184321</td>\n",
       "      <td>0.048353</td>\n",
       "      <td>10075.033951</td>\n",
       "      <td>10125.507386</td>\n",
       "      <td>140.614077</td>\n",
       "      <td>135.066641</td>\n",
       "      <td>2.442429</td>\n",
       "    </tr>\n",
       "    <tr>\n",
       "      <th>std</th>\n",
       "      <td>3537.280759</td>\n",
       "      <td>6.425502</td>\n",
       "      <td>0.321453</td>\n",
       "      <td>NaN</td>\n",
       "      <td>1.203072</td>\n",
       "      <td>0.483253</td>\n",
       "      <td>7.146610</td>\n",
       "      <td>0.263452</td>\n",
       "      <td>0.151701</td>\n",
       "      <td>250.184172</td>\n",
       "      <td>335.458531</td>\n",
       "      <td>67.457681</td>\n",
       "      <td>72.409097</td>\n",
       "      <td>2.696968</td>\n",
       "    </tr>\n",
       "    <tr>\n",
       "      <th>min</th>\n",
       "      <td>0.000000</td>\n",
       "      <td>2.500000</td>\n",
       "      <td>0.000000</td>\n",
       "      <td>NaN</td>\n",
       "      <td>0.000000</td>\n",
       "      <td>0.000000</td>\n",
       "      <td>2.500000</td>\n",
       "      <td>-0.933333</td>\n",
       "      <td>0.000000</td>\n",
       "      <td>10001.000000</td>\n",
       "      <td>10001.000000</td>\n",
       "      <td>12.070212</td>\n",
       "      <td>12.070212</td>\n",
       "      <td>0.000000</td>\n",
       "    </tr>\n",
       "    <tr>\n",
       "      <th>25%</th>\n",
       "      <td>3063.000000</td>\n",
       "      <td>5.700000</td>\n",
       "      <td>0.000000</td>\n",
       "      <td>NaN</td>\n",
       "      <td>0.000000</td>\n",
       "      <td>0.000000</td>\n",
       "      <td>5.900000</td>\n",
       "      <td>0.096667</td>\n",
       "      <td>0.000000</td>\n",
       "      <td>10011.000000</td>\n",
       "      <td>10011.000000</td>\n",
       "      <td>111.452011</td>\n",
       "      <td>94.386319</td>\n",
       "      <td>1.000000</td>\n",
       "    </tr>\n",
       "    <tr>\n",
       "      <th>50%</th>\n",
       "      <td>6126.000000</td>\n",
       "      <td>7.400000</td>\n",
       "      <td>0.000000</td>\n",
       "      <td>NaN</td>\n",
       "      <td>0.000000</td>\n",
       "      <td>0.000000</td>\n",
       "      <td>8.050000</td>\n",
       "      <td>0.150000</td>\n",
       "      <td>0.000000</td>\n",
       "      <td>10018.000000</td>\n",
       "      <td>10019.000000</td>\n",
       "      <td>136.763861</td>\n",
       "      <td>121.765217</td>\n",
       "      <td>1.600000</td>\n",
       "    </tr>\n",
       "    <tr>\n",
       "      <th>75%</th>\n",
       "      <td>9189.000000</td>\n",
       "      <td>10.600000</td>\n",
       "      <td>0.500000</td>\n",
       "      <td>NaN</td>\n",
       "      <td>0.000000</td>\n",
       "      <td>0.000000</td>\n",
       "      <td>11.400000</td>\n",
       "      <td>0.233333</td>\n",
       "      <td>0.000000</td>\n",
       "      <td>10025.000000</td>\n",
       "      <td>10028.000000</td>\n",
       "      <td>170.259993</td>\n",
       "      <td>170.259993</td>\n",
       "      <td>2.860000</td>\n",
       "    </tr>\n",
       "    <tr>\n",
       "      <th>max</th>\n",
       "      <td>12252.000000</td>\n",
       "      <td>68.900000</td>\n",
       "      <td>1.000000</td>\n",
       "      <td>NaN</td>\n",
       "      <td>45.000000</td>\n",
       "      <td>12.450000</td>\n",
       "      <td>71.700000</td>\n",
       "      <td>23.983333</td>\n",
       "      <td>9.000000</td>\n",
       "      <td>11436.000000</td>\n",
       "      <td>11692.000000</td>\n",
       "      <td>430.402252</td>\n",
       "      <td>430.402252</td>\n",
       "      <td>31.430000</td>\n",
       "    </tr>\n",
       "  </tbody>\n",
       "</table>\n",
       "</div>"
      ],
      "text/plain": [
       "         Unnamed: 0      Fare_Amt     surcharge  mta_tax       Tip_Amt  \\\n",
       "count  12253.000000  12253.000000  12253.000000      0.0  12253.000000   \n",
       "mean    6126.000000      9.249168      0.185302      NaN      0.465168   \n",
       "std     3537.280759      6.425502      0.321453      NaN      1.203072   \n",
       "min        0.000000      2.500000      0.000000      NaN      0.000000   \n",
       "25%     3063.000000      5.700000      0.000000      NaN      0.000000   \n",
       "50%     6126.000000      7.400000      0.000000      NaN      0.000000   \n",
       "75%     9189.000000     10.600000      0.500000      NaN      0.000000   \n",
       "max    12252.000000     68.900000      1.000000      NaN     45.000000   \n",
       "\n",
       "          Tolls_Amt     Total_Amt  tripDurationHours         tipPC  \\\n",
       "count  12253.000000  12253.000000       12253.000000  12253.000000   \n",
       "mean       0.051938      9.955879           0.184321      0.048353   \n",
       "std        0.483253      7.146610           0.263452      0.151701   \n",
       "min        0.000000      2.500000          -0.933333      0.000000   \n",
       "25%        0.000000      5.900000           0.096667      0.000000   \n",
       "50%        0.000000      8.050000           0.150000      0.000000   \n",
       "75%        0.000000     11.400000           0.233333      0.000000   \n",
       "max       12.450000     71.700000          23.983333      9.000000   \n",
       "\n",
       "        ZIPCODE_dep   ZIPCODE_des  income_departure  income_destination  \\\n",
       "count  12253.000000  12253.000000      12253.000000        12253.000000   \n",
       "mean   10075.033951  10125.507386        140.614077          135.066641   \n",
       "std      250.184172    335.458531         67.457681           72.409097   \n",
       "min    10001.000000  10001.000000         12.070212           12.070212   \n",
       "25%    10011.000000  10011.000000        111.452011           94.386319   \n",
       "50%    10018.000000  10019.000000        136.763861          121.765217   \n",
       "75%    10025.000000  10028.000000        170.259993          170.259993   \n",
       "max    11436.000000  11692.000000        430.402252          430.402252   \n",
       "\n",
       "       Trip_Distance  \n",
       "count   12253.000000  \n",
       "mean        2.442429  \n",
       "std         2.696968  \n",
       "min         0.000000  \n",
       "25%         1.000000  \n",
       "50%         1.600000  \n",
       "75%         2.860000  \n",
       "max        31.430000  "
      ]
     },
     "execution_count": 52,
     "metadata": {},
     "output_type": "execute_result"
    }
   ],
   "source": [
    "ycfinal.describe()"
   ]
  },
  {
   "cell_type": "code",
   "execution_count": 53,
   "metadata": {
    "collapsed": false
   },
   "outputs": [
    {
     "data": {
      "text/plain": [
       "Text(0.5,1,'Original plot')"
      ]
     },
     "execution_count": 53,
     "metadata": {},
     "output_type": "execute_result"
    },
    {
     "data": {
      "image/png": "[encoded data removed]",
      "text/plain": [
       "<matplotlib.figure.Figure at 0x7ff1cb7db080>"
      ]
     },
     "metadata": {},
     "output_type": "display_data"
    }
   ],
   "source": [
    "fig = pl.figure(figsize=(20,10))\n",
    "fig.add_subplot(111)\n",
    "pl.scatter(ycfinal['tipPC'], ycfinal['tripDurationHours'])\n",
    "pl.xlabel('Total energy consumption (kBtu)', fontsize=20)\n",
    "pl.ylabel('Number of units', fontsize=20)\n",
    "pl.title('Original plot', fontsize = 24)\n"
   ]
  },
  {
   "cell_type": "code",
   "execution_count": 54,
   "metadata": {
    "collapsed": false
   },
   "outputs": [
    {
     "name": "stderr",
     "output_type": "stream",
     "text": [
      "/opt/rh/anaconda/root/envs/PUI2016_Python3/lib/python3.5/site-packages/pandas/computation/expressions.py:181: UserWarning: evaluating in Python space because the '*' operator is not supported by numexpr for the bool dtype, use '&' instead\n",
      "  unsupported[op_str]))\n"
     ]
    }
   ],
   "source": [
    "ycfinalCut = ycfinal[(ycfinal.tripDurationHours < 2) * (ycfinal.tipPC < 1)* (ycfinal.Trip_Distance < 15)* (ycfinal.Trip_Distance < 15)]"
   ]
  },
  {
   "cell_type": "code",
   "execution_count": 55,
   "metadata": {
    "collapsed": false
   },
   "outputs": [
    {
     "name": "stderr",
     "output_type": "stream",
     "text": [
      "/opt/rh/anaconda/root/envs/PUI2016_Python3/lib/python3.5/site-packages/numpy/lib/function_base.py:3403: RuntimeWarning: Invalid value encountered in median\n",
      "  RuntimeWarning)\n"
     ]
    },
    {
     "data": {
      "text/html": [
       "<div>\n",
       "<table border=\"1\" class=\"dataframe\">\n",
       "  <thead>\n",
       "    <tr style=\"text-align: right;\">\n",
       "      <th></th>\n",
       "      <th>Unnamed: 0</th>\n",
       "      <th>Fare_Amt</th>\n",
       "      <th>surcharge</th>\n",
       "      <th>mta_tax</th>\n",
       "      <th>Tip_Amt</th>\n",
       "      <th>Tolls_Amt</th>\n",
       "      <th>Total_Amt</th>\n",
       "      <th>tripDurationHours</th>\n",
       "      <th>tipPC</th>\n",
       "      <th>ZIPCODE_dep</th>\n",
       "      <th>ZIPCODE_des</th>\n",
       "      <th>income_departure</th>\n",
       "      <th>income_destination</th>\n",
       "      <th>Trip_Distance</th>\n",
       "    </tr>\n",
       "  </thead>\n",
       "  <tbody>\n",
       "    <tr>\n",
       "      <th>count</th>\n",
       "      <td>12085.000000</td>\n",
       "      <td>12085.000000</td>\n",
       "      <td>12085.000000</td>\n",
       "      <td>0.0</td>\n",
       "      <td>12085.000000</td>\n",
       "      <td>12085.000000</td>\n",
       "      <td>12085.000000</td>\n",
       "      <td>12085.000000</td>\n",
       "      <td>12085.000000</td>\n",
       "      <td>12085.000000</td>\n",
       "      <td>12085.000000</td>\n",
       "      <td>12085.000000</td>\n",
       "      <td>12085.000000</td>\n",
       "      <td>12085.000000</td>\n",
       "    </tr>\n",
       "    <tr>\n",
       "      <th>mean</th>\n",
       "      <td>6086.736036</td>\n",
       "      <td>8.799996</td>\n",
       "      <td>0.186595</td>\n",
       "      <td>NaN</td>\n",
       "      <td>0.428677</td>\n",
       "      <td>0.023724</td>\n",
       "      <td>9.443355</td>\n",
       "      <td>0.175342</td>\n",
       "      <td>0.046054</td>\n",
       "      <td>10066.050807</td>\n",
       "      <td>10116.062557</td>\n",
       "      <td>141.320260</td>\n",
       "      <td>135.939105</td>\n",
       "      <td>2.234210</td>\n",
       "    </tr>\n",
       "    <tr>\n",
       "      <th>std</th>\n",
       "      <td>3521.103458</td>\n",
       "      <td>5.078538</td>\n",
       "      <td>0.322233</td>\n",
       "      <td>NaN</td>\n",
       "      <td>0.984110</td>\n",
       "      <td>0.323441</td>\n",
       "      <td>5.571100</td>\n",
       "      <td>0.118562</td>\n",
       "      <td>0.095844</td>\n",
       "      <td>225.384626</td>\n",
       "      <td>319.167653</td>\n",
       "      <td>66.965255</td>\n",
       "      <td>72.040320</td>\n",
       "      <td>1.979161</td>\n",
       "    </tr>\n",
       "    <tr>\n",
       "      <th>min</th>\n",
       "      <td>0.000000</td>\n",
       "      <td>2.500000</td>\n",
       "      <td>0.000000</td>\n",
       "      <td>NaN</td>\n",
       "      <td>0.000000</td>\n",
       "      <td>0.000000</td>\n",
       "      <td>2.500000</td>\n",
       "      <td>-0.933333</td>\n",
       "      <td>0.000000</td>\n",
       "      <td>10001.000000</td>\n",
       "      <td>10001.000000</td>\n",
       "      <td>12.070212</td>\n",
       "      <td>12.070212</td>\n",
       "      <td>0.000000</td>\n",
       "    </tr>\n",
       "    <tr>\n",
       "      <th>25%</th>\n",
       "      <td>3043.000000</td>\n",
       "      <td>5.500000</td>\n",
       "      <td>0.000000</td>\n",
       "      <td>NaN</td>\n",
       "      <td>0.000000</td>\n",
       "      <td>0.000000</td>\n",
       "      <td>5.900000</td>\n",
       "      <td>0.095278</td>\n",
       "      <td>0.000000</td>\n",
       "      <td>10011.000000</td>\n",
       "      <td>10011.000000</td>\n",
       "      <td>111.452011</td>\n",
       "      <td>95.103886</td>\n",
       "      <td>0.990000</td>\n",
       "    </tr>\n",
       "    <tr>\n",
       "      <th>50%</th>\n",
       "      <td>6079.000000</td>\n",
       "      <td>7.300000</td>\n",
       "      <td>0.000000</td>\n",
       "      <td>NaN</td>\n",
       "      <td>0.000000</td>\n",
       "      <td>0.000000</td>\n",
       "      <td>7.900000</td>\n",
       "      <td>0.150000</td>\n",
       "      <td>0.000000</td>\n",
       "      <td>10018.000000</td>\n",
       "      <td>10019.000000</td>\n",
       "      <td>136.763861</td>\n",
       "      <td>121.765217</td>\n",
       "      <td>1.600000</td>\n",
       "    </tr>\n",
       "    <tr>\n",
       "      <th>75%</th>\n",
       "      <td>9115.000000</td>\n",
       "      <td>10.500000</td>\n",
       "      <td>0.500000</td>\n",
       "      <td>NaN</td>\n",
       "      <td>0.000000</td>\n",
       "      <td>0.000000</td>\n",
       "      <td>11.300000</td>\n",
       "      <td>0.233333</td>\n",
       "      <td>0.000000</td>\n",
       "      <td>10024.000000</td>\n",
       "      <td>10028.000000</td>\n",
       "      <td>170.259993</td>\n",
       "      <td>170.259993</td>\n",
       "      <td>2.800000</td>\n",
       "    </tr>\n",
       "    <tr>\n",
       "      <th>max</th>\n",
       "      <td>12252.000000</td>\n",
       "      <td>56.100000</td>\n",
       "      <td>1.000000</td>\n",
       "      <td>NaN</td>\n",
       "      <td>20.000000</td>\n",
       "      <td>10.000000</td>\n",
       "      <td>65.000000</td>\n",
       "      <td>1.633611</td>\n",
       "      <td>0.888889</td>\n",
       "      <td>11436.000000</td>\n",
       "      <td>11436.000000</td>\n",
       "      <td>430.402252</td>\n",
       "      <td>430.402252</td>\n",
       "      <td>14.900000</td>\n",
       "    </tr>\n",
       "  </tbody>\n",
       "</table>\n",
       "</div>"
      ],
      "text/plain": [
       "         Unnamed: 0      Fare_Amt     surcharge  mta_tax       Tip_Amt  \\\n",
       "count  12085.000000  12085.000000  12085.000000      0.0  12085.000000   \n",
       "mean    6086.736036      8.799996      0.186595      NaN      0.428677   \n",
       "std     3521.103458      5.078538      0.322233      NaN      0.984110   \n",
       "min        0.000000      2.500000      0.000000      NaN      0.000000   \n",
       "25%     3043.000000      5.500000      0.000000      NaN      0.000000   \n",
       "50%     6079.000000      7.300000      0.000000      NaN      0.000000   \n",
       "75%     9115.000000     10.500000      0.500000      NaN      0.000000   \n",
       "max    12252.000000     56.100000      1.000000      NaN     20.000000   \n",
       "\n",
       "          Tolls_Amt     Total_Amt  tripDurationHours         tipPC  \\\n",
       "count  12085.000000  12085.000000       12085.000000  12085.000000   \n",
       "mean       0.023724      9.443355           0.175342      0.046054   \n",
       "std        0.323441      5.571100           0.118562      0.095844   \n",
       "min        0.000000      2.500000          -0.933333      0.000000   \n",
       "25%        0.000000      5.900000           0.095278      0.000000   \n",
       "50%        0.000000      7.900000           0.150000      0.000000   \n",
       "75%        0.000000     11.300000           0.233333      0.000000   \n",
       "max       10.000000     65.000000           1.633611      0.888889   \n",
       "\n",
       "        ZIPCODE_dep   ZIPCODE_des  income_departure  income_destination  \\\n",
       "count  12085.000000  12085.000000      12085.000000        12085.000000   \n",
       "mean   10066.050807  10116.062557        141.320260          135.939105   \n",
       "std      225.384626    319.167653         66.965255           72.040320   \n",
       "min    10001.000000  10001.000000         12.070212           12.070212   \n",
       "25%    10011.000000  10011.000000        111.452011           95.103886   \n",
       "50%    10018.000000  10019.000000        136.763861          121.765217   \n",
       "75%    10024.000000  10028.000000        170.259993          170.259993   \n",
       "max    11436.000000  11436.000000        430.402252          430.402252   \n",
       "\n",
       "       Trip_Distance  \n",
       "count   12085.000000  \n",
       "mean        2.234210  \n",
       "std         1.979161  \n",
       "min         0.000000  \n",
       "25%         0.990000  \n",
       "50%         1.600000  \n",
       "75%         2.800000  \n",
       "max        14.900000  "
      ]
     },
     "execution_count": 55,
     "metadata": {},
     "output_type": "execute_result"
    }
   ],
   "source": [
    "ycfinalCut.describe()"
   ]
  },
  {
   "cell_type": "markdown",
   "metadata": {
    "run_control": {
     "frozen": false,
     "read_only": false
    }
   },
   "source": [
    "## 6. Plot the distribution of tip percentages and describe its first and second *moment*.    \n",
    "Remove outliers if needed, replot and see if the moments changed significantly."
   ]
  },
  {
   "cell_type": "markdown",
   "metadata": {
    "run_control": {
     "frozen": false,
     "read_only": false
    }
   },
   "source": [
    "##  7.   Test if the distribution is consistent with a Gaussian\n",
    "\n",
    "you have done this  several times, for example in HW 5 assignment 2"
   ]
  },
  {
   "cell_type": "code",
   "execution_count": 56,
   "metadata": {
    "collapsed": true
   },
   "outputs": [],
   "source": [
    "alpha = 0.05\n",
    "np.random.seed(999)\n",
    "dist_n = np.random.randn(1000) "
   ]
  },
  {
   "cell_type": "code",
   "execution_count": 57,
   "metadata": {
    "collapsed": false
   },
   "outputs": [
    {
     "data": {
      "text/plain": [
       "Text(0.5,1,'Gaussian Fit')"
      ]
     },
     "execution_count": 57,
     "metadata": {},
     "output_type": "execute_result"
    },
    {
     "data": {
      "image/png": "[encoded data removed]",
      "text/plain": [
       "<matplotlib.figure.Figure at 0x7ff1cb9ec320>"
      ]
     },
     "metadata": {},
     "output_type": "display_data"
    },
    {
     "data": {
      "image/png": "[encoded data removed]",
      "text/plain": [
       "<matplotlib.figure.Figure at 0x7ff234194e10>"
      ]
     },
     "metadata": {},
     "output_type": "display_data"
    },
    {
     "data": {
      "image/png": "[encoded data removed]",
      "text/plain": [
       "<matplotlib.figure.Figure at 0x7ff23414dc18>"
      ]
     },
     "metadata": {},
     "output_type": "display_data"
    }
   ],
   "source": [
    "fig = pl.figure(figsize=(20,10))\n",
    "fig.add_subplot(221)\n",
    "pl.hist(ycfinal['tipPC'])\n",
    "pl.xlabel('Tip Percentage', fontsize=20)\n",
    "pl.ylabel('Number of Occurences', fontsize=20)\n",
    "pl.title('Original plot', fontsize = 24)\n",
    "\n",
    "fig = pl.figure(figsize=(20,10))\n",
    "fig.add_subplot(222)\n",
    "pl.hist(ycfinalCut['tipPC'])\n",
    "pl.legend()\n",
    "pl.xlabel('Tip Percentage', fontsize=20)\n",
    "pl.ylabel('Number of Occurences', fontsize=20)\n",
    "pl.title('Filtered plot', fontsize = 24)\n",
    "\n",
    "\n",
    "fig = pl.figure(figsize=(20,10))\n",
    "fig.add_subplot(223)\n",
    "pl.hist(ycfinalCut['tipPC'])\n",
    "pl.hist(dist_n, alpha=0.5, label=\"Gaussian\")\n",
    "pl.legend()\n",
    "pl.xlabel('Tip Percentage', fontsize=20)\n",
    "pl.ylabel('Number of Occurences', fontsize=20)\n",
    "pl.title('Gaussian Fit', fontsize = 24)"
   ]
  },
  {
   "cell_type": "markdown",
   "metadata": {
    "run_control": {
     "frozen": false,
     "read_only": false
    }
   },
   "source": [
    "## 8.  Fit a line to taxi fare vs trip duration and to taxi fare vs trip distance to decide which variable between duration and distance \"contains more information\" when used with the fare.\n",
    "\n",
    "In the last step of the exercise you will model the *Tip Percentage* (endogenous variable) as a function of *Fare Amount* **and another variable** in a multivariate regression. In this step you will chose which variable you will include in that model. You can chose **trip duration** or **trip distance** as your second variable. Plot Fare Amount against each. Which of the two will be more useful in your multivariate model? Justify your answer. \n",
    "\n",
    "## 9. Remove outliers and assess if this has an effect this has on the model\n",
    "\n",
    "If appropriate (if there are obvious outliers) remove them and assess how that changes the model's predictive power: has the variance described by your model improved or not?"
   ]
  },
  {
   "cell_type": "code",
   "execution_count": 58,
   "metadata": {
    "collapsed": false,
    "scrolled": true
   },
   "outputs": [
    {
     "data": {
      "text/plain": [
       "Text(0.5,1,'Filtered plot')"
      ]
     },
     "execution_count": 58,
     "metadata": {},
     "output_type": "execute_result"
    },
    {
     "data": {
      "image/png": "[encoded data removed]",
      "text/plain": [
       "<matplotlib.figure.Figure at 0x7ff2341148d0>"
      ]
     },
     "metadata": {},
     "output_type": "display_data"
    },
    {
     "data": {
      "image/png": "[encoded data removed]",
      "text/plain": [
       "<matplotlib.figure.Figure at 0x7ff234090390>"
      ]
     },
     "metadata": {},
     "output_type": "display_data"
    },
    {
     "data": {
      "image/png": "[encoded data removed]",
      "text/plain": [
       "<matplotlib.figure.Figure at 0x7ff2340b62b0>"
      ]
     },
     "metadata": {},
     "output_type": "display_data"
    },
    {
     "data": {
      "image/png": "[encoded data removed]",
      "text/plain": [
       "<matplotlib.figure.Figure at 0x7ff23405c0f0>"
      ]
     },
     "metadata": {},
     "output_type": "display_data"
    }
   ],
   "source": [
    "fig = pl.figure(figsize=(20,10))\n",
    "fig.add_subplot(221)\n",
    "pl.scatter(ycfinal['Fare_Amt'], ycfinal['tripDurationHours'])\n",
    "pl.xlabel('Taxi Fare', fontsize=20)\n",
    "pl.ylabel('Trip Duration', fontsize=20)\n",
    "pl.title('Original plot', fontsize = 24)\n",
    "\n",
    "fig = pl.figure(figsize=(20,10))\n",
    "fig.add_subplot(222)\n",
    "pl.scatter(ycfinalCut['Fare_Amt'], ycfinalCut['tripDurationHours'])\n",
    "pl.xlabel('Taxi Fare', fontsize=20)\n",
    "pl.ylabel('Trip Duration', fontsize=20)\n",
    "pl.title('Filtered plot', fontsize = 24)\n",
    "\n",
    "fig = pl.figure(figsize=(20,10))\n",
    "fig.add_subplot(223)\n",
    "pl.scatter(ycfinal['Fare_Amt'], ycfinal['Trip_Distance'])\n",
    "pl.xlabel('Total energy consumption (kBtu)', fontsize=20)\n",
    "pl.ylabel('Number of units', fontsize=20)\n",
    "pl.title('Original plot', fontsize = 24)\n",
    "\n",
    "fig = pl.figure(figsize=(20,10))\n",
    "fig.add_subplot(224)\n",
    "pl.scatter(ycfinalCut['Fare_Amt'], ycfinalCut['Trip_Distance'])\n",
    "pl.xlabel('Taxi Fare', fontsize=20)\n",
    "pl.ylabel('Trip Distance', fontsize=20)\n",
    "pl.title('Filtered plot', fontsize = 24)"
   ]
  },
  {
   "cell_type": "markdown",
   "metadata": {
    "run_control": {
     "frozen": false,
     "read_only": false
    }
   },
   "source": [
    "You have fitted lines and curves in multiple HWs and labs: HW5, HW6, Lab5, Lab6. If you do it with statsmodels you get a variety of diagnostics with the .summary() method. In this case you just want to see which is the *more predictive* model. (why?)"
   ]
  },
  {
   "cell_type": "markdown",
   "metadata": {
    "run_control": {
     "frozen": false,
     "read_only": false
    }
   },
   "source": [
    "## 10.  Create two multivariate linear model to predict the tip percentage \n",
    "(Note: in class and in the HW you did linear models and quadratic models. A multivariate linear model is simply a linear model of multiple variables: y = ax + bz as opposed to y = ax \n",
    "With the formula package of slm it is easy to write a multivariate regression: just add each variable in the formula: \"y ~ x + z\")\n",
    "\n",
    "Your first model should have variables: trip fare amount, and one other, whichever you decide is best between trip duration and trip distance in step 8. \n",
    "\n",
    "Your second model should include the same exogenous variables, and also income at departure (income per person by zipcode) and at destination.\n",
    "\n",
    "## 11.  Compare multivariate linear model to predict the tip percentage and assess importance of socioeconomic variables\n",
    "Give a **rigorous answer** to the question: is the restricted model (only fare and duration/distance) better or worse than the complex model that includes income at departure at destination?  \n",
    "\n",
    "What about a model that contains only one income (at departure or destination)? Create the last two models, with duration/distance and fare and only one of the 2 incomes as exogenous variables. Is either of the model that includes the income (either median income at departure or median income at destination address) a better model than the restricted one that only includes fare amount and trip duration/distance? Which of those two latest models is better? You can answer all these questions rigorously (i.e. with p-values)."
   ]
  },
  {
   "cell_type": "markdown",
   "metadata": {
    "ExecuteTime": {
     "end_time": "2017-10-26T01:55:28.277028",
     "start_time": "2017-10-26T01:55:28.238022"
    },
    "run_control": {
     "frozen": false,
     "read_only": false
    }
   },
   "source": [
    "**What does this mean about our original question??**"
   ]
  },
  {
   "cell_type": "markdown",
   "metadata": {
    "collapsed": true,
    "run_control": {
     "frozen": false,
     "read_only": false
    }
   },
   "source": [
    "### The Data Correlation has not been established however the intemediate results can be observed. A Clear path has been set forward to establish the relationship of the problem however due to insufficient time the analysis could not be completed."
   ]
  },
  {
   "cell_type": "code",
   "execution_count": null,
   "metadata": {
    "collapsed": true
   },
   "outputs": [],
   "source": []
  }
 ],
 "metadata": {
  "_draft": {
   "nbviewer_url": "https://gist.github.com/4c2689ce4f28af6e186dd87d98330ac1"
  },
  "anaconda-cloud": {},
  "gist": {
   "data": {
    "description": "midterm2017_morning_instructions.ipynb",
    "public": false
   },
   "id": "4c2689ce4f28af6e186dd87d98330ac1"
  },
  "kernelspec": {
   "display_name": "PUI2016_Python3",
   "language": "python",
   "name": "pui2016_python3"
  },
  "language_info": {
   "codemirror_mode": {
    "name": "ipython",
    "version": 3
   },
   "file_extension": ".py",
   "mimetype": "text/x-python",
   "name": "python",
   "nbconvert_exporter": "python",
   "pygments_lexer": "ipython3",
   "version": "3.5.4"
  },
  "latex_envs": {
   "LaTeX_envs_menu_present": true,
   "bibliofile": "biblio.bib",
   "cite_by": "apalike",
   "current_citInitial": 1,
   "eqLabelWithNumbers": true,
   "eqNumInitial": 1,
   "hotkeys": {
    "equation": "Ctrl-E",
    "itemize": "Ctrl-I"
   },
   "labels_anchors": false,
   "latex_user_defs": false,
   "report_style_numbering": false,
   "user_envs_cfg": false
  },
  "toc": {
   "colors": {
    "hover_highlight": "#DAA520",
    "running_highlight": "#FF0000",
    "selected_highlight": "#FFD700"
   },
   "moveMenuLeft": true,
   "nav_menu": {
    "height": "512px",
    "width": "252px"
   },
   "navigate_menu": true,
   "number_sections": false,
   "sideBar": true,
   "threshold": 4,
   "toc_cell": false,
   "toc_section_display": "block",
   "toc_window_display": false
  }
 },
 "nbformat": 4,
 "nbformat_minor": 0
}
